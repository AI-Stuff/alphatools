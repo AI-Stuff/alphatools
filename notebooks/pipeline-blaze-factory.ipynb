{
 "cells": [
  {
   "cell_type": "code",
   "execution_count": 52,
   "metadata": {},
   "outputs": [],
   "source": [
    "import blaze as bz\n",
    "import numpy as np\n",
    "import pandas as pd\n",
    "import json\n",
    "from datashape import dshape\n",
    "\n",
    "from zipline.data import bundles\n",
    "from zipline.utils.calendars import get_calendar\n",
    "\n",
    "from zipline.pipeline import Pipeline\n",
    "from zipline.pipeline.data import USEquityPricing\n",
    "from zipline.pipeline.data import DataSet\n",
    "from zipline.pipeline.engine import SimplePipelineEngine\n",
    "from zipline.pipeline.filters import StaticAssets\n",
    "from zipline.pipeline.loaders import USEquityPricingLoader\n",
    "from zipline.pipeline.loaders.blaze import BlazeLoader, from_blaze"
   ]
  },
  {
   "cell_type": "code",
   "execution_count": 53,
   "metadata": {},
   "outputs": [],
   "source": [
    "trading_calendar = get_calendar('NYSE')\n",
    "bundle_data = bundles.load('quandl')"
   ]
  },
  {
   "cell_type": "code",
   "execution_count": 54,
   "metadata": {},
   "outputs": [],
   "source": [
    "with open('../alphatools/data/factory/data_sources.json') as f:\n",
    "    data_sources = json.load(f)"
   ]
  },
  {
   "cell_type": "code",
   "execution_count": 55,
   "metadata": {},
   "outputs": [
    {
     "data": {
      "text/plain": [
       "u'/Users/jonathan/devwork/alphatools/notebooks'"
      ]
     },
     "execution_count": 55,
     "metadata": {},
     "output_type": "execute_result"
    }
   ],
   "source": [
    "pwd"
   ]
  },
  {
   "cell_type": "code",
   "execution_count": 56,
   "metadata": {},
   "outputs": [],
   "source": [
    "loc = data_sources.keys()[0]\n",
    "shape = dshape(data_sources[loc]['schema'])"
   ]
  },
  {
   "cell_type": "code",
   "execution_count": null,
   "metadata": {},
   "outputs": [],
   "source": []
  },
  {
   "cell_type": "code",
   "execution_count": 57,
   "metadata": {},
   "outputs": [],
   "source": [
    "expr = bz.data(\n",
    "    '../alphatools/data/factory/' + loc,\n",
    "    dshape=shape\n",
    ")"
   ]
  },
  {
   "cell_type": "code",
   "execution_count": 58,
   "metadata": {},
   "outputs": [
    {
     "data": {
      "text/html": [
       "<table border=\"1\" class=\"dataframe\">\n",
       "  <thead>\n",
       "    <tr style=\"text-align: right;\">\n",
       "      <th></th>\n",
       "      <th>asof_date</th>\n",
       "      <th>sid</th>\n",
       "      <th>value</th>\n",
       "    </tr>\n",
       "  </thead>\n",
       "  <tbody>\n",
       "    <tr>\n",
       "      <th>0</th>\n",
       "      <td>2010-01-01</td>\n",
       "      <td>0</td>\n",
       "      <td>0.543405</td>\n",
       "    </tr>\n",
       "    <tr>\n",
       "      <th>1</th>\n",
       "      <td>2010-01-02</td>\n",
       "      <td>1</td>\n",
       "      <td>0.278369</td>\n",
       "    </tr>\n",
       "    <tr>\n",
       "      <th>2</th>\n",
       "      <td>2010-01-03</td>\n",
       "      <td>2</td>\n",
       "      <td>0.424518</td>\n",
       "    </tr>\n",
       "    <tr>\n",
       "      <th>3</th>\n",
       "      <td>2010-01-04</td>\n",
       "      <td>3</td>\n",
       "      <td>0.844776</td>\n",
       "    </tr>\n",
       "    <tr>\n",
       "      <th>4</th>\n",
       "      <td>2010-01-05</td>\n",
       "      <td>4</td>\n",
       "      <td>0.004719</td>\n",
       "    </tr>\n",
       "    <tr>\n",
       "      <th>5</th>\n",
       "      <td>2010-01-06</td>\n",
       "      <td>5</td>\n",
       "      <td>0.121569</td>\n",
       "    </tr>\n",
       "    <tr>\n",
       "      <th>6</th>\n",
       "      <td>2010-01-07</td>\n",
       "      <td>6</td>\n",
       "      <td>0.670749</td>\n",
       "    </tr>\n",
       "    <tr>\n",
       "      <th>7</th>\n",
       "      <td>2010-01-08</td>\n",
       "      <td>7</td>\n",
       "      <td>0.825853</td>\n",
       "    </tr>\n",
       "    <tr>\n",
       "      <th>8</th>\n",
       "      <td>2010-01-09</td>\n",
       "      <td>8</td>\n",
       "      <td>0.136707</td>\n",
       "    </tr>\n",
       "    <tr>\n",
       "      <th>9</th>\n",
       "      <td>2010-01-10</td>\n",
       "      <td>9</td>\n",
       "      <td>0.575093</td>\n",
       "    </tr>\n",
       "    <tr>\n",
       "      <th>10</th>\n",
       "      <td>2010-01-11</td>\n",
       "      <td>10</td>\n",
       "      <td>0.891322</td>\n",
       "    </tr>\n",
       "  </tbody>\n",
       "</table>"
      ],
      "text/plain": [
       "<'CSV' data; _name='_4', dshape='var * {  asof_date: datetime,  sid: int64,  value:...'>"
      ]
     },
     "execution_count": 58,
     "metadata": {},
     "output_type": "execute_result"
    }
   ],
   "source": [
    "expr"
   ]
  },
  {
   "cell_type": "code",
   "execution_count": 59,
   "metadata": {},
   "outputs": [
    {
     "data": {
      "text/plain": [
       "dshape(\"{asof_date: datetime, sid: int64, value: float64}\")"
      ]
     },
     "execution_count": 59,
     "metadata": {},
     "output_type": "execute_result"
    }
   ],
   "source": [
    "expr.schema"
   ]
  },
  {
   "cell_type": "code",
   "execution_count": 60,
   "metadata": {},
   "outputs": [],
   "source": [
    "# create and empty BlazeLoader\n",
    "my_blaze_loader = BlazeLoader()\n",
    "\n",
    "# create the DataSet\n",
    "ds = from_blaze(\n",
    "    expr,\n",
    "    no_deltas_rule='ignore',\n",
    "    no_checkpoints_rule='ignore',\n",
    "    loader=my_blaze_loader,\n",
    "    missing_values={'index':-1}\n",
    ")"
   ]
  },
  {
   "cell_type": "code",
   "execution_count": 61,
   "metadata": {},
   "outputs": [],
   "source": [
    "def choose_loader(column):\n",
    "    return my_blaze_loader"
   ]
  },
  {
   "cell_type": "code",
   "execution_count": 62,
   "metadata": {},
   "outputs": [],
   "source": [
    "engine = SimplePipelineEngine(\n",
    "    get_loader=choose_loader,\n",
    "    calendar=trading_calendar.all_sessions,\n",
    "    asset_finder=bundle_data.asset_finder,\n",
    ")"
   ]
  },
  {
   "cell_type": "code",
   "execution_count": 63,
   "metadata": {},
   "outputs": [],
   "source": [
    "assets = bundle_data.asset_finder.lookup_symbols(['A', 'AAL'], as_of_date=None)"
   ]
  },
  {
   "cell_type": "code",
   "execution_count": 64,
   "metadata": {},
   "outputs": [],
   "source": [
    "p = Pipeline(\n",
    "    columns={\n",
    "        'col_A': ds.value.latest,\n",
    "    },\n",
    "    screen=StaticAssets(assets)\n",
    ")"
   ]
  },
  {
   "cell_type": "code",
   "execution_count": 66,
   "metadata": {},
   "outputs": [],
   "source": [
    "df = engine.run_pipeline(\n",
    "    p,\n",
    "    pd.Timestamp('2016-01-05', tz='utc'),\n",
    "    pd.Timestamp('2018-01-04', tz='utc')\n",
    ")"
   ]
  },
  {
   "cell_type": "code",
   "execution_count": 67,
   "metadata": {},
   "outputs": [
    {
     "data": {
      "text/html": [
       "<div>\n",
       "<table border=\"1\" class=\"dataframe\">\n",
       "  <thead>\n",
       "    <tr style=\"text-align: right;\">\n",
       "      <th></th>\n",
       "      <th></th>\n",
       "      <th>col_A</th>\n",
       "    </tr>\n",
       "  </thead>\n",
       "  <tbody>\n",
       "    <tr>\n",
       "      <th rowspan=\"2\" valign=\"top\">2016-01-05 00:00:00+00:00</th>\n",
       "      <th>Equity(0 [A])</th>\n",
       "      <td>0.543405</td>\n",
       "    </tr>\n",
       "    <tr>\n",
       "      <th>Equity(2 [AAL])</th>\n",
       "      <td>0.424518</td>\n",
       "    </tr>\n",
       "    <tr>\n",
       "      <th rowspan=\"2\" valign=\"top\">2016-01-06 00:00:00+00:00</th>\n",
       "      <th>Equity(0 [A])</th>\n",
       "      <td>0.543405</td>\n",
       "    </tr>\n",
       "    <tr>\n",
       "      <th>Equity(2 [AAL])</th>\n",
       "      <td>0.424518</td>\n",
       "    </tr>\n",
       "    <tr>\n",
       "      <th>2016-01-07 00:00:00+00:00</th>\n",
       "      <th>Equity(0 [A])</th>\n",
       "      <td>0.543405</td>\n",
       "    </tr>\n",
       "  </tbody>\n",
       "</table>\n",
       "</div>"
      ],
      "text/plain": [
       "                                              col_A\n",
       "2016-01-05 00:00:00+00:00 Equity(0 [A])    0.543405\n",
       "                          Equity(2 [AAL])  0.424518\n",
       "2016-01-06 00:00:00+00:00 Equity(0 [A])    0.543405\n",
       "                          Equity(2 [AAL])  0.424518\n",
       "2016-01-07 00:00:00+00:00 Equity(0 [A])    0.543405"
      ]
     },
     "execution_count": 67,
     "metadata": {},
     "output_type": "execute_result"
    }
   ],
   "source": [
    "df.head()"
   ]
  },
  {
   "cell_type": "code",
   "execution_count": null,
   "metadata": {},
   "outputs": [],
   "source": []
  },
  {
   "cell_type": "code",
   "execution_count": null,
   "metadata": {},
   "outputs": [],
   "source": []
  },
  {
   "cell_type": "code",
   "execution_count": null,
   "metadata": {},
   "outputs": [],
   "source": []
  }
 ],
 "metadata": {
  "kernelspec": {
   "display_name": "Python 2.7 (py27_clean)",
   "language": "python",
   "name": "py27_clean"
  },
  "language_info": {
   "codemirror_mode": {
    "name": "ipython",
    "version": 2
   },
   "file_extension": ".py",
   "mimetype": "text/x-python",
   "name": "python",
   "nbconvert_exporter": "python",
   "pygments_lexer": "ipython2",
   "version": "2.7.15"
  }
 },
 "nbformat": 4,
 "nbformat_minor": 2
}
