{
 "cells": [
  {
   "cell_type": "code",
   "execution_count": 22,
   "metadata": {},
   "outputs": [],
   "source": [
    "import blaze as bz\n",
    "import numpy as np\n",
    "import pandas as pd\n",
    "import json\n",
    "from datashape import dshape\n",
    "\n",
    "from zipline.data import bundles\n",
    "from zipline.utils.calendars import get_calendar\n",
    "\n",
    "from zipline.pipeline import Pipeline\n",
    "from zipline.pipeline.data import USEquityPricing\n",
    "from zipline.pipeline.data import DataSet\n",
    "from zipline.pipeline.engine import SimplePipelineEngine\n",
    "from zipline.pipeline.filters import StaticAssets\n",
    "from zipline.pipeline.loaders import USEquityPricingLoader\n",
    "from zipline.pipeline.loaders.blaze import BlazeLoader, from_blaze"
   ]
  },
  {
   "cell_type": "code",
   "execution_count": 23,
   "metadata": {},
   "outputs": [],
   "source": [
    "from alphatools.research import loaders, blaze_loader\n",
    "from alphatools.research import run_pipeline"
   ]
  },
  {
   "cell_type": "code",
   "execution_count": 25,
   "metadata": {},
   "outputs": [],
   "source": [
    "with open('../alphatools/data/factory/data_sources.json') as f:\n",
    "    data_sources = json.load(f)"
   ]
  },
  {
   "cell_type": "code",
   "execution_count": 26,
   "metadata": {},
   "outputs": [],
   "source": [
    "Factory = {}\n",
    "\n",
    "for source in data_sources.keys():\n",
    "    loc = data_sources[source]['url']\n",
    "    shape = dshape(data_sources[source]['schema'])\n",
    "\n",
    "    expr = bz.data(\n",
    "    '../alphatools/data/factory/' + loc,\n",
    "    dshape=shape\n",
    "    )\n",
    "    \n",
    "    # create the DataSet\n",
    "    ds = from_blaze(\n",
    "        expr,\n",
    "        no_deltas_rule='ignore',\n",
    "        no_checkpoints_rule='ignore',\n",
    "        loader=blaze_loader,\n",
    "        missing_values={'index':-1}\n",
    "    )\n",
    "    Factory = {source: ds}"
   ]
  },
  {
   "cell_type": "code",
   "execution_count": 27,
   "metadata": {},
   "outputs": [
    {
     "data": {
      "text/plain": [
       "{u'sample': <DataSet: 'BlazeDataSet_1'>}"
      ]
     },
     "execution_count": 27,
     "metadata": {},
     "output_type": "execute_result"
    }
   ],
   "source": [
    "Factory"
   ]
  },
  {
   "cell_type": "code",
   "execution_count": 7,
   "metadata": {},
   "outputs": [],
   "source": []
  },
  {
   "cell_type": "code",
   "execution_count": 10,
   "metadata": {},
   "outputs": [],
   "source": []
  },
  {
   "cell_type": "code",
   "execution_count": 15,
   "metadata": {},
   "outputs": [],
   "source": []
  },
  {
   "cell_type": "code",
   "execution_count": 16,
   "metadata": {},
   "outputs": [],
   "source": [
    "assets = bundle_data.asset_finder.lookup_symbols(['A', 'AAL'], as_of_date=None)"
   ]
  },
  {
   "cell_type": "code",
   "execution_count": 28,
   "metadata": {},
   "outputs": [],
   "source": [
    "p = Pipeline(\n",
    "    columns={\n",
    "        'col_A': Factory['sample'].value.latest,\n",
    "    },\n",
    "    screen=StaticAssets(assets)\n",
    ")"
   ]
  },
  {
   "cell_type": "code",
   "execution_count": 29,
   "metadata": {},
   "outputs": [],
   "source": [
    "df = run_pipeline(\n",
    "    p,\n",
    "    pd.Timestamp('2016-01-05', tz='utc'),\n",
    "    pd.Timestamp('2018-01-04', tz='utc')\n",
    ")"
   ]
  },
  {
   "cell_type": "code",
   "execution_count": 30,
   "metadata": {},
   "outputs": [
    {
     "data": {
      "text/html": [
       "<div>\n",
       "<table border=\"1\" class=\"dataframe\">\n",
       "  <thead>\n",
       "    <tr style=\"text-align: right;\">\n",
       "      <th></th>\n",
       "      <th></th>\n",
       "      <th>col_A</th>\n",
       "    </tr>\n",
       "  </thead>\n",
       "  <tbody>\n",
       "    <tr>\n",
       "      <th rowspan=\"2\" valign=\"top\">2016-01-05 00:00:00+00:00</th>\n",
       "      <th>Equity(0 [A])</th>\n",
       "      <td>0.543405</td>\n",
       "    </tr>\n",
       "    <tr>\n",
       "      <th>Equity(2 [AAL])</th>\n",
       "      <td>0.424518</td>\n",
       "    </tr>\n",
       "    <tr>\n",
       "      <th rowspan=\"2\" valign=\"top\">2016-01-06 00:00:00+00:00</th>\n",
       "      <th>Equity(0 [A])</th>\n",
       "      <td>0.543405</td>\n",
       "    </tr>\n",
       "    <tr>\n",
       "      <th>Equity(2 [AAL])</th>\n",
       "      <td>0.424518</td>\n",
       "    </tr>\n",
       "    <tr>\n",
       "      <th>2016-01-07 00:00:00+00:00</th>\n",
       "      <th>Equity(0 [A])</th>\n",
       "      <td>0.543405</td>\n",
       "    </tr>\n",
       "  </tbody>\n",
       "</table>\n",
       "</div>"
      ],
      "text/plain": [
       "                                              col_A\n",
       "2016-01-05 00:00:00+00:00 Equity(0 [A])    0.543405\n",
       "                          Equity(2 [AAL])  0.424518\n",
       "2016-01-06 00:00:00+00:00 Equity(0 [A])    0.543405\n",
       "                          Equity(2 [AAL])  0.424518\n",
       "2016-01-07 00:00:00+00:00 Equity(0 [A])    0.543405"
      ]
     },
     "execution_count": 30,
     "metadata": {},
     "output_type": "execute_result"
    }
   ],
   "source": [
    "df.head()"
   ]
  },
  {
   "cell_type": "code",
   "execution_count": null,
   "metadata": {},
   "outputs": [],
   "source": []
  },
  {
   "cell_type": "code",
   "execution_count": null,
   "metadata": {},
   "outputs": [],
   "source": []
  },
  {
   "cell_type": "code",
   "execution_count": null,
   "metadata": {},
   "outputs": [],
   "source": []
  }
 ],
 "metadata": {
  "kernelspec": {
   "display_name": "Python 2.7 (py27_clean)",
   "language": "python",
   "name": "py27_clean"
  },
  "language_info": {
   "codemirror_mode": {
    "name": "ipython",
    "version": 2
   },
   "file_extension": ".py",
   "mimetype": "text/x-python",
   "name": "python",
   "nbconvert_exporter": "python",
   "pygments_lexer": "ipython2",
   "version": "2.7.15"
  }
 },
 "nbformat": 4,
 "nbformat_minor": 2
}
