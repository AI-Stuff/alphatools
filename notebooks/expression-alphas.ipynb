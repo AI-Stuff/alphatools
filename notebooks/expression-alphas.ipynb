{
 "cells": [
  {
   "cell_type": "code",
   "execution_count": 1,
   "metadata": {},
   "outputs": [],
   "source": [
    "from alphatools.research import run_pipeline, make_factor_plot\n",
    "from alphatools.expression import ExpressionAlpha\n",
    "from alphatools.ics import Sector\n",
    "from zipline.pipeline.factors import AverageDollarVolume\n",
    "from zipline.pipeline import Pipeline"
   ]
  },
  {
   "cell_type": "code",
   "execution_count": 2,
   "metadata": {},
   "outputs": [],
   "source": [
    "universe = AverageDollarVolume(window_length=120).top(500)"
   ]
  },
  {
   "cell_type": "code",
   "execution_count": 3,
   "metadata": {},
   "outputs": [],
   "source": [
    "expressions = {\n",
    "    8:  '-1*rank(((sum(opens, 5)*sum(returns, 5))-delay((sum(opens, 5)*sum(returns, 5)),10)))', \n",
    "    53: '(-1*delta((((close-low) - (high-close)) / (close-low)), 9))',\n",
    "    101: '((close - opens) / ((high - low) + .001))',\n",
    "    102: 'scale((close > delay(close, 1)) ? opens : delay(opens, 1))',\n",
    "    103: 'stddev(max(close, 20), 10)',\n",
    "    104: 'product(1+returns, 20)',\n",
    "    105: 'indneutralize(close, IndClass.subindustry)'\n",
    "}\n"
   ]
  },
  {
   "cell_type": "code",
   "execution_count": 4,
   "metadata": {},
   "outputs": [],
   "source": [
    "e = ExpressionAlpha(expressions[104])"
   ]
  },
  {
   "cell_type": "code",
   "execution_count": 5,
   "metadata": {},
   "outputs": [
    {
     "name": "stdout",
     "output_type": "stream",
     "text": [
      "product\n",
      "  plus\n",
      "    number\t1\n",
      "    returns\n",
      "  20\n",
      "\n"
     ]
    }
   ],
   "source": [
    "e.parse()\n",
    "print(e.tree.pretty())"
   ]
  },
  {
   "cell_type": "code",
   "execution_count": 6,
   "metadata": {},
   "outputs": [
    {
     "data": {
      "text/plain": [
       "<alphatools.expression.expression.ExpressionAlpha instance at 0x1c11c48e18>"
      ]
     },
     "execution_count": 6,
     "metadata": {},
     "output_type": "execute_result"
    }
   ],
   "source": [
    "e.transform()"
   ]
  },
  {
   "cell_type": "code",
   "execution_count": 7,
   "metadata": {},
   "outputs": [
    {
     "data": {
      "text/plain": [
       "2"
      ]
     },
     "execution_count": 7,
     "metadata": {},
     "output_type": "execute_result"
    }
   ],
   "source": [
    "max([1,2])\n"
   ]
  },
  {
   "cell_type": "code",
   "execution_count": 8,
   "metadata": {},
   "outputs": [
    {
     "name": "stdout",
     "output_type": "stream",
     "text": [
      "class ExprAlpha_1(CustomFactor):\n",
      "    inputs = [Returns(window_length=2), USEP.open, USEP.high,\n",
      "              USEP.low, USEP.close, USEP.volume]\n",
      "    window_length = 22\n",
      "\n",
      "    def compute(self, today, assets, out, returns, opens, high, low, close, volume):\n",
      "        v0 = 1 + returns\n",
      "        v1 = pd.DataFrame(data=v0).rolling(\n",
      "            window=20, center=False, min_periods=1).apply(lambda x: np.prod(x)).values\n",
      "        out[:] = v1[-1]\n",
      "\n"
     ]
    }
   ],
   "source": [
    "e.generate_pipeline_code()\n",
    "print(e.pipeline_code)"
   ]
  },
  {
   "cell_type": "code",
   "execution_count": 9,
   "metadata": {},
   "outputs": [
    {
     "data": {
      "text/plain": [
       "instance"
      ]
     },
     "execution_count": 9,
     "metadata": {},
     "output_type": "execute_result"
    }
   ],
   "source": [
    "type(ExpressionAlpha(expressions[101]))"
   ]
  },
  {
   "cell_type": "code",
   "execution_count": 10,
   "metadata": {},
   "outputs": [],
   "source": [
    "one_o_one = (\n",
    "    ExpressionAlpha(expressions[101]).\n",
    "    make_pipeline_factor()\n",
    ")"
   ]
  },
  {
   "cell_type": "code",
   "execution_count": 11,
   "metadata": {},
   "outputs": [],
   "source": [
    "expr_factor = (\n",
    "    ExpressionAlpha('rank(log(close/delay(close, 5)))').\n",
    "    make_pipeline_factor().\n",
    "    pipeline_factor(mask=universe)\n",
    ")"
   ]
  },
  {
   "cell_type": "code",
   "execution_count": 12,
   "metadata": {},
   "outputs": [],
   "source": [
    "p = Pipeline(screen=universe)\n",
    "p.add(e.make_pipeline_factor().pipeline_factor(mask=universe), \"Expression Alpha\")\n",
    "p.add(Sector(), \"Sector\")\n",
    "\n",
    "start_date = '2017-01-06'\n",
    "end_date = '2017-12-28'\n",
    "\n",
    "df = run_pipeline(p, start_date, end_date)"
   ]
  },
  {
   "cell_type": "code",
   "execution_count": 14,
   "metadata": {},
   "outputs": [
    {
     "data": {
      "text/html": [
       "<div>\n",
       "<table border=\"1\" class=\"dataframe\">\n",
       "  <thead>\n",
       "    <tr style=\"text-align: right;\">\n",
       "      <th></th>\n",
       "      <th></th>\n",
       "      <th>Expression Alpha</th>\n",
       "      <th>Sector</th>\n",
       "    </tr>\n",
       "  </thead>\n",
       "  <tbody>\n",
       "    <tr>\n",
       "      <th rowspan=\"5\" valign=\"top\">2017-01-06 00:00:00+00:00</th>\n",
       "      <th>Equity(0 [A])</th>\n",
       "      <td>1.040918</td>\n",
       "      <td>0</td>\n",
       "    </tr>\n",
       "    <tr>\n",
       "      <th>Equity(2 [AAL])</th>\n",
       "      <td>0.988370</td>\n",
       "      <td>2</td>\n",
       "    </tr>\n",
       "    <tr>\n",
       "      <th>Equity(7 [AAP])</th>\n",
       "      <td>0.992088</td>\n",
       "      <td>2</td>\n",
       "    </tr>\n",
       "    <tr>\n",
       "      <th>Equity(8 [AAPL])</th>\n",
       "      <td>1.060573</td>\n",
       "      <td>6</td>\n",
       "    </tr>\n",
       "    <tr>\n",
       "      <th>Equity(12 [ABBV])</th>\n",
       "      <td>1.034891</td>\n",
       "      <td>0</td>\n",
       "    </tr>\n",
       "  </tbody>\n",
       "</table>\n",
       "</div>"
      ],
      "text/plain": [
       "                                             Expression Alpha  Sector\n",
       "2017-01-06 00:00:00+00:00 Equity(0 [A])              1.040918       0\n",
       "                          Equity(2 [AAL])            0.988370       2\n",
       "                          Equity(7 [AAP])            0.992088       2\n",
       "                          Equity(8 [AAPL])           1.060573       6\n",
       "                          Equity(12 [ABBV])          1.034891       0"
      ]
     },
     "execution_count": 14,
     "metadata": {},
     "output_type": "execute_result"
    }
   ],
   "source": [
    "df.head()"
   ]
  },
  {
   "cell_type": "code",
   "execution_count": 45,
   "metadata": {},
   "outputs": [
    {
     "name": "stdout",
     "output_type": "stream",
     "text": [
      "Formatting factor data for: Expression Alpha\n",
      "Dropped 0.5% entries from factor data: 0.5% in forward returns computation and 0.0% in binning phase (set max_loss=0 to see potentially suppressed Exceptions).\n",
      "max_loss is 35.0%, not exceeded: OK!\n",
      "Time to get arrange factor data: 5.19 secs\n",
      "Time to generate long/short returns: 0.56 secs\n"
     ]
    },
    {
     "data": {
      "image/png": "[encoded data removed]",
      "text/plain": [
       "<Figure size 432x288 with 1 Axes>"
      ]
     },
     "metadata": {},
     "output_type": "display_data"
    }
   ],
   "source": [
    "make_factor_plot(df, start_date, end_date);"
   ]
  },
  {
   "cell_type": "code",
   "execution_count": null,
   "metadata": {},
   "outputs": [],
   "source": []
  },
  {
   "cell_type": "code",
   "execution_count": 15,
   "metadata": {},
   "outputs": [],
   "source": [
    "e = ExpressionAlpha('rank(log(close/delay(opens, 5)))').parse().transform().generate_pipeline_code()"
   ]
  },
  {
   "cell_type": "code",
   "execution_count": 16,
   "metadata": {},
   "outputs": [
    {
     "name": "stdout",
     "output_type": "stream",
     "text": [
      "class ExprAlpha_1(CustomFactor):\n",
      "    inputs = [Returns(window_length=2), USEP.open, USEP.high,\n",
      "              USEP.low, USEP.close, USEP.volume]\n",
      "    window_length = 7\n",
      "\n",
      "    def compute(self, today, assets, out, returns, opens, high, low, close, volume):\n",
      "        v34 = np.roll(opens, 5)\n",
      "        v35 = close / v34\n",
      "        v36 = np.log(v35)\n",
      "        v37 = np.apply_along_axis(rankdata, 1, v36)\n",
      "        out[:] = v37[-1]\n",
      "\n"
     ]
    }
   ],
   "source": [
    "print(e.pipeline_code)"
   ]
  },
  {
   "cell_type": "code",
   "execution_count": 17,
   "metadata": {},
   "outputs": [
    {
     "data": {
      "text/plain": [
       "array([[ 0.77132064,  0.02075195],\n",
       "       [ 0.63364823,  0.74880388],\n",
       "       [ 0.49850701,  0.22479665],\n",
       "       [ 0.19806286,  0.76053071],\n",
       "       [ 0.16911084,  0.08833981],\n",
       "       [ 0.68535982,  0.95339335],\n",
       "       [ 0.00394827,  0.51219226],\n",
       "       [ 0.81262096,  0.61252607],\n",
       "       [ 0.72175532,  0.29187607],\n",
       "       [ 0.91777412,  0.71457578]])"
      ]
     },
     "execution_count": 17,
     "metadata": {},
     "output_type": "execute_result"
    }
   ],
   "source": [
    "a"
   ]
  },
  {
   "cell_type": "code",
   "execution_count": 18,
   "metadata": {},
   "outputs": [
    {
     "data": {
      "text/plain": [
       "array([[ 0.54254437,  0.14217005],\n",
       "       [ 0.37334076,  0.67413362],\n",
       "       [ 0.44183317,  0.43401399],\n",
       "       [ 0.61776698,  0.51313824],\n",
       "       [ 0.65039718,  0.60103895],\n",
       "       [ 0.8052232 ,  0.52164715],\n",
       "       [ 0.90864888,  0.31923609],\n",
       "       [ 0.09045935,  0.30070006],\n",
       "       [ 0.11398436,  0.82868133],\n",
       "       [ 0.04689632,  0.62628715]])"
      ]
     },
     "execution_count": 18,
     "metadata": {},
     "output_type": "execute_result"
    }
   ],
   "source": [
    "b"
   ]
  },
  {
   "cell_type": "code",
   "execution_count": 86,
   "metadata": {},
   "outputs": [],
   "source": [
    "def column_corr((a, b), window=-1):\n",
    "    if window==-1:\n",
    "        window = a.shape[0]\n",
    "    out = np.zeros(shape = (1, a.shape[1]))\n",
    "    for i in xrange(a.shape[1]-1):\n",
    "        out[i] = pearsonr(a[-window:, i], b[-window:, i])[0]\n",
    "    return out\n",
    "        "
   ]
  },
  {
   "cell_type": "code",
   "execution_count": 14,
   "metadata": {},
   "outputs": [],
   "source": [
    "import numpy as np\n",
    "import pandas as pd\n",
    "from scipy.stats import pearsonr\n",
    "np.random.seed(10)\n",
    "a = np.random.random(30).reshape(10,3)\n",
    "b = np.random.random(30).reshape(10,3)"
   ]
  },
  {
   "cell_type": "code",
   "execution_count": 15,
   "metadata": {},
   "outputs": [],
   "source": [
    "def roll_corr((a, b), window):\n",
    "    out = np.ones_like(a)*np.nan\n",
    "    for i in xrange(window-1, a.shape[0]):   # 2- 10\n",
    "        #print \"%d --> %d\" % ((i-(window-1)), i)\n",
    "        for j in xrange(a.shape[1]):\n",
    "            out[i, j] = pearsonr(\n",
    "                a[(i-(window-1)):(i), j], b[(i-(window-1)):(i), j]\n",
    "            )[0]\n",
    "    return out"
   ]
  },
  {
   "cell_type": "code",
   "execution_count": 16,
   "metadata": {},
   "outputs": [
    {
     "name": "stdout",
     "output_type": "stream",
     "text": [
      "1000 loops, best of 3: 645 µs per loop\n"
     ]
    }
   ],
   "source": [
    "%%timeit\n",
    "out = roll_corr((a,b), window=5)"
   ]
  },
  {
   "cell_type": "code",
   "execution_count": 17,
   "metadata": {},
   "outputs": [],
   "source": [
    "a_1 = pd.DataFrame(a)\n",
    "b_1 = pd.DataFrame(b)\n",
    "\n"
   ]
  },
  {
   "cell_type": "code",
   "execution_count": 23,
   "metadata": {},
   "outputs": [
    {
     "name": "stderr",
     "output_type": "stream",
     "text": [
      "/anaconda3/envs/py27_clean/lib/python2.7/site-packages/ipykernel_launcher.py:257: FutureWarning: pd.rolling_corr is deprecated for DataFrame and will be removed in a future version, replace with \n",
      "\tDataFrame.rolling(window=5).corr(other=<DataFrame>)\n"
     ]
    },
    {
     "name": "stdout",
     "output_type": "stream",
     "text": [
      "100 loops, best of 3: 10.1 ms per loop\n"
     ]
    }
   ],
   "source": [
    "%%timeit\n",
    "out = pd.rolling_corr(arg1=a_1, arg2=b_1, window=5)"
   ]
  },
  {
   "cell_type": "code",
   "execution_count": 21,
   "metadata": {},
   "outputs": [
    {
     "data": {
      "text/html": [
       "<div>\n",
       "<table border=\"1\" class=\"dataframe\">\n",
       "  <thead>\n",
       "    <tr style=\"text-align: right;\">\n",
       "      <th></th>\n",
       "      <th>0</th>\n",
       "      <th>1</th>\n",
       "      <th>2</th>\n",
       "    </tr>\n",
       "  </thead>\n",
       "  <tbody>\n",
       "    <tr>\n",
       "      <th>0</th>\n",
       "      <td>NaN</td>\n",
       "      <td>NaN</td>\n",
       "      <td>NaN</td>\n",
       "    </tr>\n",
       "    <tr>\n",
       "      <th>1</th>\n",
       "      <td>NaN</td>\n",
       "      <td>NaN</td>\n",
       "      <td>NaN</td>\n",
       "    </tr>\n",
       "    <tr>\n",
       "      <th>2</th>\n",
       "      <td>NaN</td>\n",
       "      <td>NaN</td>\n",
       "      <td>NaN</td>\n",
       "    </tr>\n",
       "    <tr>\n",
       "      <th>3</th>\n",
       "      <td>NaN</td>\n",
       "      <td>NaN</td>\n",
       "      <td>NaN</td>\n",
       "    </tr>\n",
       "    <tr>\n",
       "      <th>4</th>\n",
       "      <td>0.441993</td>\n",
       "      <td>0.254435</td>\n",
       "      <td>0.707801</td>\n",
       "    </tr>\n",
       "    <tr>\n",
       "      <th>5</th>\n",
       "      <td>0.314446</td>\n",
       "      <td>0.233392</td>\n",
       "      <td>0.425191</td>\n",
       "    </tr>\n",
       "    <tr>\n",
       "      <th>6</th>\n",
       "      <td>0.243755</td>\n",
       "      <td>-0.441434</td>\n",
       "      <td>0.352801</td>\n",
       "    </tr>\n",
       "    <tr>\n",
       "      <th>7</th>\n",
       "      <td>0.281139</td>\n",
       "      <td>-0.864357</td>\n",
       "      <td>-0.192409</td>\n",
       "    </tr>\n",
       "    <tr>\n",
       "      <th>8</th>\n",
       "      <td>0.543645</td>\n",
       "      <td>-0.925822</td>\n",
       "      <td>-0.563786</td>\n",
       "    </tr>\n",
       "    <tr>\n",
       "      <th>9</th>\n",
       "      <td>0.445918</td>\n",
       "      <td>-0.784808</td>\n",
       "      <td>-0.532234</td>\n",
       "    </tr>\n",
       "  </tbody>\n",
       "</table>\n",
       "</div>"
      ],
      "text/plain": [
       "          0         1         2\n",
       "0       NaN       NaN       NaN\n",
       "1       NaN       NaN       NaN\n",
       "2       NaN       NaN       NaN\n",
       "3       NaN       NaN       NaN\n",
       "4  0.441993  0.254435  0.707801\n",
       "5  0.314446  0.233392  0.425191\n",
       "6  0.243755 -0.441434  0.352801\n",
       "7  0.281139 -0.864357 -0.192409\n",
       "8  0.543645 -0.925822 -0.563786\n",
       "9  0.445918 -0.784808 -0.532234"
      ]
     },
     "execution_count": 21,
     "metadata": {},
     "output_type": "execute_result"
    }
   ],
   "source": [
    "out"
   ]
  },
  {
   "cell_type": "code",
   "execution_count": 26,
   "metadata": {},
   "outputs": [],
   "source": [
    "\n",
    "out = a_1.rolling(5,5).apply(lambda x: np.prod(x))"
   ]
  },
  {
   "cell_type": "code",
   "execution_count": 27,
   "metadata": {},
   "outputs": [
    {
     "data": {
      "text/html": [
       "<div>\n",
       "<table border=\"1\" class=\"dataframe\">\n",
       "  <thead>\n",
       "    <tr style=\"text-align: right;\">\n",
       "      <th></th>\n",
       "      <th>0</th>\n",
       "      <th>1</th>\n",
       "      <th>2</th>\n",
       "    </tr>\n",
       "  </thead>\n",
       "  <tbody>\n",
       "    <tr>\n",
       "      <th>0</th>\n",
       "      <td>NaN</td>\n",
       "      <td>NaN</td>\n",
       "      <td>NaN</td>\n",
       "    </tr>\n",
       "    <tr>\n",
       "      <th>1</th>\n",
       "      <td>NaN</td>\n",
       "      <td>NaN</td>\n",
       "      <td>NaN</td>\n",
       "    </tr>\n",
       "    <tr>\n",
       "      <th>2</th>\n",
       "      <td>NaN</td>\n",
       "      <td>NaN</td>\n",
       "      <td>NaN</td>\n",
       "    </tr>\n",
       "    <tr>\n",
       "      <th>3</th>\n",
       "      <td>NaN</td>\n",
       "      <td>NaN</td>\n",
       "      <td>NaN</td>\n",
       "    </tr>\n",
       "    <tr>\n",
       "      <th>4</th>\n",
       "      <td>0.000040</td>\n",
       "      <td>0.002762</td>\n",
       "      <td>0.018662</td>\n",
       "    </tr>\n",
       "    <tr>\n",
       "      <th>5</th>\n",
       "      <td>0.000032</td>\n",
       "      <td>0.096057</td>\n",
       "      <td>0.008596</td>\n",
       "    </tr>\n",
       "    <tr>\n",
       "      <th>6</th>\n",
       "      <td>0.000039</td>\n",
       "      <td>0.137691</td>\n",
       "      <td>0.020747</td>\n",
       "    </tr>\n",
       "    <tr>\n",
       "      <th>7</th>\n",
       "      <td>0.000028</td>\n",
       "      <td>0.067592</td>\n",
       "      <td>0.082707</td>\n",
       "    </tr>\n",
       "    <tr>\n",
       "      <th>8</th>\n",
       "      <td>0.000139</td>\n",
       "      <td>0.042804</td>\n",
       "      <td>0.053591</td>\n",
       "    </tr>\n",
       "    <tr>\n",
       "      <th>9</th>\n",
       "      <td>0.018120</td>\n",
       "      <td>0.054353</td>\n",
       "      <td>0.039638</td>\n",
       "    </tr>\n",
       "  </tbody>\n",
       "</table>\n",
       "</div>"
      ],
      "text/plain": [
       "          0         1         2\n",
       "0       NaN       NaN       NaN\n",
       "1       NaN       NaN       NaN\n",
       "2       NaN       NaN       NaN\n",
       "3       NaN       NaN       NaN\n",
       "4  0.000040  0.002762  0.018662\n",
       "5  0.000032  0.096057  0.008596\n",
       "6  0.000039  0.137691  0.020747\n",
       "7  0.000028  0.067592  0.082707\n",
       "8  0.000139  0.042804  0.053591\n",
       "9  0.018120  0.054353  0.039638"
      ]
     },
     "execution_count": 27,
     "metadata": {},
     "output_type": "execute_result"
    }
   ],
   "source": [
    "out"
   ]
  },
  {
   "cell_type": "code",
   "execution_count": 18,
   "metadata": {},
   "outputs": [],
   "source": [
    "from numba import jit"
   ]
  },
  {
   "cell_type": "code",
   "execution_count": 19,
   "metadata": {},
   "outputs": [
    {
     "ename": "ValueError",
     "evalue": "'.0' is not a valid parameter name",
     "output_type": "error",
     "traceback": [
      "\u001b[0;31m---------------------------------------------------------------------------\u001b[0m",
      "\u001b[0;31mValueError\u001b[0m                                Traceback (most recent call last)",
      "\u001b[0;32m<ipython-input-19-e4eaa6e11167>\u001b[0m in \u001b[0;36m<module>\u001b[0;34m()\u001b[0m\n\u001b[0;32m----> 1\u001b[0;31m \u001b[0;34m@\u001b[0m\u001b[0mjit\u001b[0m\u001b[0;34m\u001b[0m\u001b[0m\n\u001b[0m\u001b[1;32m      2\u001b[0m \u001b[0;32mdef\u001b[0m \u001b[0mroll_corr2\u001b[0m\u001b[0;34m(\u001b[0m\u001b[0;34m(\u001b[0m\u001b[0ma\u001b[0m\u001b[0;34m,\u001b[0m \u001b[0mb\u001b[0m\u001b[0;34m)\u001b[0m\u001b[0;34m,\u001b[0m \u001b[0mwindow\u001b[0m\u001b[0;34m)\u001b[0m\u001b[0;34m:\u001b[0m\u001b[0;34m\u001b[0m\u001b[0m\n\u001b[1;32m      3\u001b[0m     \u001b[0mout\u001b[0m \u001b[0;34m=\u001b[0m \u001b[0mnp\u001b[0m\u001b[0;34m.\u001b[0m\u001b[0mones_like\u001b[0m\u001b[0;34m(\u001b[0m\u001b[0ma\u001b[0m\u001b[0;34m)\u001b[0m\u001b[0;34m*\u001b[0m\u001b[0mnp\u001b[0m\u001b[0;34m.\u001b[0m\u001b[0mnan\u001b[0m\u001b[0;34m\u001b[0m\u001b[0m\n\u001b[1;32m      4\u001b[0m     \u001b[0;32mfor\u001b[0m \u001b[0mi\u001b[0m \u001b[0;32min\u001b[0m \u001b[0mxrange\u001b[0m\u001b[0;34m(\u001b[0m\u001b[0mwindow\u001b[0m\u001b[0;34m-\u001b[0m\u001b[0;36m1\u001b[0m\u001b[0;34m,\u001b[0m \u001b[0ma\u001b[0m\u001b[0;34m.\u001b[0m\u001b[0mshape\u001b[0m\u001b[0;34m[\u001b[0m\u001b[0;36m0\u001b[0m\u001b[0;34m]\u001b[0m\u001b[0;34m)\u001b[0m\u001b[0;34m:\u001b[0m   \u001b[0;31m# 2- 10\u001b[0m\u001b[0;34m\u001b[0m\u001b[0m\n\u001b[1;32m      5\u001b[0m         \u001b[0;31m#print \"%d --> %d\" % ((i-(window-1)), i)\u001b[0m\u001b[0;34m\u001b[0m\u001b[0;34m\u001b[0m\u001b[0m\n",
      "\u001b[0;32m/anaconda3/envs/py27_clean/lib/python2.7/site-packages/numba/decorators.pyc\u001b[0m in \u001b[0;36mjit\u001b[0;34m(signature_or_function, locals, target, cache, pipeline_class, **options)\u001b[0m\n\u001b[1;32m    171\u001b[0m                    targetoptions=options, **dispatcher_args)\n\u001b[1;32m    172\u001b[0m     \u001b[0;32mif\u001b[0m \u001b[0mpyfunc\u001b[0m \u001b[0;32mis\u001b[0m \u001b[0;32mnot\u001b[0m \u001b[0mNone\u001b[0m\u001b[0;34m:\u001b[0m\u001b[0;34m\u001b[0m\u001b[0m\n\u001b[0;32m--> 173\u001b[0;31m         \u001b[0;32mreturn\u001b[0m \u001b[0mwrapper\u001b[0m\u001b[0;34m(\u001b[0m\u001b[0mpyfunc\u001b[0m\u001b[0;34m)\u001b[0m\u001b[0;34m\u001b[0m\u001b[0m\n\u001b[0m\u001b[1;32m    174\u001b[0m     \u001b[0;32melse\u001b[0m\u001b[0;34m:\u001b[0m\u001b[0;34m\u001b[0m\u001b[0m\n\u001b[1;32m    175\u001b[0m         \u001b[0;32mreturn\u001b[0m \u001b[0mwrapper\u001b[0m\u001b[0;34m\u001b[0m\u001b[0m\n",
      "\u001b[0;32m/anaconda3/envs/py27_clean/lib/python2.7/site-packages/numba/decorators.pyc\u001b[0m in \u001b[0;36mwrapper\u001b[0;34m(func)\u001b[0m\n\u001b[1;32m    187\u001b[0m         disp = dispatcher(py_func=func, locals=locals,\n\u001b[1;32m    188\u001b[0m                           \u001b[0mtargetoptions\u001b[0m\u001b[0;34m=\u001b[0m\u001b[0mtargetoptions\u001b[0m\u001b[0;34m,\u001b[0m\u001b[0;34m\u001b[0m\u001b[0m\n\u001b[0;32m--> 189\u001b[0;31m                           **dispatcher_args)\n\u001b[0m\u001b[1;32m    190\u001b[0m         \u001b[0;32mif\u001b[0m \u001b[0mcache\u001b[0m\u001b[0;34m:\u001b[0m\u001b[0;34m\u001b[0m\u001b[0m\n\u001b[1;32m    191\u001b[0m             \u001b[0mdisp\u001b[0m\u001b[0;34m.\u001b[0m\u001b[0menable_caching\u001b[0m\u001b[0;34m(\u001b[0m\u001b[0;34m)\u001b[0m\u001b[0;34m\u001b[0m\u001b[0m\n",
      "\u001b[0;32m/anaconda3/envs/py27_clean/lib/python2.7/site-packages/numba/dispatcher.pyc\u001b[0m in \u001b[0;36m__init__\u001b[0;34m(self, py_func, locals, targetoptions, impl_kind, pipeline_class)\u001b[0m\n\u001b[1;32m    502\u001b[0m         \u001b[0mself\u001b[0m\u001b[0;34m.\u001b[0m\u001b[0mtargetctx\u001b[0m \u001b[0;34m=\u001b[0m \u001b[0mself\u001b[0m\u001b[0;34m.\u001b[0m\u001b[0mtargetdescr\u001b[0m\u001b[0;34m.\u001b[0m\u001b[0mtarget_context\u001b[0m\u001b[0;34m\u001b[0m\u001b[0m\n\u001b[1;32m    503\u001b[0m \u001b[0;34m\u001b[0m\u001b[0m\n\u001b[0;32m--> 504\u001b[0;31m         \u001b[0mpysig\u001b[0m \u001b[0;34m=\u001b[0m \u001b[0mutils\u001b[0m\u001b[0;34m.\u001b[0m\u001b[0mpysignature\u001b[0m\u001b[0;34m(\u001b[0m\u001b[0mpy_func\u001b[0m\u001b[0;34m)\u001b[0m\u001b[0;34m\u001b[0m\u001b[0m\n\u001b[0m\u001b[1;32m    505\u001b[0m         \u001b[0marg_count\u001b[0m \u001b[0;34m=\u001b[0m \u001b[0mlen\u001b[0m\u001b[0;34m(\u001b[0m\u001b[0mpysig\u001b[0m\u001b[0;34m.\u001b[0m\u001b[0mparameters\u001b[0m\u001b[0;34m)\u001b[0m\u001b[0;34m\u001b[0m\u001b[0m\n\u001b[1;32m    506\u001b[0m         \u001b[0mcan_fallback\u001b[0m \u001b[0;34m=\u001b[0m \u001b[0;32mnot\u001b[0m \u001b[0mtargetoptions\u001b[0m\u001b[0;34m.\u001b[0m\u001b[0mget\u001b[0m\u001b[0;34m(\u001b[0m\u001b[0;34m'nopython'\u001b[0m\u001b[0;34m,\u001b[0m \u001b[0mFalse\u001b[0m\u001b[0;34m)\u001b[0m\u001b[0;34m\u001b[0m\u001b[0m\n",
      "\u001b[0;32m/anaconda3/envs/py27_clean/lib/python2.7/site-packages/funcsigs/__init__.pyc\u001b[0m in \u001b[0;36msignature\u001b[0;34m(obj)\u001b[0m\n\u001b[1;32m    103\u001b[0m \u001b[0;34m\u001b[0m\u001b[0m\n\u001b[1;32m    104\u001b[0m     \u001b[0;32mif\u001b[0m \u001b[0misinstance\u001b[0m\u001b[0;34m(\u001b[0m\u001b[0mobj\u001b[0m\u001b[0;34m,\u001b[0m \u001b[0mtypes\u001b[0m\u001b[0;34m.\u001b[0m\u001b[0mFunctionType\u001b[0m\u001b[0;34m)\u001b[0m\u001b[0;34m:\u001b[0m\u001b[0;34m\u001b[0m\u001b[0m\n\u001b[0;32m--> 105\u001b[0;31m         \u001b[0;32mreturn\u001b[0m \u001b[0mSignature\u001b[0m\u001b[0;34m.\u001b[0m\u001b[0mfrom_function\u001b[0m\u001b[0;34m(\u001b[0m\u001b[0mobj\u001b[0m\u001b[0;34m)\u001b[0m\u001b[0;34m\u001b[0m\u001b[0m\n\u001b[0m\u001b[1;32m    106\u001b[0m \u001b[0;34m\u001b[0m\u001b[0m\n\u001b[1;32m    107\u001b[0m     \u001b[0;32mif\u001b[0m \u001b[0misinstance\u001b[0m\u001b[0;34m(\u001b[0m\u001b[0mobj\u001b[0m\u001b[0;34m,\u001b[0m \u001b[0mfunctools\u001b[0m\u001b[0;34m.\u001b[0m\u001b[0mpartial\u001b[0m\u001b[0;34m)\u001b[0m\u001b[0;34m:\u001b[0m\u001b[0;34m\u001b[0m\u001b[0m\n",
      "\u001b[0;32m/anaconda3/envs/py27_clean/lib/python2.7/site-packages/funcsigs/__init__.pyc\u001b[0m in \u001b[0;36mfrom_function\u001b[0;34m(cls, func)\u001b[0m\n\u001b[1;32m    553\u001b[0m             \u001b[0mannotation\u001b[0m \u001b[0;34m=\u001b[0m \u001b[0mannotations\u001b[0m\u001b[0;34m.\u001b[0m\u001b[0mget\u001b[0m\u001b[0;34m(\u001b[0m\u001b[0mname\u001b[0m\u001b[0;34m,\u001b[0m \u001b[0m_empty\u001b[0m\u001b[0;34m)\u001b[0m\u001b[0;34m\u001b[0m\u001b[0m\n\u001b[1;32m    554\u001b[0m             parameters.append(Parameter(name, annotation=annotation,\n\u001b[0;32m--> 555\u001b[0;31m                                         kind=_POSITIONAL_OR_KEYWORD))\n\u001b[0m\u001b[1;32m    556\u001b[0m \u001b[0;34m\u001b[0m\u001b[0m\n\u001b[1;32m    557\u001b[0m         \u001b[0;31m# ... w/ defaults.\u001b[0m\u001b[0;34m\u001b[0m\u001b[0;34m\u001b[0m\u001b[0m\n",
      "\u001b[0;32m/anaconda3/envs/py27_clean/lib/python2.7/site-packages/funcsigs/__init__.pyc\u001b[0m in \u001b[0;36m__init__\u001b[0;34m(self, name, kind, default, annotation, _partial_kwarg)\u001b[0m\n\u001b[1;32m    270\u001b[0m             \u001b[0;32mif\u001b[0m \u001b[0mkind\u001b[0m \u001b[0;34m!=\u001b[0m \u001b[0m_POSITIONAL_ONLY\u001b[0m \u001b[0;32mand\u001b[0m \u001b[0;32mnot\u001b[0m \u001b[0mre\u001b[0m\u001b[0;34m.\u001b[0m\u001b[0mmatch\u001b[0m\u001b[0;34m(\u001b[0m\u001b[0;34mr'[a-z_]\\w*$'\u001b[0m\u001b[0;34m,\u001b[0m \u001b[0mname\u001b[0m\u001b[0;34m,\u001b[0m \u001b[0mre\u001b[0m\u001b[0;34m.\u001b[0m\u001b[0mI\u001b[0m\u001b[0;34m)\u001b[0m\u001b[0;34m:\u001b[0m\u001b[0;34m\u001b[0m\u001b[0m\n\u001b[1;32m    271\u001b[0m                 \u001b[0mmsg\u001b[0m \u001b[0;34m=\u001b[0m \u001b[0;34m'{0!r} is not a valid parameter name'\u001b[0m\u001b[0;34m.\u001b[0m\u001b[0mformat\u001b[0m\u001b[0;34m(\u001b[0m\u001b[0mname\u001b[0m\u001b[0;34m)\u001b[0m\u001b[0;34m\u001b[0m\u001b[0m\n\u001b[0;32m--> 272\u001b[0;31m                 \u001b[0;32mraise\u001b[0m \u001b[0mValueError\u001b[0m\u001b[0;34m(\u001b[0m\u001b[0mmsg\u001b[0m\u001b[0;34m)\u001b[0m\u001b[0;34m\u001b[0m\u001b[0m\n\u001b[0m\u001b[1;32m    273\u001b[0m             \u001b[0mself\u001b[0m\u001b[0;34m.\u001b[0m\u001b[0m_name\u001b[0m \u001b[0;34m=\u001b[0m \u001b[0mname\u001b[0m\u001b[0;34m\u001b[0m\u001b[0m\n\u001b[1;32m    274\u001b[0m \u001b[0;34m\u001b[0m\u001b[0m\n",
      "\u001b[0;31mValueError\u001b[0m: '.0' is not a valid parameter name"
     ]
    }
   ],
   "source": [
    "@jit\n",
    "def roll_corr2((a, b), window):\n",
    "    out = np.ones_like(a)*np.nan\n",
    "    for i in xrange(window-1, a.shape[0]):   # 2- 10\n",
    "        #print \"%d --> %d\" % ((i-(window-1)), i)\n",
    "        for j in xrange(a.shape[1]):\n",
    "            out[i, j] = pearsonr(\n",
    "                a[(i-(window-1)):(i), j], b[(i-(window-1)):(i), j]\n",
    "            )[0]\n",
    "    return out"
   ]
  },
  {
   "cell_type": "code",
   "execution_count": 207,
   "metadata": {},
   "outputs": [],
   "source": [
    "def scale(x):\n",
    "    return (x - np.nanmean(x))/np.nansum(np.abs(x - np.nanmean(x)))"
   ]
  },
  {
   "cell_type": "code",
   "execution_count": 211,
   "metadata": {},
   "outputs": [
    {
     "data": {
      "text/plain": [
       "array([[ 0.32572934, -0.5       ,  0.17427066],\n",
       "       [ 0.4853247 ,  0.0146753 , -0.5       ],\n",
       "       [-0.23118186,  0.5       , -0.26881814],\n",
       "       [-0.5       ,  0.11250682,  0.38749318],\n",
       "       [-0.5       ,  0.07890222,  0.42109778],\n",
       "       [ 0.14084777,  0.35915223, -0.5       ],\n",
       "       [ 0.5       , -0.02694105, -0.47305895],\n",
       "       [-0.45819778, -0.04180222,  0.5       ],\n",
       "       [-0.23369585, -0.26630415,  0.5       ],\n",
       "       [-0.5       ,  0.41441077,  0.08558923]])"
      ]
     },
     "execution_count": 211,
     "metadata": {},
     "output_type": "execute_result"
    }
   ],
   "source": [
    "np.apply_along_axis(lambda x: (x - np.nanmean(x))/np.nansum(np.abs(x - np.nanmean(x))), 1, a)"
   ]
  },
  {
   "cell_type": "code",
   "execution_count": 201,
   "metadata": {},
   "outputs": [
    {
     "data": {
      "text/plain": [
       "array([[ 0.77132064,  0.02075195,  0.63364823],\n",
       "       [ 0.74880388,  0.49850701,  0.22479665],\n",
       "       [ 0.19806286,  0.76053071,  0.16911084],\n",
       "       [ 0.08833981,  0.68535982,  0.95339335],\n",
       "       [ 0.00394827,  0.51219226,  0.81262096],\n",
       "       [ 0.61252607,  0.72175532,  0.29187607],\n",
       "       [ 0.91777412,  0.71457578,  0.54254437],\n",
       "       [ 0.14217005,  0.37334076,  0.67413362],\n",
       "       [ 0.44183317,  0.43401399,  0.61776698],\n",
       "       [ 0.51313824,  0.65039718,  0.60103895]])"
      ]
     },
     "execution_count": 201,
     "metadata": {},
     "output_type": "execute_result"
    }
   ],
   "source": []
  },
  {
   "cell_type": "code",
   "execution_count": 33,
   "metadata": {},
   "outputs": [
    {
     "data": {
      "text/plain": [
       "1.0"
      ]
     },
     "execution_count": 33,
     "metadata": {},
     "output_type": "execute_result"
    }
   ],
   "source": [
    "from __future__ import division\n",
    "\n",
    "np.sum()"
   ]
  },
  {
   "cell_type": "code",
   "execution_count": 29,
   "metadata": {},
   "outputs": [
    {
     "data": {
      "text/plain": [
       "55"
      ]
     },
     "execution_count": 29,
     "metadata": {},
     "output_type": "execute_result"
    }
   ],
   "source": []
  },
  {
   "cell_type": "code",
   "execution_count": 196,
   "metadata": {},
   "outputs": [],
   "source": [
    "import numpy as np\n",
    "import pandas as pd\n",
    "from scipy.stats import pearsonr\n",
    "np.random.seed(2)\n",
    "a = np.random.random(30).reshape(10,3)    # days x stocks\n",
    "b = np.random.randint(2, 5, size=(1,3))   # Industry cat vars as integers"
   ]
  },
  {
   "cell_type": "code",
   "execution_count": 197,
   "metadata": {},
   "outputs": [
    {
     "data": {
      "text/plain": [
       "array([[ 0.4359949 ,  0.02592623,  0.54966248],\n",
       "       [ 0.43532239,  0.4203678 ,  0.33033482],\n",
       "       [ 0.20464863,  0.61927097,  0.29965467],\n",
       "       [ 0.26682728,  0.62113383,  0.52914209],\n",
       "       [ 0.13457995,  0.51357812,  0.18443987],\n",
       "       [ 0.78533515,  0.85397529,  0.49423684],\n",
       "       [ 0.84656149,  0.07964548,  0.50524609],\n",
       "       [ 0.0652865 ,  0.42812233,  0.09653092],\n",
       "       [ 0.12715997,  0.59674531,  0.226012  ],\n",
       "       [ 0.10694568,  0.22030621,  0.34982629]])"
      ]
     },
     "execution_count": 197,
     "metadata": {},
     "output_type": "execute_result"
    }
   ],
   "source": [
    "a"
   ]
  },
  {
   "cell_type": "code",
   "execution_count": 198,
   "metadata": {},
   "outputs": [
    {
     "data": {
      "text/plain": [
       "array([[4, 2, 4]])"
      ]
     },
     "execution_count": 198,
     "metadata": {},
     "output_type": "execute_result"
    }
   ],
   "source": [
    "b"
   ]
  },
  {
   "cell_type": "code",
   "execution_count": 199,
   "metadata": {},
   "outputs": [],
   "source": [
    "ohe = np.zeros((b.size, b.max()+1))\n",
    "ohe[np.arange(b.size),b] = 1"
   ]
  },
  {
   "cell_type": "code",
   "execution_count": 191,
   "metadata": {},
   "outputs": [
    {
     "data": {
      "text/plain": [
       "array([[ 0.,  0.,  0.],\n",
       "       [ 0.,  0.,  0.],\n",
       "       [ 0.,  1.,  0.],\n",
       "       [ 0.,  0.,  0.],\n",
       "       [ 1.,  0.,  1.]])"
      ]
     },
     "execution_count": 191,
     "metadata": {},
     "output_type": "execute_result"
    }
   ],
   "source": [
    "ohe.T"
   ]
  },
  {
   "cell_type": "code",
   "execution_count": 200,
   "metadata": {},
   "outputs": [],
   "source": [
    "ind_mean = np.nan_to_num(a.dot(ohe)/ohe.sum(axis=0))"
   ]
  },
  {
   "cell_type": "code",
   "execution_count": 203,
   "metadata": {},
   "outputs": [
    {
     "data": {
      "text/plain": [
       "array([[ 0.        ,  0.        ,  0.02592623,  0.        ,  0.49282869],\n",
       "       [ 0.        ,  0.        ,  0.4203678 ,  0.        ,  0.38282861],\n",
       "       [ 0.        ,  0.        ,  0.61927097,  0.        ,  0.25215165],\n",
       "       [ 0.        ,  0.        ,  0.62113383,  0.        ,  0.39798468],\n",
       "       [ 0.        ,  0.        ,  0.51357812,  0.        ,  0.15950991],\n",
       "       [ 0.        ,  0.        ,  0.85397529,  0.        ,  0.63978599],\n",
       "       [ 0.        ,  0.        ,  0.07964548,  0.        ,  0.67590379],\n",
       "       [ 0.        ,  0.        ,  0.42812233,  0.        ,  0.08090871],\n",
       "       [ 0.        ,  0.        ,  0.59674531,  0.        ,  0.17658599],\n",
       "       [ 0.        ,  0.        ,  0.22030621,  0.        ,  0.22838598]])"
      ]
     },
     "execution_count": 203,
     "metadata": {},
     "output_type": "execute_result"
    }
   ],
   "source": [
    "ind_mean"
   ]
  },
  {
   "cell_type": "code",
   "execution_count": 206,
   "metadata": {},
   "outputs": [],
   "source": [
    "per_stock_ind_mean = ind_mean.dot(ohe.T)"
   ]
  },
  {
   "cell_type": "code",
   "execution_count": 207,
   "metadata": {},
   "outputs": [
    {
     "data": {
      "text/plain": [
       "array([[ 0.49282869,  0.02592623,  0.49282869],\n",
       "       [ 0.38282861,  0.4203678 ,  0.38282861],\n",
       "       [ 0.25215165,  0.61927097,  0.25215165],\n",
       "       [ 0.39798468,  0.62113383,  0.39798468],\n",
       "       [ 0.15950991,  0.51357812,  0.15950991],\n",
       "       [ 0.63978599,  0.85397529,  0.63978599],\n",
       "       [ 0.67590379,  0.07964548,  0.67590379],\n",
       "       [ 0.08090871,  0.42812233,  0.08090871],\n",
       "       [ 0.17658599,  0.59674531,  0.17658599],\n",
       "       [ 0.22838598,  0.22030621,  0.22838598]])"
      ]
     },
     "execution_count": 207,
     "metadata": {},
     "output_type": "execute_result"
    }
   ],
   "source": [
    "per_stock_ind_mean # per stock ind_mean by day!"
   ]
  },
  {
   "cell_type": "code",
   "execution_count": null,
   "metadata": {},
   "outputs": [],
   "source": []
  }
 ],
 "metadata": {
  "kernelspec": {
   "display_name": "Python 2.7 (py27_clean)",
   "language": "python",
   "name": "py27_clean"
  },
  "language_info": {
   "codemirror_mode": {
    "name": "ipython",
    "version": 2
   },
   "file_extension": ".py",
   "mimetype": "text/x-python",
   "name": "python",
   "nbconvert_exporter": "python",
   "pygments_lexer": "ipython2",
   "version": "2.7.15"
  }
 },
 "nbformat": 4,
 "nbformat_minor": 2
}
