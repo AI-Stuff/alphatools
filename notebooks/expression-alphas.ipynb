{
 "cells": [
  {
   "cell_type": "code",
   "execution_count": 1,
   "metadata": {},
   "outputs": [],
   "source": [
    "from alphatools.research import run_pipeline, make_factor_plot\n",
    "from alphatools.expression import ExpressionAlpha\n",
    "from alphatools.ics import Sector\n",
    "from zipline.pipeline.factors import AverageDollarVolume\n",
    "from zipline.pipeline import Pipeline"
   ]
  },
  {
   "cell_type": "code",
   "execution_count": 2,
   "metadata": {},
   "outputs": [],
   "source": [
    "universe = AverageDollarVolume(window_length=120).top(500)"
   ]
  },
  {
   "cell_type": "code",
   "execution_count": 3,
   "metadata": {},
   "outputs": [],
   "source": [
    "expressions = {\n",
    "    8:  '-1*rank(((sum(opens, 5)*sum(returns, 5))-delay((sum(opens, 5)*sum(returns, 5)),10)))', \n",
    "    53: '(-1*delta((((close-low) - (high-close)) / (close-low)), 9))',\n",
    "    101: '((close - opens) / ((high - low) + .001))',\n",
    "    102: 'scale((close > delay(close, 1)) ? opens : delay(opens, 1))',\n",
    "    103: '-rank(stddev(returns, 60))*log(close/delay(close,5))',\n",
    "    104: 'product(1+returns, 20)',\n",
    "    105: 'decay_linear((close/delay(close,5))-1, 5)',\n",
    "    'test': 'decay_linear(close,5)'\n",
    "}\n"
   ]
  },
  {
   "cell_type": "code",
   "execution_count": 4,
   "metadata": {},
   "outputs": [],
   "source": [
    "e = ExpressionAlpha(expressions['test'])"
   ]
  },
  {
   "cell_type": "code",
   "execution_count": 5,
   "metadata": {},
   "outputs": [
    {
     "name": "stdout",
     "output_type": "stream",
     "text": [
      "decay_linear\n",
      "  close\n",
      "  5\n",
      "\n"
     ]
    }
   ],
   "source": [
    "e.parse()\n",
    "print(e.tree.pretty())"
   ]
  },
  {
   "cell_type": "code",
   "execution_count": 6,
   "metadata": {},
   "outputs": [
    {
     "data": {
      "text/plain": [
       "<alphatools.expression.expression.ExpressionAlpha instance at 0x1c1eba42d8>"
      ]
     },
     "execution_count": 6,
     "metadata": {},
     "output_type": "execute_result"
    }
   ],
   "source": [
    "e.transform()"
   ]
  },
  {
   "cell_type": "code",
   "execution_count": 7,
   "metadata": {},
   "outputs": [
    {
     "name": "stdout",
     "output_type": "stream",
     "text": [
      "class ExprAlpha_1(CustomFactor):\n",
      "    inputs = [Returns(window_length=2), USEP.open, USEP.high,\n",
      "              USEP.low, USEP.close, USEP.volume]\n",
      "    window_length = 7\n",
      "\n",
      "    def compute(self, today, assets, out, returns, opens, high, low, close, volume):\n",
      "        v0 = (np.arange(5)+1.)/np.sum(np.arange(5)+1.)\n",
      "        v1 = pd.DataFrame(data=close).rolling(\n",
      "            window=5, center=False, min_periods=5).apply(lambda x: (x*v0).sum()).values\n",
      "        out[:] = v1[-1]\n",
      "\n"
     ]
    }
   ],
   "source": [
    "e.generate_pipeline_code()\n",
    "print(e.pipeline_code)"
   ]
  },
  {
   "cell_type": "code",
   "execution_count": 8,
   "metadata": {},
   "outputs": [],
   "source": [
    "expr_factor = (\n",
    "    ExpressionAlpha('rank(log(close/delay(close, 5)))').\n",
    "    make_pipeline_factor().\n",
    "    pipeline_factor(mask=universe)\n",
    ")"
   ]
  },
  {
   "cell_type": "code",
   "execution_count": 9,
   "metadata": {},
   "outputs": [],
   "source": [
    "from __future__ import division"
   ]
  },
  {
   "cell_type": "code",
   "execution_count": 10,
   "metadata": {},
   "outputs": [],
   "source": [
    "p = Pipeline(screen=universe)\n",
    "p.add(e.make_pipeline_factor().pipeline_factor(mask=universe), \"Expression Alpha\")\n",
    "\n",
    "start_date = '2017-01-06'\n",
    "end_date = '2017-01-06'\n",
    "\n",
    "df = run_pipeline(p, start_date, end_date)"
   ]
  },
  {
   "cell_type": "code",
   "execution_count": 11,
   "metadata": {},
   "outputs": [
    {
     "data": {
      "text/html": [
       "<div>\n",
       "<table border=\"1\" class=\"dataframe\">\n",
       "  <thead>\n",
       "    <tr style=\"text-align: right;\">\n",
       "      <th></th>\n",
       "      <th></th>\n",
       "      <th>Expression Alpha</th>\n",
       "    </tr>\n",
       "  </thead>\n",
       "  <tbody>\n",
       "    <tr>\n",
       "      <th rowspan=\"61\" valign=\"top\">2017-01-06 00:00:00+00:00</th>\n",
       "      <th>Equity(0 [A])</th>\n",
       "      <td>46.488667</td>\n",
       "    </tr>\n",
       "    <tr>\n",
       "      <th>Equity(2 [AAL])</th>\n",
       "      <td>46.385333</td>\n",
       "    </tr>\n",
       "    <tr>\n",
       "      <th>Equity(7 [AAP])</th>\n",
       "      <td>171.181333</td>\n",
       "    </tr>\n",
       "    <tr>\n",
       "      <th>Equity(8 [AAPL])</th>\n",
       "      <td>116.263333</td>\n",
       "    </tr>\n",
       "    <tr>\n",
       "      <th>Equity(12 [ABBV])</th>\n",
       "      <td>63.147333</td>\n",
       "    </tr>\n",
       "    <tr>\n",
       "      <th>Equity(13 [ABC])</th>\n",
       "      <td>82.706000</td>\n",
       "    </tr>\n",
       "    <tr>\n",
       "      <th>Equity(20 [ABT])</th>\n",
       "      <td>39.214667</td>\n",
       "    </tr>\n",
       "    <tr>\n",
       "      <th>Equity(37 [ACN])</th>\n",
       "      <td>116.170667</td>\n",
       "    </tr>\n",
       "    <tr>\n",
       "      <th>Equity(45 [ADBE])</th>\n",
       "      <td>104.408667</td>\n",
       "    </tr>\n",
       "    <tr>\n",
       "      <th>Equity(48 [ADI])</th>\n",
       "      <td>72.158333</td>\n",
       "    </tr>\n",
       "    <tr>\n",
       "      <th>Equity(49 [ADM])</th>\n",
       "      <td>45.901333</td>\n",
       "    </tr>\n",
       "    <tr>\n",
       "      <th>Equity(52 [ADP])</th>\n",
       "      <td>103.290000</td>\n",
       "    </tr>\n",
       "    <tr>\n",
       "      <th>Equity(53 [ADS])</th>\n",
       "      <td>234.366667</td>\n",
       "    </tr>\n",
       "    <tr>\n",
       "      <th>Equity(54 [ADSK])</th>\n",
       "      <td>76.418000</td>\n",
       "    </tr>\n",
       "    <tr>\n",
       "      <th>Equity(66 [AEO])</th>\n",
       "      <td>15.370000</td>\n",
       "    </tr>\n",
       "    <tr>\n",
       "      <th>Equity(67 [AEP])</th>\n",
       "      <td>62.988667</td>\n",
       "    </tr>\n",
       "    <tr>\n",
       "      <th>Equity(71 [AET])</th>\n",
       "      <td>123.964000</td>\n",
       "    </tr>\n",
       "    <tr>\n",
       "      <th>Equity(77 [AFL])</th>\n",
       "      <td>69.982000</td>\n",
       "    </tr>\n",
       "    <tr>\n",
       "      <th>Equity(85 [AGN])</th>\n",
       "      <td>216.146000</td>\n",
       "    </tr>\n",
       "    <tr>\n",
       "      <th>Equity(98 [AIG])</th>\n",
       "      <td>65.557333</td>\n",
       "    </tr>\n",
       "    <tr>\n",
       "      <th>Equity(109 [AKAM])</th>\n",
       "      <td>68.278667</td>\n",
       "    </tr>\n",
       "    <tr>\n",
       "      <th>Equity(114 [AKS])</th>\n",
       "      <td>10.745333</td>\n",
       "    </tr>\n",
       "    <tr>\n",
       "      <th>Equity(116 [ALB])</th>\n",
       "      <td>89.208667</td>\n",
       "    </tr>\n",
       "    <tr>\n",
       "      <th>Equity(126 [ALK])</th>\n",
       "      <td>88.367333</td>\n",
       "    </tr>\n",
       "    <tr>\n",
       "      <th>Equity(128 [ALL])</th>\n",
       "      <td>74.177333</td>\n",
       "    </tr>\n",
       "    <tr>\n",
       "      <th>Equity(136 [ALXN])</th>\n",
       "      <td>129.370667</td>\n",
       "    </tr>\n",
       "    <tr>\n",
       "      <th>Equity(138 [AMAT])</th>\n",
       "      <td>32.165267</td>\n",
       "    </tr>\n",
       "    <tr>\n",
       "      <th>Equity(145 [AMD])</th>\n",
       "      <td>11.365333</td>\n",
       "    </tr>\n",
       "    <tr>\n",
       "      <th>Equity(146 [AME])</th>\n",
       "      <td>49.244000</td>\n",
       "    </tr>\n",
       "    <tr>\n",
       "      <th>Equity(149 [AMGN])</th>\n",
       "      <td>151.251333</td>\n",
       "    </tr>\n",
       "    <tr>\n",
       "      <th>...</th>\n",
       "      <td>...</td>\n",
       "    </tr>\n",
       "    <tr>\n",
       "      <th>Equity(3067 [WDC])</th>\n",
       "      <td>69.835333</td>\n",
       "    </tr>\n",
       "    <tr>\n",
       "      <th>Equity(3070 [WEC])</th>\n",
       "      <td>58.832000</td>\n",
       "    </tr>\n",
       "    <tr>\n",
       "      <th>Equity(3077 [WFC])</th>\n",
       "      <td>55.544000</td>\n",
       "    </tr>\n",
       "    <tr>\n",
       "      <th>Equity(3079 [WFM])</th>\n",
       "      <td>30.750667</td>\n",
       "    </tr>\n",
       "    <tr>\n",
       "      <th>Equity(3085 [WHR])</th>\n",
       "      <td>184.473333</td>\n",
       "    </tr>\n",
       "    <tr>\n",
       "      <th>Equity(3095 [WLL])</th>\n",
       "      <td>12.763333</td>\n",
       "    </tr>\n",
       "    <tr>\n",
       "      <th>Equity(3098 [WLTW])</th>\n",
       "      <td>124.352667</td>\n",
       "    </tr>\n",
       "    <tr>\n",
       "      <th>Equity(3099 [WM])</th>\n",
       "      <td>70.574667</td>\n",
       "    </tr>\n",
       "    <tr>\n",
       "      <th>Equity(3101 [WMB])</th>\n",
       "      <td>31.454000</td>\n",
       "    </tr>\n",
       "    <tr>\n",
       "      <th>Equity(3105 [WMT])</th>\n",
       "      <td>69.051333</td>\n",
       "    </tr>\n",
       "    <tr>\n",
       "      <th>Equity(3107 [WNR])</th>\n",
       "      <td>37.478000</td>\n",
       "    </tr>\n",
       "    <tr>\n",
       "      <th>Equity(3111 [WPX])</th>\n",
       "      <td>14.951333</td>\n",
       "    </tr>\n",
       "    <tr>\n",
       "      <th>Equity(3117 [WRK])</th>\n",
       "      <td>51.728000</td>\n",
       "    </tr>\n",
       "    <tr>\n",
       "      <th>Equity(3122 [WSM])</th>\n",
       "      <td>49.395333</td>\n",
       "    </tr>\n",
       "    <tr>\n",
       "      <th>Equity(3137 [WWAV])</th>\n",
       "      <td>55.520667</td>\n",
       "    </tr>\n",
       "    <tr>\n",
       "      <th>Equity(3142 [WY])</th>\n",
       "      <td>30.592000</td>\n",
       "    </tr>\n",
       "    <tr>\n",
       "      <th>Equity(3144 [WYNN])</th>\n",
       "      <td>89.392667</td>\n",
       "    </tr>\n",
       "    <tr>\n",
       "      <th>Equity(3145 [X])</th>\n",
       "      <td>35.649333</td>\n",
       "    </tr>\n",
       "    <tr>\n",
       "      <th>Equity(3148 [XEC])</th>\n",
       "      <td>138.602667</td>\n",
       "    </tr>\n",
       "    <tr>\n",
       "      <th>Equity(3149 [XEL])</th>\n",
       "      <td>40.760000</td>\n",
       "    </tr>\n",
       "    <tr>\n",
       "      <th>Equity(3151 [XLNX])</th>\n",
       "      <td>58.860000</td>\n",
       "    </tr>\n",
       "    <tr>\n",
       "      <th>Equity(3156 [XOM])</th>\n",
       "      <td>89.723333</td>\n",
       "    </tr>\n",
       "    <tr>\n",
       "      <th>Equity(3163 [XRAY])</th>\n",
       "      <td>58.508000</td>\n",
       "    </tr>\n",
       "    <tr>\n",
       "      <th>Equity(3165 [XRX])</th>\n",
       "      <td>7.403333</td>\n",
       "    </tr>\n",
       "    <tr>\n",
       "      <th>Equity(3171 [YELP])</th>\n",
       "      <td>39.025333</td>\n",
       "    </tr>\n",
       "    <tr>\n",
       "      <th>Equity(3172 [YHOO])</th>\n",
       "      <td>39.974667</td>\n",
       "    </tr>\n",
       "    <tr>\n",
       "      <th>Equity(3175 [YUM])</th>\n",
       "      <td>63.462000</td>\n",
       "    </tr>\n",
       "    <tr>\n",
       "      <th>Equity(3180 [ZBH])</th>\n",
       "      <td>104.117333</td>\n",
       "    </tr>\n",
       "    <tr>\n",
       "      <th>Equity(3188 [ZION])</th>\n",
       "      <td>43.270667</td>\n",
       "    </tr>\n",
       "    <tr>\n",
       "      <th>Equity(3197 [ZTS])</th>\n",
       "      <td>53.836000</td>\n",
       "    </tr>\n",
       "  </tbody>\n",
       "</table>\n",
       "<p>500 rows × 1 columns</p>\n",
       "</div>"
      ],
      "text/plain": [
       "                                               Expression Alpha\n",
       "2017-01-06 00:00:00+00:00 Equity(0 [A])               46.488667\n",
       "                          Equity(2 [AAL])             46.385333\n",
       "                          Equity(7 [AAP])            171.181333\n",
       "                          Equity(8 [AAPL])           116.263333\n",
       "                          Equity(12 [ABBV])           63.147333\n",
       "                          Equity(13 [ABC])            82.706000\n",
       "                          Equity(20 [ABT])            39.214667\n",
       "                          Equity(37 [ACN])           116.170667\n",
       "                          Equity(45 [ADBE])          104.408667\n",
       "                          Equity(48 [ADI])            72.158333\n",
       "                          Equity(49 [ADM])            45.901333\n",
       "                          Equity(52 [ADP])           103.290000\n",
       "                          Equity(53 [ADS])           234.366667\n",
       "                          Equity(54 [ADSK])           76.418000\n",
       "                          Equity(66 [AEO])            15.370000\n",
       "                          Equity(67 [AEP])            62.988667\n",
       "                          Equity(71 [AET])           123.964000\n",
       "                          Equity(77 [AFL])            69.982000\n",
       "                          Equity(85 [AGN])           216.146000\n",
       "                          Equity(98 [AIG])            65.557333\n",
       "                          Equity(109 [AKAM])          68.278667\n",
       "                          Equity(114 [AKS])           10.745333\n",
       "                          Equity(116 [ALB])           89.208667\n",
       "                          Equity(126 [ALK])           88.367333\n",
       "                          Equity(128 [ALL])           74.177333\n",
       "                          Equity(136 [ALXN])         129.370667\n",
       "                          Equity(138 [AMAT])          32.165267\n",
       "                          Equity(145 [AMD])           11.365333\n",
       "                          Equity(146 [AME])           49.244000\n",
       "                          Equity(149 [AMGN])         151.251333\n",
       "...                                                         ...\n",
       "                          Equity(3067 [WDC])          69.835333\n",
       "                          Equity(3070 [WEC])          58.832000\n",
       "                          Equity(3077 [WFC])          55.544000\n",
       "                          Equity(3079 [WFM])          30.750667\n",
       "                          Equity(3085 [WHR])         184.473333\n",
       "                          Equity(3095 [WLL])          12.763333\n",
       "                          Equity(3098 [WLTW])        124.352667\n",
       "                          Equity(3099 [WM])           70.574667\n",
       "                          Equity(3101 [WMB])          31.454000\n",
       "                          Equity(3105 [WMT])          69.051333\n",
       "                          Equity(3107 [WNR])          37.478000\n",
       "                          Equity(3111 [WPX])          14.951333\n",
       "                          Equity(3117 [WRK])          51.728000\n",
       "                          Equity(3122 [WSM])          49.395333\n",
       "                          Equity(3137 [WWAV])         55.520667\n",
       "                          Equity(3142 [WY])           30.592000\n",
       "                          Equity(3144 [WYNN])         89.392667\n",
       "                          Equity(3145 [X])            35.649333\n",
       "                          Equity(3148 [XEC])         138.602667\n",
       "                          Equity(3149 [XEL])          40.760000\n",
       "                          Equity(3151 [XLNX])         58.860000\n",
       "                          Equity(3156 [XOM])          89.723333\n",
       "                          Equity(3163 [XRAY])         58.508000\n",
       "                          Equity(3165 [XRX])           7.403333\n",
       "                          Equity(3171 [YELP])         39.025333\n",
       "                          Equity(3172 [YHOO])         39.974667\n",
       "                          Equity(3175 [YUM])          63.462000\n",
       "                          Equity(3180 [ZBH])         104.117333\n",
       "                          Equity(3188 [ZION])         43.270667\n",
       "                          Equity(3197 [ZTS])          53.836000\n",
       "\n",
       "[500 rows x 1 columns]"
      ]
     },
     "execution_count": 11,
     "metadata": {},
     "output_type": "execute_result"
    }
   ],
   "source": [
    "df"
   ]
  },
  {
   "cell_type": "code",
   "execution_count": 11,
   "metadata": {},
   "outputs": [
    {
     "name": "stdout",
     "output_type": "stream",
     "text": [
      "Formatting factor data for: Expression Alpha\n",
      "Dropped 100.0% entries from factor data: 1.3% in forward returns computation and 98.7% in binning phase (set max_loss=0 to see potentially suppressed Exceptions).\n"
     ]
    },
    {
     "ename": "MaxLossExceededError",
     "evalue": "max_loss (35.0%) exceeded 100.0%, consider increasing it.",
     "output_type": "error",
     "traceback": [
      "\u001b[0;31m---------------------------------------------------------------------------\u001b[0m",
      "\u001b[0;31mMaxLossExceededError\u001b[0m                      Traceback (most recent call last)",
      "\u001b[0;32m<ipython-input-11-cb280bb6696a>\u001b[0m in \u001b[0;36m<module>\u001b[0;34m()\u001b[0m\n\u001b[0;32m----> 1\u001b[0;31m \u001b[0mmake_factor_plot\u001b[0m\u001b[0;34m(\u001b[0m\u001b[0mdf\u001b[0m\u001b[0;34m,\u001b[0m \u001b[0mstart_date\u001b[0m\u001b[0;34m,\u001b[0m \u001b[0mend_date\u001b[0m\u001b[0;34m)\u001b[0m\u001b[0;34m;\u001b[0m\u001b[0;34m\u001b[0m\u001b[0m\n\u001b[0m",
      "\u001b[0;32m/Users/jonathan/devwork/alphatools/alphatools/research/research.pyc\u001b[0m in \u001b[0;36mmake_factor_plot\u001b[0;34m(df, start_date, end_date)\u001b[0m\n\u001b[1;32m    159\u001b[0m             \u001b[0mfactor\u001b[0m\u001b[0;34m=\u001b[0m\u001b[0mdf\u001b[0m\u001b[0;34m[\u001b[0m\u001b[0mfactor\u001b[0m\u001b[0;34m]\u001b[0m\u001b[0;34m,\u001b[0m\u001b[0;34m\u001b[0m\u001b[0m\n\u001b[1;32m    160\u001b[0m             \u001b[0mprices\u001b[0m\u001b[0;34m=\u001b[0m\u001b[0mpricing\u001b[0m\u001b[0;34m,\u001b[0m\u001b[0;34m\u001b[0m\u001b[0m\n\u001b[0;32m--> 161\u001b[0;31m             \u001b[0mperiods\u001b[0m\u001b[0;34m=\u001b[0m\u001b[0;34m[\u001b[0m\u001b[0;36m1\u001b[0m\u001b[0;34m]\u001b[0m\u001b[0;34m\u001b[0m\u001b[0m\n\u001b[0m\u001b[1;32m    162\u001b[0m         )\n\u001b[1;32m    163\u001b[0m     \u001b[0mend_time\u001b[0m \u001b[0;34m=\u001b[0m \u001b[0mtime\u001b[0m\u001b[0;34m.\u001b[0m\u001b[0mclock\u001b[0m\u001b[0;34m(\u001b[0m\u001b[0;34m)\u001b[0m\u001b[0;34m\u001b[0m\u001b[0m\n",
      "\u001b[0;32m/anaconda3/envs/py27_clean/lib/python2.7/site-packages/alphalens/utils.pyc\u001b[0m in \u001b[0;36mcall_w_context\u001b[0;34m(*args, **kwargs)\u001b[0m\n\u001b[1;32m    609\u001b[0m                           \u001b[0;34m\"replaced by 'binning_by_group'\"\u001b[0m\u001b[0;34m,\u001b[0m\u001b[0;34m\u001b[0m\u001b[0m\n\u001b[1;32m    610\u001b[0m                           category=DeprecationWarning, stacklevel=3)\n\u001b[0;32m--> 611\u001b[0;31m         \u001b[0;32mreturn\u001b[0m \u001b[0mfunc\u001b[0m\u001b[0;34m(\u001b[0m\u001b[0;34m*\u001b[0m\u001b[0margs\u001b[0m\u001b[0;34m,\u001b[0m \u001b[0;34m**\u001b[0m\u001b[0mkwargs\u001b[0m\u001b[0;34m)\u001b[0m\u001b[0;34m\u001b[0m\u001b[0m\n\u001b[0m\u001b[1;32m    612\u001b[0m     \u001b[0;32mreturn\u001b[0m \u001b[0mcall_w_context\u001b[0m\u001b[0;34m\u001b[0m\u001b[0m\n\u001b[1;32m    613\u001b[0m \u001b[0;34m\u001b[0m\u001b[0m\n",
      "\u001b[0;32m/anaconda3/envs/py27_clean/lib/python2.7/site-packages/alphalens/utils.pyc\u001b[0m in \u001b[0;36mget_clean_factor_and_forward_returns\u001b[0;34m(factor, prices, groupby, binning_by_group, quantiles, bins, periods, filter_zscore, groupby_labels, max_loss)\u001b[0m\n\u001b[1;32m    768\u001b[0m                                    \u001b[0mquantiles\u001b[0m\u001b[0;34m=\u001b[0m\u001b[0mquantiles\u001b[0m\u001b[0;34m,\u001b[0m \u001b[0mbins\u001b[0m\u001b[0;34m=\u001b[0m\u001b[0mbins\u001b[0m\u001b[0;34m,\u001b[0m\u001b[0;34m\u001b[0m\u001b[0m\n\u001b[1;32m    769\u001b[0m                                    \u001b[0mbinning_by_group\u001b[0m\u001b[0;34m=\u001b[0m\u001b[0mbinning_by_group\u001b[0m\u001b[0;34m,\u001b[0m\u001b[0;34m\u001b[0m\u001b[0m\n\u001b[0;32m--> 770\u001b[0;31m                                    max_loss=max_loss)\n\u001b[0m\u001b[1;32m    771\u001b[0m \u001b[0;34m\u001b[0m\u001b[0m\n\u001b[1;32m    772\u001b[0m     \u001b[0;32mreturn\u001b[0m \u001b[0mfactor_data\u001b[0m\u001b[0;34m\u001b[0m\u001b[0m\n",
      "\u001b[0;32m/anaconda3/envs/py27_clean/lib/python2.7/site-packages/alphalens/utils.pyc\u001b[0m in \u001b[0;36mget_clean_factor\u001b[0;34m(factor, forward_returns, groupby, binning_by_group, quantiles, bins, groupby_labels, max_loss)\u001b[0m\n\u001b[1;32m    564\u001b[0m         message = (\"max_loss (%.1f%%) exceeded %.1f%%, consider increasing it.\"\n\u001b[1;32m    565\u001b[0m                    % (max_loss * 100, tot_loss * 100))\n\u001b[0;32m--> 566\u001b[0;31m         \u001b[0;32mraise\u001b[0m \u001b[0mMaxLossExceededError\u001b[0m\u001b[0;34m(\u001b[0m\u001b[0mmessage\u001b[0m\u001b[0;34m)\u001b[0m\u001b[0;34m\u001b[0m\u001b[0m\n\u001b[0m\u001b[1;32m    567\u001b[0m     \u001b[0;32melse\u001b[0m\u001b[0;34m:\u001b[0m\u001b[0;34m\u001b[0m\u001b[0m\n\u001b[1;32m    568\u001b[0m         \u001b[0;32mprint\u001b[0m\u001b[0;34m(\u001b[0m\u001b[0;34m\"max_loss is %.1f%%, not exceeded: OK!\"\u001b[0m \u001b[0;34m%\u001b[0m \u001b[0;34m(\u001b[0m\u001b[0mmax_loss\u001b[0m \u001b[0;34m*\u001b[0m \u001b[0;36m100\u001b[0m\u001b[0;34m)\u001b[0m\u001b[0;34m)\u001b[0m\u001b[0;34m\u001b[0m\u001b[0m\n",
      "\u001b[0;31mMaxLossExceededError\u001b[0m: max_loss (35.0%) exceeded 100.0%, consider increasing it."
     ]
    }
   ],
   "source": [
    "make_factor_plot(df, start_date, end_date);"
   ]
  },
  {
   "cell_type": "code",
   "execution_count": null,
   "metadata": {},
   "outputs": [],
   "source": []
  },
  {
   "cell_type": "code",
   "execution_count": 27,
   "metadata": {},
   "outputs": [],
   "source": [
    "e = ExpressionAlpha('rank(log(close/delay(opens, 5)))').parse().transform().generate_pipeline_code()"
   ]
  },
  {
   "cell_type": "code",
   "execution_count": 28,
   "metadata": {},
   "outputs": [
    {
     "name": "stdout",
     "output_type": "stream",
     "text": [
      "class ExprAlpha_1(CustomFactor):\n",
      "    inputs = [Returns(window_length=2), USEP.open, USEP.high,\n",
      "              USEP.low, USEP.close, USEP.volume]\n",
      "    window_length = 7\n",
      "\n",
      "    def compute(self, today, assets, out, returns, opens, high, low, close, volume):\n",
      "        v22 = np.roll(opens, 5, axis=0)\n",
      "        v23 = close / v22\n",
      "        v24 = np.log(v23)\n",
      "        v25 = np.apply_along_axis(rankdata, 1, v24)\n",
      "        out[:] = v25[-1]\n",
      "\n"
     ]
    }
   ],
   "source": [
    "print(e.pipeline_code)"
   ]
  },
  {
   "cell_type": "code",
   "execution_count": 29,
   "metadata": {},
   "outputs": [
    {
     "ename": "NameError",
     "evalue": "name 'a' is not defined",
     "output_type": "error",
     "traceback": [
      "\u001b[0;31m---------------------------------------------------------------------------\u001b[0m",
      "\u001b[0;31mNameError\u001b[0m                                 Traceback (most recent call last)",
      "\u001b[0;32m<ipython-input-29-3f786850e387>\u001b[0m in \u001b[0;36m<module>\u001b[0;34m()\u001b[0m\n\u001b[0;32m----> 1\u001b[0;31m \u001b[0ma\u001b[0m\u001b[0;34m\u001b[0m\u001b[0m\n\u001b[0m",
      "\u001b[0;31mNameError\u001b[0m: name 'a' is not defined"
     ]
    }
   ],
   "source": [
    "a"
   ]
  },
  {
   "cell_type": "code",
   "execution_count": 18,
   "metadata": {},
   "outputs": [
    {
     "data": {
      "text/plain": [
       "array([[ 0.54254437,  0.14217005],\n",
       "       [ 0.37334076,  0.67413362],\n",
       "       [ 0.44183317,  0.43401399],\n",
       "       [ 0.61776698,  0.51313824],\n",
       "       [ 0.65039718,  0.60103895],\n",
       "       [ 0.8052232 ,  0.52164715],\n",
       "       [ 0.90864888,  0.31923609],\n",
       "       [ 0.09045935,  0.30070006],\n",
       "       [ 0.11398436,  0.82868133],\n",
       "       [ 0.04689632,  0.62628715]])"
      ]
     },
     "execution_count": 18,
     "metadata": {},
     "output_type": "execute_result"
    }
   ],
   "source": [
    "b"
   ]
  },
  {
   "cell_type": "code",
   "execution_count": 86,
   "metadata": {},
   "outputs": [],
   "source": [
    "def column_corr((a, b), window=-1):\n",
    "    if window==-1:\n",
    "        window = a.shape[0]\n",
    "    out = np.zeros(shape = (1, a.shape[1]))\n",
    "    for i in xrange(a.shape[1]-1):\n",
    "        out[i] = pearsonr(a[-window:, i], b[-window:, i])[0]\n",
    "    return out\n",
    "        "
   ]
  },
  {
   "cell_type": "code",
   "execution_count": 1,
   "metadata": {},
   "outputs": [],
   "source": [
    "import numpy as np\n",
    "import pandas as pd\n",
    "from scipy.stats import pearsonr\n",
    "np.random.seed(10)\n",
    "a = np.random.random(30).reshape(10,3)\n",
    "b = np.random.random(30).reshape(10,3)"
   ]
  },
  {
   "cell_type": "code",
   "execution_count": 2,
   "metadata": {},
   "outputs": [],
   "source": [
    "a_1 = pd.DataFrame(a)\n",
    "b_1 = pd.DataFrame(b)\n",
    "\n"
   ]
  },
  {
   "cell_type": "code",
   "execution_count": 15,
   "metadata": {},
   "outputs": [],
   "source": [
    "def roll_corr((a, b), window):\n",
    "    out = np.ones_like(a)*np.nan\n",
    "    for i in xrange(window-1, a.shape[0]):   # 2- 10\n",
    "        #print \"%d --> %d\" % ((i-(window-1)), i)\n",
    "        for j in xrange(a.shape[1]):\n",
    "            out[i, j] = pearsonr(\n",
    "                a[(i-(window-1)):(i), j], b[(i-(window-1)):(i), j]\n",
    "            )[0]\n",
    "    return out"
   ]
  },
  {
   "cell_type": "code",
   "execution_count": 16,
   "metadata": {},
   "outputs": [
    {
     "name": "stdout",
     "output_type": "stream",
     "text": [
      "1000 loops, best of 3: 645 µs per loop\n"
     ]
    }
   ],
   "source": [
    "%%timeit\n",
    "out = roll_corr((a,b), window=5)"
   ]
  },
  {
   "cell_type": "code",
   "execution_count": 23,
   "metadata": {},
   "outputs": [
    {
     "name": "stderr",
     "output_type": "stream",
     "text": [
      "/anaconda3/envs/py27_clean/lib/python2.7/site-packages/ipykernel_launcher.py:257: FutureWarning: pd.rolling_corr is deprecated for DataFrame and will be removed in a future version, replace with \n",
      "\tDataFrame.rolling(window=5).corr(other=<DataFrame>)\n"
     ]
    },
    {
     "name": "stdout",
     "output_type": "stream",
     "text": [
      "100 loops, best of 3: 10.1 ms per loop\n"
     ]
    }
   ],
   "source": [
    "%%timeit\n",
    "out = pd.rolling_corr(arg1=a_1, arg2=b_1, window=5)"
   ]
  },
  {
   "cell_type": "code",
   "execution_count": 12,
   "metadata": {},
   "outputs": [
    {
     "ename": "NameError",
     "evalue": "name 'out' is not defined",
     "output_type": "error",
     "traceback": [
      "\u001b[0;31m---------------------------------------------------------------------------\u001b[0m",
      "\u001b[0;31mNameError\u001b[0m                                 Traceback (most recent call last)",
      "\u001b[0;32m<ipython-input-12-0398e00d749b>\u001b[0m in \u001b[0;36m<module>\u001b[0;34m()\u001b[0m\n\u001b[0;32m----> 1\u001b[0;31m \u001b[0mout\u001b[0m\u001b[0;34m[\u001b[0m\u001b[0;34m-\u001b[0m\u001b[0;36m1\u001b[0m\u001b[0;34m]\u001b[0m\u001b[0;34m\u001b[0m\u001b[0m\n\u001b[0m",
      "\u001b[0;31mNameError\u001b[0m: name 'out' is not defined"
     ]
    }
   ],
   "source": [
    "out[-1]"
   ]
  },
  {
   "cell_type": "code",
   "execution_count": 5,
   "metadata": {},
   "outputs": [],
   "source": [
    "#from __future__ import division\n",
    "v0 = (np.arange(5)+1.)/np.sum(np.arange(5)+1.)\n",
    "\n",
    "out = a_1.rolling(5).apply(lambda x: (x*v0).sum()).values"
   ]
  },
  {
   "cell_type": "code",
   "execution_count": 6,
   "metadata": {},
   "outputs": [
    {
     "data": {
      "text/plain": [
       "array([ 0.06666667,  0.13333333,  0.2       ,  0.26666667,  0.33333333])"
      ]
     },
     "execution_count": 6,
     "metadata": {},
     "output_type": "execute_result"
    }
   ],
   "source": [
    "v0"
   ]
  },
  {
   "cell_type": "code",
   "execution_count": 27,
   "metadata": {},
   "outputs": [
    {
     "data": {
      "text/plain": [
       "array([ 0.48050722,  0.55059807,  0.59170856])"
      ]
     },
     "execution_count": 27,
     "metadata": {},
     "output_type": "execute_result"
    }
   ],
   "source": [
    "out[-1, :]"
   ]
  },
  {
   "cell_type": "code",
   "execution_count": 18,
   "metadata": {},
   "outputs": [],
   "source": [
    "from numba import jit"
   ]
  },
  {
   "cell_type": "code",
   "execution_count": 19,
   "metadata": {},
   "outputs": [
    {
     "ename": "ValueError",
     "evalue": "'.0' is not a valid parameter name",
     "output_type": "error",
     "traceback": [
      "\u001b[0;31m---------------------------------------------------------------------------\u001b[0m",
      "\u001b[0;31mValueError\u001b[0m                                Traceback (most recent call last)",
      "\u001b[0;32m<ipython-input-19-e4eaa6e11167>\u001b[0m in \u001b[0;36m<module>\u001b[0;34m()\u001b[0m\n\u001b[0;32m----> 1\u001b[0;31m \u001b[0;34m@\u001b[0m\u001b[0mjit\u001b[0m\u001b[0;34m\u001b[0m\u001b[0m\n\u001b[0m\u001b[1;32m      2\u001b[0m \u001b[0;32mdef\u001b[0m \u001b[0mroll_corr2\u001b[0m\u001b[0;34m(\u001b[0m\u001b[0;34m(\u001b[0m\u001b[0ma\u001b[0m\u001b[0;34m,\u001b[0m \u001b[0mb\u001b[0m\u001b[0;34m)\u001b[0m\u001b[0;34m,\u001b[0m \u001b[0mwindow\u001b[0m\u001b[0;34m)\u001b[0m\u001b[0;34m:\u001b[0m\u001b[0;34m\u001b[0m\u001b[0m\n\u001b[1;32m      3\u001b[0m     \u001b[0mout\u001b[0m \u001b[0;34m=\u001b[0m \u001b[0mnp\u001b[0m\u001b[0;34m.\u001b[0m\u001b[0mones_like\u001b[0m\u001b[0;34m(\u001b[0m\u001b[0ma\u001b[0m\u001b[0;34m)\u001b[0m\u001b[0;34m*\u001b[0m\u001b[0mnp\u001b[0m\u001b[0;34m.\u001b[0m\u001b[0mnan\u001b[0m\u001b[0;34m\u001b[0m\u001b[0m\n\u001b[1;32m      4\u001b[0m     \u001b[0;32mfor\u001b[0m \u001b[0mi\u001b[0m \u001b[0;32min\u001b[0m \u001b[0mxrange\u001b[0m\u001b[0;34m(\u001b[0m\u001b[0mwindow\u001b[0m\u001b[0;34m-\u001b[0m\u001b[0;36m1\u001b[0m\u001b[0;34m,\u001b[0m \u001b[0ma\u001b[0m\u001b[0;34m.\u001b[0m\u001b[0mshape\u001b[0m\u001b[0;34m[\u001b[0m\u001b[0;36m0\u001b[0m\u001b[0;34m]\u001b[0m\u001b[0;34m)\u001b[0m\u001b[0;34m:\u001b[0m   \u001b[0;31m# 2- 10\u001b[0m\u001b[0;34m\u001b[0m\u001b[0m\n\u001b[1;32m      5\u001b[0m         \u001b[0;31m#print \"%d --> %d\" % ((i-(window-1)), i)\u001b[0m\u001b[0;34m\u001b[0m\u001b[0;34m\u001b[0m\u001b[0m\n",
      "\u001b[0;32m/anaconda3/envs/py27_clean/lib/python2.7/site-packages/numba/decorators.pyc\u001b[0m in \u001b[0;36mjit\u001b[0;34m(signature_or_function, locals, target, cache, pipeline_class, **options)\u001b[0m\n\u001b[1;32m    171\u001b[0m                    targetoptions=options, **dispatcher_args)\n\u001b[1;32m    172\u001b[0m     \u001b[0;32mif\u001b[0m \u001b[0mpyfunc\u001b[0m \u001b[0;32mis\u001b[0m \u001b[0;32mnot\u001b[0m \u001b[0mNone\u001b[0m\u001b[0;34m:\u001b[0m\u001b[0;34m\u001b[0m\u001b[0m\n\u001b[0;32m--> 173\u001b[0;31m         \u001b[0;32mreturn\u001b[0m \u001b[0mwrapper\u001b[0m\u001b[0;34m(\u001b[0m\u001b[0mpyfunc\u001b[0m\u001b[0;34m)\u001b[0m\u001b[0;34m\u001b[0m\u001b[0m\n\u001b[0m\u001b[1;32m    174\u001b[0m     \u001b[0;32melse\u001b[0m\u001b[0;34m:\u001b[0m\u001b[0;34m\u001b[0m\u001b[0m\n\u001b[1;32m    175\u001b[0m         \u001b[0;32mreturn\u001b[0m \u001b[0mwrapper\u001b[0m\u001b[0;34m\u001b[0m\u001b[0m\n",
      "\u001b[0;32m/anaconda3/envs/py27_clean/lib/python2.7/site-packages/numba/decorators.pyc\u001b[0m in \u001b[0;36mwrapper\u001b[0;34m(func)\u001b[0m\n\u001b[1;32m    187\u001b[0m         disp = dispatcher(py_func=func, locals=locals,\n\u001b[1;32m    188\u001b[0m                           \u001b[0mtargetoptions\u001b[0m\u001b[0;34m=\u001b[0m\u001b[0mtargetoptions\u001b[0m\u001b[0;34m,\u001b[0m\u001b[0;34m\u001b[0m\u001b[0m\n\u001b[0;32m--> 189\u001b[0;31m                           **dispatcher_args)\n\u001b[0m\u001b[1;32m    190\u001b[0m         \u001b[0;32mif\u001b[0m \u001b[0mcache\u001b[0m\u001b[0;34m:\u001b[0m\u001b[0;34m\u001b[0m\u001b[0m\n\u001b[1;32m    191\u001b[0m             \u001b[0mdisp\u001b[0m\u001b[0;34m.\u001b[0m\u001b[0menable_caching\u001b[0m\u001b[0;34m(\u001b[0m\u001b[0;34m)\u001b[0m\u001b[0;34m\u001b[0m\u001b[0m\n",
      "\u001b[0;32m/anaconda3/envs/py27_clean/lib/python2.7/site-packages/numba/dispatcher.pyc\u001b[0m in \u001b[0;36m__init__\u001b[0;34m(self, py_func, locals, targetoptions, impl_kind, pipeline_class)\u001b[0m\n\u001b[1;32m    502\u001b[0m         \u001b[0mself\u001b[0m\u001b[0;34m.\u001b[0m\u001b[0mtargetctx\u001b[0m \u001b[0;34m=\u001b[0m \u001b[0mself\u001b[0m\u001b[0;34m.\u001b[0m\u001b[0mtargetdescr\u001b[0m\u001b[0;34m.\u001b[0m\u001b[0mtarget_context\u001b[0m\u001b[0;34m\u001b[0m\u001b[0m\n\u001b[1;32m    503\u001b[0m \u001b[0;34m\u001b[0m\u001b[0m\n\u001b[0;32m--> 504\u001b[0;31m         \u001b[0mpysig\u001b[0m \u001b[0;34m=\u001b[0m \u001b[0mutils\u001b[0m\u001b[0;34m.\u001b[0m\u001b[0mpysignature\u001b[0m\u001b[0;34m(\u001b[0m\u001b[0mpy_func\u001b[0m\u001b[0;34m)\u001b[0m\u001b[0;34m\u001b[0m\u001b[0m\n\u001b[0m\u001b[1;32m    505\u001b[0m         \u001b[0marg_count\u001b[0m \u001b[0;34m=\u001b[0m \u001b[0mlen\u001b[0m\u001b[0;34m(\u001b[0m\u001b[0mpysig\u001b[0m\u001b[0;34m.\u001b[0m\u001b[0mparameters\u001b[0m\u001b[0;34m)\u001b[0m\u001b[0;34m\u001b[0m\u001b[0m\n\u001b[1;32m    506\u001b[0m         \u001b[0mcan_fallback\u001b[0m \u001b[0;34m=\u001b[0m \u001b[0;32mnot\u001b[0m \u001b[0mtargetoptions\u001b[0m\u001b[0;34m.\u001b[0m\u001b[0mget\u001b[0m\u001b[0;34m(\u001b[0m\u001b[0;34m'nopython'\u001b[0m\u001b[0;34m,\u001b[0m \u001b[0mFalse\u001b[0m\u001b[0;34m)\u001b[0m\u001b[0;34m\u001b[0m\u001b[0m\n",
      "\u001b[0;32m/anaconda3/envs/py27_clean/lib/python2.7/site-packages/funcsigs/__init__.pyc\u001b[0m in \u001b[0;36msignature\u001b[0;34m(obj)\u001b[0m\n\u001b[1;32m    103\u001b[0m \u001b[0;34m\u001b[0m\u001b[0m\n\u001b[1;32m    104\u001b[0m     \u001b[0;32mif\u001b[0m \u001b[0misinstance\u001b[0m\u001b[0;34m(\u001b[0m\u001b[0mobj\u001b[0m\u001b[0;34m,\u001b[0m \u001b[0mtypes\u001b[0m\u001b[0;34m.\u001b[0m\u001b[0mFunctionType\u001b[0m\u001b[0;34m)\u001b[0m\u001b[0;34m:\u001b[0m\u001b[0;34m\u001b[0m\u001b[0m\n\u001b[0;32m--> 105\u001b[0;31m         \u001b[0;32mreturn\u001b[0m \u001b[0mSignature\u001b[0m\u001b[0;34m.\u001b[0m\u001b[0mfrom_function\u001b[0m\u001b[0;34m(\u001b[0m\u001b[0mobj\u001b[0m\u001b[0;34m)\u001b[0m\u001b[0;34m\u001b[0m\u001b[0m\n\u001b[0m\u001b[1;32m    106\u001b[0m \u001b[0;34m\u001b[0m\u001b[0m\n\u001b[1;32m    107\u001b[0m     \u001b[0;32mif\u001b[0m \u001b[0misinstance\u001b[0m\u001b[0;34m(\u001b[0m\u001b[0mobj\u001b[0m\u001b[0;34m,\u001b[0m \u001b[0mfunctools\u001b[0m\u001b[0;34m.\u001b[0m\u001b[0mpartial\u001b[0m\u001b[0;34m)\u001b[0m\u001b[0;34m:\u001b[0m\u001b[0;34m\u001b[0m\u001b[0m\n",
      "\u001b[0;32m/anaconda3/envs/py27_clean/lib/python2.7/site-packages/funcsigs/__init__.pyc\u001b[0m in \u001b[0;36mfrom_function\u001b[0;34m(cls, func)\u001b[0m\n\u001b[1;32m    553\u001b[0m             \u001b[0mannotation\u001b[0m \u001b[0;34m=\u001b[0m \u001b[0mannotations\u001b[0m\u001b[0;34m.\u001b[0m\u001b[0mget\u001b[0m\u001b[0;34m(\u001b[0m\u001b[0mname\u001b[0m\u001b[0;34m,\u001b[0m \u001b[0m_empty\u001b[0m\u001b[0;34m)\u001b[0m\u001b[0;34m\u001b[0m\u001b[0m\n\u001b[1;32m    554\u001b[0m             parameters.append(Parameter(name, annotation=annotation,\n\u001b[0;32m--> 555\u001b[0;31m                                         kind=_POSITIONAL_OR_KEYWORD))\n\u001b[0m\u001b[1;32m    556\u001b[0m \u001b[0;34m\u001b[0m\u001b[0m\n\u001b[1;32m    557\u001b[0m         \u001b[0;31m# ... w/ defaults.\u001b[0m\u001b[0;34m\u001b[0m\u001b[0;34m\u001b[0m\u001b[0m\n",
      "\u001b[0;32m/anaconda3/envs/py27_clean/lib/python2.7/site-packages/funcsigs/__init__.pyc\u001b[0m in \u001b[0;36m__init__\u001b[0;34m(self, name, kind, default, annotation, _partial_kwarg)\u001b[0m\n\u001b[1;32m    270\u001b[0m             \u001b[0;32mif\u001b[0m \u001b[0mkind\u001b[0m \u001b[0;34m!=\u001b[0m \u001b[0m_POSITIONAL_ONLY\u001b[0m \u001b[0;32mand\u001b[0m \u001b[0;32mnot\u001b[0m \u001b[0mre\u001b[0m\u001b[0;34m.\u001b[0m\u001b[0mmatch\u001b[0m\u001b[0;34m(\u001b[0m\u001b[0;34mr'[a-z_]\\w*$'\u001b[0m\u001b[0;34m,\u001b[0m \u001b[0mname\u001b[0m\u001b[0;34m,\u001b[0m \u001b[0mre\u001b[0m\u001b[0;34m.\u001b[0m\u001b[0mI\u001b[0m\u001b[0;34m)\u001b[0m\u001b[0;34m:\u001b[0m\u001b[0;34m\u001b[0m\u001b[0m\n\u001b[1;32m    271\u001b[0m                 \u001b[0mmsg\u001b[0m \u001b[0;34m=\u001b[0m \u001b[0;34m'{0!r} is not a valid parameter name'\u001b[0m\u001b[0;34m.\u001b[0m\u001b[0mformat\u001b[0m\u001b[0;34m(\u001b[0m\u001b[0mname\u001b[0m\u001b[0;34m)\u001b[0m\u001b[0;34m\u001b[0m\u001b[0m\n\u001b[0;32m--> 272\u001b[0;31m                 \u001b[0;32mraise\u001b[0m \u001b[0mValueError\u001b[0m\u001b[0;34m(\u001b[0m\u001b[0mmsg\u001b[0m\u001b[0;34m)\u001b[0m\u001b[0;34m\u001b[0m\u001b[0m\n\u001b[0m\u001b[1;32m    273\u001b[0m             \u001b[0mself\u001b[0m\u001b[0;34m.\u001b[0m\u001b[0m_name\u001b[0m \u001b[0;34m=\u001b[0m \u001b[0mname\u001b[0m\u001b[0;34m\u001b[0m\u001b[0m\n\u001b[1;32m    274\u001b[0m \u001b[0;34m\u001b[0m\u001b[0m\n",
      "\u001b[0;31mValueError\u001b[0m: '.0' is not a valid parameter name"
     ]
    }
   ],
   "source": [
    "@jit\n",
    "def roll_corr2((a, b), window):\n",
    "    out = np.ones_like(a)*np.nan\n",
    "    for i in xrange(window-1, a.shape[0]):   # 2- 10\n",
    "        #print \"%d --> %d\" % ((i-(window-1)), i)\n",
    "        for j in xrange(a.shape[1]):\n",
    "            out[i, j] = pearsonr(\n",
    "                a[(i-(window-1)):(i), j], b[(i-(window-1)):(i), j]\n",
    "            )[0]\n",
    "    return out"
   ]
  },
  {
   "cell_type": "code",
   "execution_count": 207,
   "metadata": {},
   "outputs": [],
   "source": [
    "def scale(x):\n",
    "    return (x - np.nanmean(x))/np.nansum(np.abs(x - np.nanmean(x)))"
   ]
  },
  {
   "cell_type": "code",
   "execution_count": 211,
   "metadata": {},
   "outputs": [
    {
     "data": {
      "text/plain": [
       "array([[ 0.32572934, -0.5       ,  0.17427066],\n",
       "       [ 0.4853247 ,  0.0146753 , -0.5       ],\n",
       "       [-0.23118186,  0.5       , -0.26881814],\n",
       "       [-0.5       ,  0.11250682,  0.38749318],\n",
       "       [-0.5       ,  0.07890222,  0.42109778],\n",
       "       [ 0.14084777,  0.35915223, -0.5       ],\n",
       "       [ 0.5       , -0.02694105, -0.47305895],\n",
       "       [-0.45819778, -0.04180222,  0.5       ],\n",
       "       [-0.23369585, -0.26630415,  0.5       ],\n",
       "       [-0.5       ,  0.41441077,  0.08558923]])"
      ]
     },
     "execution_count": 211,
     "metadata": {},
     "output_type": "execute_result"
    }
   ],
   "source": [
    "np.apply_along_axis(lambda x: (x - np.nanmean(x))/np.nansum(np.abs(x - np.nanmean(x))), 1, a)"
   ]
  },
  {
   "cell_type": "code",
   "execution_count": 201,
   "metadata": {},
   "outputs": [
    {
     "data": {
      "text/plain": [
       "array([[ 0.77132064,  0.02075195,  0.63364823],\n",
       "       [ 0.74880388,  0.49850701,  0.22479665],\n",
       "       [ 0.19806286,  0.76053071,  0.16911084],\n",
       "       [ 0.08833981,  0.68535982,  0.95339335],\n",
       "       [ 0.00394827,  0.51219226,  0.81262096],\n",
       "       [ 0.61252607,  0.72175532,  0.29187607],\n",
       "       [ 0.91777412,  0.71457578,  0.54254437],\n",
       "       [ 0.14217005,  0.37334076,  0.67413362],\n",
       "       [ 0.44183317,  0.43401399,  0.61776698],\n",
       "       [ 0.51313824,  0.65039718,  0.60103895]])"
      ]
     },
     "execution_count": 201,
     "metadata": {},
     "output_type": "execute_result"
    }
   ],
   "source": []
  },
  {
   "cell_type": "code",
   "execution_count": 33,
   "metadata": {},
   "outputs": [
    {
     "data": {
      "text/plain": [
       "1.0"
      ]
     },
     "execution_count": 33,
     "metadata": {},
     "output_type": "execute_result"
    }
   ],
   "source": [
    "from __future__ import division\n",
    "\n",
    "np.sum()"
   ]
  },
  {
   "cell_type": "code",
   "execution_count": 29,
   "metadata": {},
   "outputs": [
    {
     "data": {
      "text/plain": [
       "55"
      ]
     },
     "execution_count": 29,
     "metadata": {},
     "output_type": "execute_result"
    }
   ],
   "source": []
  },
  {
   "cell_type": "code",
   "execution_count": 196,
   "metadata": {},
   "outputs": [],
   "source": [
    "import numpy as np\n",
    "import pandas as pd\n",
    "from scipy.stats import pearsonr\n",
    "np.random.seed(2)\n",
    "a = np.random.random(30).reshape(10,3)    # days x stocks\n",
    "b = np.random.randint(2, 5, size=(1,3))   # Industry cat vars as integers"
   ]
  },
  {
   "cell_type": "code",
   "execution_count": 197,
   "metadata": {},
   "outputs": [
    {
     "data": {
      "text/plain": [
       "array([[ 0.4359949 ,  0.02592623,  0.54966248],\n",
       "       [ 0.43532239,  0.4203678 ,  0.33033482],\n",
       "       [ 0.20464863,  0.61927097,  0.29965467],\n",
       "       [ 0.26682728,  0.62113383,  0.52914209],\n",
       "       [ 0.13457995,  0.51357812,  0.18443987],\n",
       "       [ 0.78533515,  0.85397529,  0.49423684],\n",
       "       [ 0.84656149,  0.07964548,  0.50524609],\n",
       "       [ 0.0652865 ,  0.42812233,  0.09653092],\n",
       "       [ 0.12715997,  0.59674531,  0.226012  ],\n",
       "       [ 0.10694568,  0.22030621,  0.34982629]])"
      ]
     },
     "execution_count": 197,
     "metadata": {},
     "output_type": "execute_result"
    }
   ],
   "source": [
    "a"
   ]
  },
  {
   "cell_type": "code",
   "execution_count": 198,
   "metadata": {},
   "outputs": [
    {
     "data": {
      "text/plain": [
       "array([[4, 2, 4]])"
      ]
     },
     "execution_count": 198,
     "metadata": {},
     "output_type": "execute_result"
    }
   ],
   "source": [
    "b"
   ]
  },
  {
   "cell_type": "code",
   "execution_count": 199,
   "metadata": {},
   "outputs": [],
   "source": [
    "ohe = np.zeros((b.size, b.max()+1))\n",
    "ohe[np.arange(b.size),b] = 1"
   ]
  },
  {
   "cell_type": "code",
   "execution_count": 191,
   "metadata": {},
   "outputs": [
    {
     "data": {
      "text/plain": [
       "array([[ 0.,  0.,  0.],\n",
       "       [ 0.,  0.,  0.],\n",
       "       [ 0.,  1.,  0.],\n",
       "       [ 0.,  0.,  0.],\n",
       "       [ 1.,  0.,  1.]])"
      ]
     },
     "execution_count": 191,
     "metadata": {},
     "output_type": "execute_result"
    }
   ],
   "source": [
    "ohe.T"
   ]
  },
  {
   "cell_type": "code",
   "execution_count": 200,
   "metadata": {},
   "outputs": [],
   "source": [
    "ind_mean = np.nan_to_num(a.dot(ohe)/ohe.sum(axis=0))"
   ]
  },
  {
   "cell_type": "code",
   "execution_count": 203,
   "metadata": {},
   "outputs": [
    {
     "data": {
      "text/plain": [
       "array([[ 0.        ,  0.        ,  0.02592623,  0.        ,  0.49282869],\n",
       "       [ 0.        ,  0.        ,  0.4203678 ,  0.        ,  0.38282861],\n",
       "       [ 0.        ,  0.        ,  0.61927097,  0.        ,  0.25215165],\n",
       "       [ 0.        ,  0.        ,  0.62113383,  0.        ,  0.39798468],\n",
       "       [ 0.        ,  0.        ,  0.51357812,  0.        ,  0.15950991],\n",
       "       [ 0.        ,  0.        ,  0.85397529,  0.        ,  0.63978599],\n",
       "       [ 0.        ,  0.        ,  0.07964548,  0.        ,  0.67590379],\n",
       "       [ 0.        ,  0.        ,  0.42812233,  0.        ,  0.08090871],\n",
       "       [ 0.        ,  0.        ,  0.59674531,  0.        ,  0.17658599],\n",
       "       [ 0.        ,  0.        ,  0.22030621,  0.        ,  0.22838598]])"
      ]
     },
     "execution_count": 203,
     "metadata": {},
     "output_type": "execute_result"
    }
   ],
   "source": [
    "ind_mean"
   ]
  },
  {
   "cell_type": "code",
   "execution_count": 206,
   "metadata": {},
   "outputs": [],
   "source": [
    "per_stock_ind_mean = ind_mean.dot(ohe.T)"
   ]
  },
  {
   "cell_type": "code",
   "execution_count": 207,
   "metadata": {},
   "outputs": [
    {
     "data": {
      "text/plain": [
       "array([[ 0.49282869,  0.02592623,  0.49282869],\n",
       "       [ 0.38282861,  0.4203678 ,  0.38282861],\n",
       "       [ 0.25215165,  0.61927097,  0.25215165],\n",
       "       [ 0.39798468,  0.62113383,  0.39798468],\n",
       "       [ 0.15950991,  0.51357812,  0.15950991],\n",
       "       [ 0.63978599,  0.85397529,  0.63978599],\n",
       "       [ 0.67590379,  0.07964548,  0.67590379],\n",
       "       [ 0.08090871,  0.42812233,  0.08090871],\n",
       "       [ 0.17658599,  0.59674531,  0.17658599],\n",
       "       [ 0.22838598,  0.22030621,  0.22838598]])"
      ]
     },
     "execution_count": 207,
     "metadata": {},
     "output_type": "execute_result"
    }
   ],
   "source": [
    "per_stock_ind_mean # per stock ind_mean by day!"
   ]
  },
  {
   "cell_type": "code",
   "execution_count": null,
   "metadata": {},
   "outputs": [],
   "source": []
  }
 ],
 "metadata": {
  "kernelspec": {
   "display_name": "Python 2.7 (py27_clean)",
   "language": "python",
   "name": "py27_clean"
  },
  "language_info": {
   "codemirror_mode": {
    "name": "ipython",
    "version": 2
   },
   "file_extension": ".py",
   "mimetype": "text/x-python",
   "name": "python",
   "nbconvert_exporter": "python",
   "pygments_lexer": "ipython2",
   "version": "2.7.15"
  }
 },
 "nbformat": 4,
 "nbformat_minor": 2
}
