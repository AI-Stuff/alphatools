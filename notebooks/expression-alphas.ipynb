{
 "cells": [
  {
   "cell_type": "code",
   "execution_count": 43,
   "metadata": {},
   "outputs": [],
   "source": [
    "from alphatools.research import run_pipeline, make_factor_plot\n",
    "from alphatools.expression import ExpressionAlpha\n",
    "from alphatools.ics import Sector\n",
    "from alphatools.ics import SubIndustry as Industry\n",
    "from zipline.pipeline.factors import AverageDollarVolume, Returns\n",
    "from zipline.pipeline import Pipeline\n",
    "from zipline.pipeline.data import USEquityPricing as USEP\n",
    "\n",
    "from IPython.display import Image"
   ]
  },
  {
   "cell_type": "code",
   "execution_count": 41,
   "metadata": {},
   "outputs": [],
   "source": [
    "universe = AverageDollarVolume(window_length=120).top(2000)"
   ]
  },
  {
   "cell_type": "code",
   "execution_count": 42,
   "metadata": {},
   "outputs": [],
   "source": [
    "expressions = {\n",
    "    1: '(rank(ts_argmax(signedpower(((returns < 0) ? stddev(returns, 20) : close), 2.), 5)) - 0.5)',\n",
    "    2: '(-1 * correlation(rank(delta(log(volume), 2)), rank(((close - opens) / opens)), 6))',\n",
    "    3: '(-1 * correlation(rank(opens), rank(volume), 10))',\n",
    "    4: '(-1 * ts_rank(rank(low), 9))',\n",
    "    5: '(rank((opens - (sum(vwap, 10) / 10))) * (-1 * abs(rank((close - vwap)))))',\n",
    "    6: '(-1 * correlation(opens, volume, 10))',\n",
    "    7: '((adv20 < volume) ? ((-1 * ts_rank(abs(delta(close, 7)), 60)) * sign(delta(close, 7))) : (-1* 1))',\n",
    "    8:  '-1*rank(((sum(opens, 5)*sum(returns, 5))-delay((sum(opens, 5)*sum(returns, 5)),10)))',\n",
    "    9: '((0 < ts_min(delta(close, 1), 5)) ? delta(close, 1) : ((ts_max(delta(close, 1), 5) < 0) ? delta(close, 1) : (-1 * delta(close, 1))))',\n",
    "    10: 'rank(((0 < ts_min(delta(close, 1), 4)) ? delta(close, 1) : ((ts_max(delta(close, 1), 4) < 0) ? delta(close, 1) : (-1 * delta(close, 1)))))',\n",
    "    11: '((rank(ts_max((vwap - close), 3)) + rank(ts_min((vwap - close), 3))) * rank(delta(volume, 3)))',\n",
    "    12: '(sign(delta(volume, 1)) * (-1 * delta(close, 1)))',\n",
    "    13: '(-1 * rank(covariance(rank(close), rank(volume), 5)))',\n",
    "    14: '((-1 * rank(delta(returns, 3))) * correlation(opens, volume, 10))',\n",
    "    15: '(-1 * sum(rank(correlation(rank(high), rank(volume), 3)), 3))',\n",
    "    16: '(-1 * rank(covariance(rank(high), rank(volume), 5)))',\n",
    "    17: '(((-1 * rank(ts_rank(close, 10))) * rank(delta(delta(close, 1), 1))) *rank(ts_rank((volume / adv20), 5)))',\n",
    "    18: '(-1 * rank(((stddev(abs((close - opens)), 5) + (close - opens)) + correlation(close, opens,10))))',\n",
    "    19: '((-1 * sign(((close - delay(close, 7)) + delta(close, 7)))) * (1 + rank((1 + sum(returns, 250)))))',\n",
    "    20: '(((-1 * rank((opens - delay(high, 1)))) * rank((opens - delay(close, 1)))) * rank((opens - delay(low, 1))))',\n",
    "    21: '((((sum(close, 8) / 8) + stddev(close, 8)) < (sum(close, 2) / 2)) ? (-1 * 1) : (((sum(close, 2) / 2) < ((sum(close, 8) / 8) - stddev(close, 8))) ? 1 : (((1 < (volume / adv20)) || ((volume/adv20) == 1)) ? 1 : (-1 * 1))))',\n",
    "    22: '(-1 * (delta(correlation(high, volume, 5), 5) * rank(stddev(close, 20))))',\n",
    "    23: '(((sum(high, 20) / 20) < high) ? (-1 * delta(high, 2)) : 0)',\n",
    "    24: '((((delta((sum(close, 100) / 100), 100) / delay(close, 100)) < 0.05) || ((delta((sum(close, 100) / 100), 100) / delay(close, 100)) == 0.05)) ? (-1 * (close - ts_min(close, 100))) : (-1 * delta(close, 3)))',\n",
    "    25: 'rank(((((-1 * returns) * adv20) * vwap) * (high - close)))',\n",
    "    26: '(-1 * ts_max(correlation(ts_rank(volume, 5), ts_rank(high, 5), 5), 3))',\n",
    "    27: '((0.5 < rank((sum(correlation(rank(volume), rank(vwap), 6), 2) / 2.0))) ? (-1 * 1) : 1)',\n",
    "    28: 'scale(((correlation(adv20, low, 5) + ((high + low) / 2)) - close))',\n",
    "    29: '(min(product(rank(rank(scale(log(sum(ts_min(rank(rank((-1 * rank(delta((close - 1),5))))), 2), 1))))), 1), 5) + ts_rank(delay((-1 * returns), 6), 5))',\n",
    "    30: '(((1.0 - rank(((sign((close - delay(close, 1))) + sign((delay(close, 1) - delay(close, 2)))) + sign((delay(close, 2) - delay(close, 3)))))) * sum(volume, 5)) / sum(volume, 20))',\n",
    "    31: '((rank(rank(rank(decay_linear((-1 * rank(rank(delta(close, 10)))), 10)))) + rank((-1 * delta(close, 3)))) + sign(scale(correlation(adv20, low, 12))))',\n",
    "    32: '(scale(((sum(close, 7) / 7) - close)) + (20 * scale(correlation(vwap, delay(close, 5), 230))))',\n",
    "    33: 'rank((-1 * ((1 - (opens / close))^1)))',\n",
    "    34: 'rank(((1 - rank((stddev(returns, 2) / stddev(returns, 5)))) + (1 - rank(delta(close, 1)))))',\n",
    "    35: '((ts_rank(volume, 32) * (1 - ts_rank(((close + high) - low), 16))) * (1 - ts_rank(returns, 32))) ',\n",
    "    36: '(((((2.21 * rank(correlation((close - opens), delay(volume, 1), 15))) + (0.7 * rank((opens - close)))) + (0.73 * rank(ts_rank(delay((-1 * returns), 6), 5)))) + rank(abs(correlation(vwap, adv20, 6)))) + (0.6 * rank((((sum(close, 200) / 200) - opens) * (close - opens))))) ',\n",
    "    37: '(rank(correlation(delay((opens - close), 1), close, 200)) + rank((opens - close))) ',\n",
    "    38: '((-1 * rank(ts_rank(close, 10))) * rank((close / opens)))',\n",
    "    39: '((-1 * rank((delta(close, 7) * (1 - rank(decay_linear((volume / adv20), 9)))))) * (1 + rank(sum(returns, 250))))',\n",
    "    40: '((-1 * rank(stddev(high, 10))) * correlation(high, volume, 10))',\n",
    "    41: '(((high * low)^0.5) - vwap) ',\n",
    "    42: '(rank((vwap - close)) / rank((vwap + close)))',\n",
    "    43: '(ts_rank((volume / adv20), 20) * ts_rank((-1 * delta(close, 7)), 8)) ',\n",
    "    44: '(-1 * correlation(high, rank(volume), 5)) ',\n",
    "    45: '(-1 * ((rank((sum(delay(close, 5), 20) / 20)) * correlation(close, volume, 2)) *rank(correlation(sum(close, 5), sum(close, 20), 2)))) ',\n",
    "    46: '((0.25 < (((delay(close, 20) - delay(close, 10)) / 10) - ((delay(close, 10) - close) / 10))) ? (-1 * 1) : (((((delay(close, 20) - delay(close, 10)) / 10) - ((delay(close, 10) - close) / 10)) < 0) ? 1 : ((-1 * 1) * (close - delay(close, 1))))) ',\n",
    "    47: '((((rank((1 / close)) * volume) / adv20) * ((high * rank((high - close))) / (sum(high, 5) / 5))) - rank((vwap - delay(vwap, 5)))) ',\n",
    "    48: '(indneutralize(((correlation(delta(close, 1), delta(delay(close, 1), 1), 250) * delta(close, 1)) / close), IndClass.subindustry) / sum(((delta(close, 1) / delay(close, 1))^2), 250)) ',\n",
    "    49: '(((((delay(close, 20) - delay(close, 10)) / 10) - ((delay(close, 10) - close) / 10)) < (-1 *0.1)) ? 1 : ((-1 * 1) * (close - delay(close, 1))))',\n",
    "    50: '(-1 * ts_max(rank(correlation(rank(volume), rank(vwap), 5)), 5)) ',\n",
    "    51: '(((((delay(close, 20) - delay(close, 10)) / 10) - ((delay(close, 10) - close) / 10)) < (-1 *0.05)) ? 1 : ((-1 * 1) * (close - delay(close, 1)))) ',\n",
    "    52: '((((-1 * ts_min(low, 5)) + delay(ts_min(low, 5), 5)) * rank(((sum(returns, 240) - sum(returns, 20)) / 220))) * ts_rank(volume, 5)) ',\n",
    "    53: '(-1*delta((((close-low) - (high-close)) / (close-low)), 9))',\n",
    "    54: '((-1 * ((low - close) * (opens^5))) / ((low - high) * (close^5)))',\n",
    "    55: '(-1 * correlation(rank(((close - ts_min(low, 12)) / (ts_max(high, 12) - ts_min(low,12)))), rank(volume), 6))',\n",
    "    56: '(0 - (1 * (rank((sum(returns, 10) / sum(sum(returns, 2), 3))) * rank((returns * cap)))))',\n",
    "    57: '(0 - (1*((close - vwap)/decay_linear(rank(ts_argmax(close, 30)),2))))',\n",
    "    58: '(-1 * ts_rank(decay_linear(correlation(indneutralize(vwap, IndClass.sector), volume,3.92795), 7.89291), 5.50322)) ',\n",
    "    59: '(-1 * ts_rank(decay_linear(correlation(indneutralize(((vwap * 0.728317) + (vwap *(1 - 0.728317))), IndClass.industry), volume, 4.25197), 16.2289), 8.19648)) ',\n",
    "    60: '(0 - (1 * ((2 * scale(rank(((((close - low) - (high - close)) / (high - low)) * volume)))) -scale(rank(ts_argmax(close, 10)))))) ',\n",
    "    61: '(rank((vwap - ts_min(vwap, 16.1219))) < rank(correlation(vwap, adv180, 17.9282))) ',\n",
    "    62: '((rank(correlation(vwap, sum(adv20, 22.4101), 9.91009)) < rank(((rank(opens) + rank(opens)) < (rank(((high + low) / 2)) + rank(high))))) * -1) ',\n",
    "    63: '((rank(decay_linear(delta(indneutralize(close, IndClass.industry), 2.25164), 8.22237)) - rank(decay_linear(correlation(((vwap * 0.318108) + (opens * (1 - 0.318108))), sum(adv180,37.2467), 13.557), 12.2883))) * -1) ',\n",
    "    64: '((rank(correlation(sum(((opens * 0.178404) + (low * (1 - 0.178404))), 12.7054),sum(adv120, 12.7054), 16.6208)) < rank(delta(((((high + low) / 2) * 0.178404) + (vwap * (1 -0.178404))), 3.69741))) * -1) ',\n",
    "    65: '((rank(correlation(((opens * 0.00817205) + (vwap * (1 - 0.00817205))), sum(adv60,8.6911), 6.40374)) < rank((opens - ts_min(opens, 13.635)))) * -1) ',\n",
    "    66: '((rank(decay_linear(delta(vwap, 3.51013), 7.23052)) + ts_rank(decay_linear(((((low* 0.96633) + (low * (1 - 0.96633))) - vwap) / (opens - ((high + low) / 2))), 11.4157), 6.72611)) * -1) ',\n",
    "    67: '((rank((high - ts_min(high, 2.14593)))^rank(correlation(indneutralize(vwap,IndClass.sector), indneutralize(adv20, IndClass.subindustry), 6.02936))) * -1) ',\n",
    "    68: '((ts_rank(correlation(rank(high), rank(adv15), 8.91644), 13.9333) < rank(delta(((close * 0.518371) + (low * (1 - 0.518371))), 1.06157))) * -1) ', \n",
    "    69: '((rank(ts_max(delta(indneutralize(vwap, IndClass.industry), 2.72412),4.79344))^ts_rank(correlation(((close * 0.490655) + (vwap * (1 - 0.490655))), adv20, 4.92416),9.0615)) * -1) ',\n",
    "    70: '((rank(delta(vwap, 1.29456))^ts_rank(correlation(indneutralize(close,IndClass.industry), adv50, 17.8256), 17.9171)) * -1) ',\n",
    "    71: 'max(ts_rank(decay_linear(correlation(ts_rank(close, 3.43976), ts_rank(adv180,12.0647), 18.0175), 4.20501), 15.6948), ts_rank(decay_linear((rank(((low + opens) - (vwap + vwap)))^2), 16.4662), 4.4388))',\n",
    "    72: '(rank(decay_linear(correlation(((high + low) / 2), adv40, 8.93345), 10.1519)) / rank(decay_linear(correlation(ts_rank(vwap, 3.72469), ts_rank(volume, 18.5188), 6.86671),2.95011))) ',\n",
    "    73: '(max(rank(decay_linear(delta(vwap, 4.72775), 2.91864)), ts_rank(decay_linear(((delta(((opens * 0.147155) + (low * (1 - 0.147155))), 2.03608) / ((opens * 0.147155) + (low * (1 - 0.147155)))) * -1), 3.33829), 16.7411)) * -1) ',\n",
    "    74: '((rank(correlation(close, sum(adv30, 37.4843), 15.1365)) <rank(correlation(rank(((high * 0.0261661) + (vwap * (1 - 0.0261661)))), rank(volume), 11.4791)))* -1) ',\n",
    "    75: '(rank(correlation(vwap, volume, 4.24304)) < rank(correlation(rank(low), rank(adv50),12.4413)))',\n",
    "    76: '(max(rank(decay_linear(delta(vwap, 1.24383), 11.8259)),ts_rank(decay_linear(ts_rank(correlation(indneutralize(low, IndClass.sector), adv81,8.14941), 19.569), 17.1543), 19.383)) * -1) ',\n",
    "    77: 'min(rank(decay_linear(((((high + low) / 2) + high) - (vwap + high)), 20.0451)),rank(decay_linear(correlation(((high + low) / 2), adv40, 3.1614), 5.64125))) ',\n",
    "    78: '(rank(correlation(sum(((low * 0.352233) + (vwap * (1 - 0.352233))), 19.7428),sum(adv40, 19.7428), 6.83313))^rank(correlation(rank(vwap), rank(volume), 5.77492))) ',\n",
    "    79: '(rank(delta(indneutralize(((close * 0.60733) + (opens * (1 - 0.60733))),IndClass.sector), 1.23438)) < rank(correlation(ts_rank(vwap, 3.60973), ts_rank(adv150,9.18637), 14.6644))) ',\n",
    "    80: '((rank(sign(delta(indneutralize(((opens * 0.868128) + (high * (1 - 0.868128))),IndClass.industry), 4.04545)))^ts_rank(correlation(high, adv10, 5.11456), 5.53756)) * -1) ',\n",
    "    81: '((rank(log(product(rank((rank(correlation(vwap, sum(adv10, 49.6054),8.47743))^4)), 14.9655))) < rank(correlation(rank(vwap), rank(volume), 5.07914))) * -1) ',\n",
    "    82: '(min(rank(decay_linear(delta(opens, 1.46063), 14.8717)),ts_rank(decay_linear(correlation(indneutralize(volume, IndClass.sector), ((opens * 0.634196) +(opens * (1 - 0.634196))), 17.4842), 6.92131), 13.4283)) * -1) ',\n",
    "    83: '((rank(delay(((high - low) / (sum(close, 5) / 5)), 2)) * rank(rank(volume))) / (((high -low) / (sum(close, 5) / 5)) / (vwap - close))) ',\n",
    "    84: 'signedpower(ts_rank((vwap - ts_max(vwap, 15.3217)), 20.7127), delta(close,4.96796)) ',\n",
    "    85: '(rank(correlation(((high * 0.876703) + (close * (1 - 0.876703))), adv30,9.61331))^rank(correlation(ts_rank(((high + low) / 2), 3.70596), ts_rank(volume, 10.1595),7.11408))) ',\n",
    "    86: '((ts_rank(correlation(close, sum(adv20, 14.7444), 6.00049), 20.4195) < rank(((opens+ close) - (vwap + opens)))) * -1) ',\n",
    "    87: '(max(rank(decay_linear(delta(((close * 0.369701) + (vwap * (1 - 0.369701))),1.91233), 2.65461)), ts_rank(decay_linear(abs(correlation(indneutralize(adv81,IndClass.industry), close, 13.4132)), 4.89768), 14.4535)) * -1) ',\n",
    "    88: 'min(rank(decay_linear(((rank(opens) + rank(low)) - (rank(high) + rank(close))),8.06882)), ts_rank(decay_linear(correlation(ts_rank(close, 8.44728), ts_rank(adv60,20.6966), 8.01266), 6.65053), 2.61957)) ',\n",
    "    89: '(ts_rank(decay_linear(correlation(((low * 0.967285) + (low * (1 - 0.967285))), adv10,6.94279), 5.51607), 3.79744) - ts_rank(decay_linear(delta(indneutralize(vwap,IndClass.industry), 3.48158), 10.1466), 15.3012)) ',\n",
    "    90: '((rank((close - ts_max(close, 4.66719)))^ts_rank(correlation(indneutralize(adv40,IndClass.subindustry), low, 5.38375), 3.21856)) * -1) ',\n",
    "    91: '((ts_rank(decay_linear(decay_linear(correlation(indneutralize(close,IndClass.industry), volume, 9.74928), 16.398), 3.83219), 4.8667) -rank(decay_linear(correlation(vwap, adv30, 4.01303), 2.6809))) * -1) ',\n",
    "    92: 'min(ts_rank(decay_linear(((((high + low) / 2) + close) < (low + opens)), 14.7221),18.8683), ts_rank(decay_linear(correlation(rank(low), rank(adv30), 7.58555), 6.94024),6.80584)) ',\n",
    "    93: '(ts_rank(decay_linear(correlation(indneutralize(vwap, IndClass.industry), adv81,17.4193), 19.848), 7.54455) / rank(decay_linear(delta(((close * 0.524434) + (vwap * (1 -0.524434))), 2.77377), 16.2664))) ',\n",
    "    94: '((rank((vwap - ts_min(vwap, 11.5783)))^ts_rank(correlation(ts_rank(vwap,19.6462), ts_rank(adv60, 4.02992), 18.0926), 2.70756)) * -1)',\n",
    "    95: '(rank((opens - ts_min(opens, 12.4105))) < ts_rank((rank(correlation(sum(((high + low)/ 2), 19.1351), sum(adv40, 19.1351), 12.8742))^5), 11.7584)) ',\n",
    "    96: '(max(ts_rank(decay_linear(correlation(rank(vwap), rank(volume), 3.83878),4.16783), 8.38151), ts_rank(decay_linear(ts_argmax(correlation(ts_rank(close, 7.45404),ts_rank(adv60, 4.13242), 3.65459), 12.6556), 14.0365), 13.4143)) * -1)',\n",
    "    97: '((rank(decay_linear(delta(indneutralize(((low * 0.721001) + (vwap * (1 - 0.721001))),IndClass.industry), 3.3705), 20.4523)) - ts_rank(decay_linear(ts_rank(correlation(ts_rank(low,7.87871), ts_rank(adv60, 17.255), 4.97547), 18.5925), 15.7152), 6.71659)) * -1) ',\n",
    "    98: '(rank(decay_linear(correlation(vwap, sum(adv5, 26.4719), 4.58418), 7.18088)) -rank(decay_linear(ts_rank(ts_argmin(correlation(rank(opens), rank(adv15), 20.8187), 8.62571),6.95668), 8.07206))) ',\n",
    "    99: '((rank(correlation(sum(((high + low) / 2), 19.8975), sum(adv60, 19.8975), 8.8136)) <rank(correlation(low, volume, 6.28259))) * -1) ',\n",
    "    100: '(0 - (1 * (((1.5 * scale(indneutralize(indneutralize(rank(((((close - low) - (high -close)) / (high - low)) * volume)), IndClass.subindustry), IndClass.subindustry))) -scale(indneutralize((correlation(close, rank(adv20), 5) - rank(ts_argmin(close, 30))),IndClass.subindustry))) * (volume / adv20)))) ',\n",
    "    101: '((close - opens) / ((high - low) + .001))'\n",
    "}\n"
   ]
  },
  {
   "cell_type": "code",
   "execution_count": 18,
   "metadata": {},
   "outputs": [],
   "source": [
    "alphas = {\n",
    "    102: 'scale((close > delay(close, 1)) ? opens : delay(opens, 1))',\n",
    "    103: '-rank(stddev(returns, 60))*log(close/delay(close,5))',\n",
    "    104: 'product(1+returns, 20)',\n",
    "    105: 'rank(indneutralize(close))',\n",
    "    106: '(returns > 0) ? factory(\"sample\") : -sum(returns, 5)',\n",
    "    107: '(factory(\"other\") > 0) ? factory(\"sample\") : -sum(returns, 5)',\n",
    "    'test': '-delta(close, 1)',\n",
    "    'test1': '(delta(close, 5)/delay(close,5))',\n",
    "    'test2': 'rank((-(delta(close, 5)/(delay(close,5)))))',\n",
    "    'test3': 'rank(indneutralize(-(delta(close, 5)/close)))',\n",
    "}"
   ]
  },
  {
   "cell_type": "code",
   "execution_count": 19,
   "metadata": {},
   "outputs": [],
   "source": [
    "import json\n"
   ]
  },
  {
   "cell_type": "code",
   "execution_count": 20,
   "metadata": {},
   "outputs": [],
   "source": [
    "#with open('one_o_one_alphas.json', 'ws') as fp:\n",
    "#    json.dump(expressions, fp, indent=4)"
   ]
  },
  {
   "cell_type": "code",
   "execution_count": 21,
   "metadata": {},
   "outputs": [],
   "source": [
    "expr = {}\n",
    "with open('one_o_one_alphas.json', 'rs') as fp:\n",
    "    expr = json.load(fp)"
   ]
  },
  {
   "cell_type": "code",
   "execution_count": 64,
   "metadata": {},
   "outputs": [],
   "source": [
    "idx = 22\n",
    "e = ExpressionAlpha(expr[str(idx)])\n",
    "#f = ExpressionAlpha(expressions['test'])\n",
    "#e = ExpressionAlpha(alphas[106])"
   ]
  },
  {
   "cell_type": "code",
   "execution_count": 65,
   "metadata": {},
   "outputs": [
    {
     "name": "stdout",
     "output_type": "stream",
     "text": [
      "neg\n",
      "  mult\n",
      "    number\t1\n",
      "    mult\n",
      "      delta\n",
      "        correlation\n",
      "          high\n",
      "          volume\n",
      "          5\n",
      "        5\n",
      "      rank\n",
      "        stddev\n",
      "          close\n",
      "          20\n",
      "\n"
     ]
    }
   ],
   "source": [
    "e.parse()\n",
    "print(e.tree.pretty())"
   ]
  },
  {
   "cell_type": "code",
   "execution_count": 66,
   "metadata": {},
   "outputs": [
    {
     "name": "stdout",
     "output_type": "stream",
     "text": [
      "/Users/jonathan/devwork/alphatools/notebooks\r\n"
     ]
    }
   ],
   "source": [
    "!pwd"
   ]
  },
  {
   "cell_type": "code",
   "execution_count": 67,
   "metadata": {},
   "outputs": [],
   "source": [
    "from lark.tree import pydot__tree_to_png\n",
    "pydot__tree_to_png(e.tree, \"alpha\" + str(idx) + \".png\")"
   ]
  },
  {
   "cell_type": "code",
   "execution_count": 68,
   "metadata": {},
   "outputs": [],
   "source": [
    "def save_pngs(start=55, end=70):\n",
    "    for i in range(start, end+1):\n",
    "        print i\n",
    "        e = ExpressionAlpha(expressions[i])\n",
    "        e.parse()\n",
    "        pydot__tree_to_png(e.tree, \"alpha\" + str(i) + \".png\")"
   ]
  },
  {
   "cell_type": "code",
   "execution_count": 69,
   "metadata": {},
   "outputs": [],
   "source": [
    "#save_pngs(90,101)"
   ]
  },
  {
   "cell_type": "code",
   "execution_count": 70,
   "metadata": {},
   "outputs": [
    {
     "data": {
      "text/plain": [
       "<alphatools.expression.expression.ExpressionAlpha instance at 0x1c1ce65b48>"
      ]
     },
     "execution_count": 70,
     "metadata": {},
     "output_type": "execute_result"
    }
   ],
   "source": [
    "e.transform()"
   ]
  },
  {
   "cell_type": "code",
   "execution_count": 71,
   "metadata": {},
   "outputs": [
    {
     "name": "stdout",
     "output_type": "stream",
     "text": [
      "class ExprAlpha_1(CustomFactor):\n",
      "    inputs = [USEP.high, USEP.volume, USEP.close]\n",
      "    window_length = 32\n",
      "\n",
      "    def compute(self, today, assets, out, high, volume, close):\n",
      "        v0 = pd.DataFrame(high).rolling(window=5, min_periods=5).corr(\n",
      "            other=pd.DataFrame(volume)).values\n",
      "        v1 = v0 - np.roll(v0, 5, axis=0)\n",
      "        v2 = bn.move_std(close, window=20, min_count=1,  axis=0)\n",
      "        v3 = np.apply_along_axis(rankdata, 1, v2, method=\"ordinal\")\n",
      "        v4 = np.divide(v3.astype(float), np.sum(\n",
      "            ~np.isnan(v3), axis=1).reshape(v3.shape[0], 1))\n",
      "        v5 = v1*v4\n",
      "        v6 = 1*v5\n",
      "        v7 = -v6\n",
      "        out[:] = v7[-1]\n",
      "\n"
     ]
    }
   ],
   "source": [
    "e.generate_pipeline_code()\n",
    "print(e.pipeline_code)"
   ]
  },
  {
   "cell_type": "code",
   "execution_count": 72,
   "metadata": {},
   "outputs": [
    {
     "data": {
      "image/png": "[encoded data removed]",
      "text/plain": [
       "<IPython.core.display.Image object>"
      ]
     },
     "execution_count": 72,
     "metadata": {},
     "output_type": "execute_result"
    }
   ],
   "source": [
    "Image('alpha'+str(idx)+'.png')"
   ]
  },
  {
   "cell_type": "code",
   "execution_count": 17,
   "metadata": {},
   "outputs": [
    {
     "data": {
      "text/plain": [
       "'from __future__ import division\\nfrom alphatools.data import Factory\\nfrom zipline.pipeline.factors import Returns\\nfrom zipline.pipeline.factors import CustomFactor\\nimport numpy as np\\nimport bottleneck as bn\\nimport pandas as pd\\n'"
      ]
     },
     "execution_count": 17,
     "metadata": {},
     "output_type": "execute_result"
    }
   ],
   "source": [
    "e.imports"
   ]
  },
  {
   "cell_type": "code",
   "execution_count": 18,
   "metadata": {},
   "outputs": [],
   "source": [
    "expr_factor = (\n",
    "    ExpressionAlpha('rank(log(close/delay(close, 5)))').\n",
    "    make_pipeline_factor().\n",
    "    pipeline_factor(mask=universe)\n",
    ")"
   ]
  },
  {
   "cell_type": "code",
   "execution_count": 63,
   "metadata": {},
   "outputs": [],
   "source": [
    "p = Pipeline(screen=universe)\n",
    "\n",
    "mr_fac = -Returns(window_length=5, mask=universe).demean(groupby=Industry()).rank()\n",
    "mr_fac = -Returns(window_length=5, mask=universe).rank()\n",
    "mr_fac = -Returns(window_length=5)\n",
    "\n",
    "#p.add(mr_fac, 'Control')\n",
    "#p.add(USEP.close.latest, 'Control_close')\n",
    "p.add(e.make_pipeline_factor().pipeline_factor(mask=universe), \"Expression Alpha\")\n",
    "#p.add(f.make_pipeline_factor().pipeline_factor(mask=universe), \"Expression Alpha1\")\n",
    "#p.add(g.make_pipeline_factor().pipeline_factor(mask=universe), \"Expression Alpha2\")\n",
    "\n",
    "#p.show_graph()"
   ]
  },
  {
   "cell_type": "code",
   "execution_count": null,
   "metadata": {},
   "outputs": [],
   "source": [
    "start_date = '2014-01-02'\n",
    "end_date = '2018-01-02'\n",
    "\n",
    "df = run_pipeline(p, start_date, end_date)"
   ]
  },
  {
   "cell_type": "code",
   "execution_count": 20,
   "metadata": {},
   "outputs": [
    {
     "data": {
      "text/html": [
       "<div>\n",
       "<table border=\"1\" class=\"dataframe\">\n",
       "  <thead>\n",
       "    <tr style=\"text-align: right;\">\n",
       "      <th></th>\n",
       "      <th></th>\n",
       "      <th>Expression Alpha</th>\n",
       "    </tr>\n",
       "  </thead>\n",
       "  <tbody>\n",
       "    <tr>\n",
       "      <th rowspan=\"30\" valign=\"top\">2014-01-02 00:00:00+00:00</th>\n",
       "      <th>Equity(0 [A])</th>\n",
       "      <td>-0.000397</td>\n",
       "    </tr>\n",
       "    <tr>\n",
       "      <th>Equity(2 [AAL])</th>\n",
       "      <td>0.002504</td>\n",
       "    </tr>\n",
       "    <tr>\n",
       "      <th>Equity(3 [AAMC])</th>\n",
       "      <td>0.008796</td>\n",
       "    </tr>\n",
       "    <tr>\n",
       "      <th>Equity(4 [AAN])</th>\n",
       "      <td>0.000004</td>\n",
       "    </tr>\n",
       "    <tr>\n",
       "      <th>Equity(7 [AAP])</th>\n",
       "      <td>0.002524</td>\n",
       "    </tr>\n",
       "    <tr>\n",
       "      <th>Equity(8 [AAPL])</th>\n",
       "      <td>0.000469</td>\n",
       "    </tr>\n",
       "    <tr>\n",
       "      <th>Equity(9 [AAT])</th>\n",
       "      <td>-0.002618</td>\n",
       "    </tr>\n",
       "    <tr>\n",
       "      <th>Equity(10 [AAWW])</th>\n",
       "      <td>-0.000069</td>\n",
       "    </tr>\n",
       "    <tr>\n",
       "      <th>Equity(11 [ABAX])</th>\n",
       "      <td>-0.000209</td>\n",
       "    </tr>\n",
       "    <tr>\n",
       "      <th>Equity(12 [ABBV])</th>\n",
       "      <td>-0.000211</td>\n",
       "    </tr>\n",
       "    <tr>\n",
       "      <th>Equity(13 [ABC])</th>\n",
       "      <td>-0.000032</td>\n",
       "    </tr>\n",
       "    <tr>\n",
       "      <th>Equity(15 [ABCO])</th>\n",
       "      <td>0.005904</td>\n",
       "    </tr>\n",
       "    <tr>\n",
       "      <th>Equity(16 [ABFS])</th>\n",
       "      <td>-0.001148</td>\n",
       "    </tr>\n",
       "    <tr>\n",
       "      <th>Equity(17 [ABG])</th>\n",
       "      <td>0.000252</td>\n",
       "    </tr>\n",
       "    <tr>\n",
       "      <th>Equity(18 [ABM])</th>\n",
       "      <td>-0.001989</td>\n",
       "    </tr>\n",
       "    <tr>\n",
       "      <th>Equity(19 [ABMD])</th>\n",
       "      <td>-0.002281</td>\n",
       "    </tr>\n",
       "    <tr>\n",
       "      <th>Equity(20 [ABT])</th>\n",
       "      <td>-0.000279</td>\n",
       "    </tr>\n",
       "    <tr>\n",
       "      <th>Equity(21 [ACAD])</th>\n",
       "      <td>-0.004541</td>\n",
       "    </tr>\n",
       "    <tr>\n",
       "      <th>Equity(22 [ACAS])</th>\n",
       "      <td>0.002868</td>\n",
       "    </tr>\n",
       "    <tr>\n",
       "      <th>Equity(23 [ACAT])</th>\n",
       "      <td>0.000350</td>\n",
       "    </tr>\n",
       "    <tr>\n",
       "      <th>Equity(24 [ACC])</th>\n",
       "      <td>-0.000817</td>\n",
       "    </tr>\n",
       "    <tr>\n",
       "      <th>Equity(26 [ACCO])</th>\n",
       "      <td>0.000042</td>\n",
       "    </tr>\n",
       "    <tr>\n",
       "      <th>Equity(27 [ACE])</th>\n",
       "      <td>0.000465</td>\n",
       "    </tr>\n",
       "    <tr>\n",
       "      <th>Equity(28 [ACET])</th>\n",
       "      <td>0.006631</td>\n",
       "    </tr>\n",
       "    <tr>\n",
       "      <th>Equity(30 [ACGL])</th>\n",
       "      <td>0.002163</td>\n",
       "    </tr>\n",
       "    <tr>\n",
       "      <th>Equity(31 [ACHC])</th>\n",
       "      <td>-0.001801</td>\n",
       "    </tr>\n",
       "    <tr>\n",
       "      <th>Equity(32 [ACHN])</th>\n",
       "      <td>0.000543</td>\n",
       "    </tr>\n",
       "    <tr>\n",
       "      <th>Equity(33 [ACI])</th>\n",
       "      <td>-0.000270</td>\n",
       "    </tr>\n",
       "    <tr>\n",
       "      <th>Equity(34 [ACIW])</th>\n",
       "      <td>0.000065</td>\n",
       "    </tr>\n",
       "    <tr>\n",
       "      <th>Equity(36 [ACM])</th>\n",
       "      <td>0.001708</td>\n",
       "    </tr>\n",
       "    <tr>\n",
       "      <th>...</th>\n",
       "      <th>...</th>\n",
       "      <td>...</td>\n",
       "    </tr>\n",
       "    <tr>\n",
       "      <th rowspan=\"30\" valign=\"top\">2018-01-02 00:00:00+00:00</th>\n",
       "      <th>Equity(3149 [XEL])</th>\n",
       "      <td>0.000615</td>\n",
       "    </tr>\n",
       "    <tr>\n",
       "      <th>Equity(3150 [XL])</th>\n",
       "      <td>-0.005854</td>\n",
       "    </tr>\n",
       "    <tr>\n",
       "      <th>Equity(3151 [XLNX])</th>\n",
       "      <td>-0.015554</td>\n",
       "    </tr>\n",
       "    <tr>\n",
       "      <th>Equity(3152 [XLRN])</th>\n",
       "      <td>-0.019380</td>\n",
       "    </tr>\n",
       "    <tr>\n",
       "      <th>Equity(3154 [XNCR])</th>\n",
       "      <td>-0.028014</td>\n",
       "    </tr>\n",
       "    <tr>\n",
       "      <th>Equity(3156 [XOM])</th>\n",
       "      <td>-0.004468</td>\n",
       "    </tr>\n",
       "    <tr>\n",
       "      <th>Equity(3157 [XOMA])</th>\n",
       "      <td>0.001669</td>\n",
       "    </tr>\n",
       "    <tr>\n",
       "      <th>Equity(3158 [XON])</th>\n",
       "      <td>0.016585</td>\n",
       "    </tr>\n",
       "    <tr>\n",
       "      <th>Equity(3162 [XPO])</th>\n",
       "      <td>0.002383</td>\n",
       "    </tr>\n",
       "    <tr>\n",
       "      <th>Equity(3163 [XRAY])</th>\n",
       "      <td>-0.008942</td>\n",
       "    </tr>\n",
       "    <tr>\n",
       "      <th>Equity(3165 [XRX])</th>\n",
       "      <td>-0.010090</td>\n",
       "    </tr>\n",
       "    <tr>\n",
       "      <th>Equity(3167 [XXII])</th>\n",
       "      <td>-0.037460</td>\n",
       "    </tr>\n",
       "    <tr>\n",
       "      <th>Equity(3168 [XYL])</th>\n",
       "      <td>-0.000726</td>\n",
       "    </tr>\n",
       "    <tr>\n",
       "      <th>Equity(3169 [Y])</th>\n",
       "      <td>-0.000848</td>\n",
       "    </tr>\n",
       "    <tr>\n",
       "      <th>Equity(3171 [YELP])</th>\n",
       "      <td>-0.006346</td>\n",
       "    </tr>\n",
       "    <tr>\n",
       "      <th>Equity(3174 [YRCW])</th>\n",
       "      <td>-0.010927</td>\n",
       "    </tr>\n",
       "    <tr>\n",
       "      <th>Equity(3175 [YUM])</th>\n",
       "      <td>-0.012739</td>\n",
       "    </tr>\n",
       "    <tr>\n",
       "      <th>Equity(3177 [Z])</th>\n",
       "      <td>-0.011999</td>\n",
       "    </tr>\n",
       "    <tr>\n",
       "      <th>Equity(3178 [ZAGG])</th>\n",
       "      <td>-0.060733</td>\n",
       "    </tr>\n",
       "    <tr>\n",
       "      <th>Equity(3180 [ZBH])</th>\n",
       "      <td>-0.008826</td>\n",
       "    </tr>\n",
       "    <tr>\n",
       "      <th>Equity(3181 [ZBRA])</th>\n",
       "      <td>-0.004582</td>\n",
       "    </tr>\n",
       "    <tr>\n",
       "      <th>Equity(3182 [ZEN])</th>\n",
       "      <td>-0.002935</td>\n",
       "    </tr>\n",
       "    <tr>\n",
       "      <th>Equity(3184 [ZEUS])</th>\n",
       "      <td>-0.009644</td>\n",
       "    </tr>\n",
       "    <tr>\n",
       "      <th>Equity(3185 [ZGNX])</th>\n",
       "      <td>-0.050795</td>\n",
       "    </tr>\n",
       "    <tr>\n",
       "      <th>Equity(3188 [ZION])</th>\n",
       "      <td>-0.009909</td>\n",
       "    </tr>\n",
       "    <tr>\n",
       "      <th>Equity(3189 [ZIOP])</th>\n",
       "      <td>0.034930</td>\n",
       "    </tr>\n",
       "    <tr>\n",
       "      <th>Equity(3194 [ZNGA])</th>\n",
       "      <td>0.007545</td>\n",
       "    </tr>\n",
       "    <tr>\n",
       "      <th>Equity(3195 [ZOES])</th>\n",
       "      <td>-0.032934</td>\n",
       "    </tr>\n",
       "    <tr>\n",
       "      <th>Equity(3197 [ZTS])</th>\n",
       "      <td>-0.004833</td>\n",
       "    </tr>\n",
       "    <tr>\n",
       "      <th>Equity(3198 [ZUMZ])</th>\n",
       "      <td>-0.017689</td>\n",
       "    </tr>\n",
       "  </tbody>\n",
       "</table>\n",
       "<p>2016000 rows × 1 columns</p>\n",
       "</div>"
      ],
      "text/plain": [
       "                                               Expression Alpha\n",
       "2014-01-02 00:00:00+00:00 Equity(0 [A])               -0.000397\n",
       "                          Equity(2 [AAL])              0.002504\n",
       "                          Equity(3 [AAMC])             0.008796\n",
       "                          Equity(4 [AAN])              0.000004\n",
       "                          Equity(7 [AAP])              0.002524\n",
       "                          Equity(8 [AAPL])             0.000469\n",
       "                          Equity(9 [AAT])             -0.002618\n",
       "                          Equity(10 [AAWW])           -0.000069\n",
       "                          Equity(11 [ABAX])           -0.000209\n",
       "                          Equity(12 [ABBV])           -0.000211\n",
       "                          Equity(13 [ABC])            -0.000032\n",
       "                          Equity(15 [ABCO])            0.005904\n",
       "                          Equity(16 [ABFS])           -0.001148\n",
       "                          Equity(17 [ABG])             0.000252\n",
       "                          Equity(18 [ABM])            -0.001989\n",
       "                          Equity(19 [ABMD])           -0.002281\n",
       "                          Equity(20 [ABT])            -0.000279\n",
       "                          Equity(21 [ACAD])           -0.004541\n",
       "                          Equity(22 [ACAS])            0.002868\n",
       "                          Equity(23 [ACAT])            0.000350\n",
       "                          Equity(24 [ACC])            -0.000817\n",
       "                          Equity(26 [ACCO])            0.000042\n",
       "                          Equity(27 [ACE])             0.000465\n",
       "                          Equity(28 [ACET])            0.006631\n",
       "                          Equity(30 [ACGL])            0.002163\n",
       "                          Equity(31 [ACHC])           -0.001801\n",
       "                          Equity(32 [ACHN])            0.000543\n",
       "                          Equity(33 [ACI])            -0.000270\n",
       "                          Equity(34 [ACIW])            0.000065\n",
       "                          Equity(36 [ACM])             0.001708\n",
       "...                                                         ...\n",
       "2018-01-02 00:00:00+00:00 Equity(3149 [XEL])           0.000615\n",
       "                          Equity(3150 [XL])           -0.005854\n",
       "                          Equity(3151 [XLNX])         -0.015554\n",
       "                          Equity(3152 [XLRN])         -0.019380\n",
       "                          Equity(3154 [XNCR])         -0.028014\n",
       "                          Equity(3156 [XOM])          -0.004468\n",
       "                          Equity(3157 [XOMA])          0.001669\n",
       "                          Equity(3158 [XON])           0.016585\n",
       "                          Equity(3162 [XPO])           0.002383\n",
       "                          Equity(3163 [XRAY])         -0.008942\n",
       "                          Equity(3165 [XRX])          -0.010090\n",
       "                          Equity(3167 [XXII])         -0.037460\n",
       "                          Equity(3168 [XYL])          -0.000726\n",
       "                          Equity(3169 [Y])            -0.000848\n",
       "                          Equity(3171 [YELP])         -0.006346\n",
       "                          Equity(3174 [YRCW])         -0.010927\n",
       "                          Equity(3175 [YUM])          -0.012739\n",
       "                          Equity(3177 [Z])            -0.011999\n",
       "                          Equity(3178 [ZAGG])         -0.060733\n",
       "                          Equity(3180 [ZBH])          -0.008826\n",
       "                          Equity(3181 [ZBRA])         -0.004582\n",
       "                          Equity(3182 [ZEN])          -0.002935\n",
       "                          Equity(3184 [ZEUS])         -0.009644\n",
       "                          Equity(3185 [ZGNX])         -0.050795\n",
       "                          Equity(3188 [ZION])         -0.009909\n",
       "                          Equity(3189 [ZIOP])          0.034930\n",
       "                          Equity(3194 [ZNGA])          0.007545\n",
       "                          Equity(3195 [ZOES])         -0.032934\n",
       "                          Equity(3197 [ZTS])          -0.004833\n",
       "                          Equity(3198 [ZUMZ])         -0.017689\n",
       "\n",
       "[2016000 rows x 1 columns]"
      ]
     },
     "execution_count": 20,
     "metadata": {},
     "output_type": "execute_result"
    }
   ],
   "source": [
    "df"
   ]
  },
  {
   "cell_type": "code",
   "execution_count": 33,
   "metadata": {},
   "outputs": [
    {
     "data": {
      "text/plain": [
       "0"
      ]
     },
     "execution_count": 33,
     "metadata": {},
     "output_type": "execute_result"
    }
   ],
   "source": [
    "1/2"
   ]
  },
  {
   "cell_type": "code",
   "execution_count": 34,
   "metadata": {},
   "outputs": [
    {
     "data": {
      "text/html": [
       "<div>\n",
       "<table border=\"1\" class=\"dataframe\">\n",
       "  <thead>\n",
       "    <tr style=\"text-align: right;\">\n",
       "      <th></th>\n",
       "      <th></th>\n",
       "      <th>Expression Alpha</th>\n",
       "    </tr>\n",
       "  </thead>\n",
       "  <tbody>\n",
       "    <tr>\n",
       "      <th rowspan=\"5\" valign=\"top\">2018-01-02 00:00:00+00:00</th>\n",
       "      <th>Equity(3189 [ZIOP])</th>\n",
       "      <td>-0.533930</td>\n",
       "    </tr>\n",
       "    <tr>\n",
       "      <th>Equity(3194 [ZNGA])</th>\n",
       "      <td>-0.299350</td>\n",
       "    </tr>\n",
       "    <tr>\n",
       "      <th>Equity(3195 [ZOES])</th>\n",
       "      <td>-0.190766</td>\n",
       "    </tr>\n",
       "    <tr>\n",
       "      <th>Equity(3197 [ZTS])</th>\n",
       "      <td>-0.229730</td>\n",
       "    </tr>\n",
       "    <tr>\n",
       "      <th>Equity(3198 [ZUMZ])</th>\n",
       "      <td>-0.152187</td>\n",
       "    </tr>\n",
       "  </tbody>\n",
       "</table>\n",
       "</div>"
      ],
      "text/plain": [
       "                                               Expression Alpha\n",
       "2018-01-02 00:00:00+00:00 Equity(3189 [ZIOP])         -0.533930\n",
       "                          Equity(3194 [ZNGA])         -0.299350\n",
       "                          Equity(3195 [ZOES])         -0.190766\n",
       "                          Equity(3197 [ZTS])          -0.229730\n",
       "                          Equity(3198 [ZUMZ])         -0.152187"
      ]
     },
     "execution_count": 34,
     "metadata": {},
     "output_type": "execute_result"
    }
   ],
   "source": [
    "df.tail()"
   ]
  },
  {
   "cell_type": "code",
   "execution_count": 35,
   "metadata": {},
   "outputs": [
    {
     "name": "stdout",
     "output_type": "stream",
     "text": [
      "Formatting factor data for: Expression Alpha\n",
      "Dropped 0.6% entries from factor data: 0.6% in forward returns computation and 0.0% in binning phase (set max_loss=0 to see potentially suppressed Exceptions).\n",
      "max_loss is 35.0%, not exceeded: OK!\n",
      "Time to get arrange factor data: 14.97 secs\n",
      "Time to generate long/short returns: 0.92 secs\n"
     ]
    },
    {
     "data": {
      "image/png": "[encoded data removed]",
      "text/plain": [
       "<Figure size 432x288 with 1 Axes>"
      ]
     },
     "metadata": {},
     "output_type": "display_data"
    }
   ],
   "source": [
    "make_factor_plot(df, start_date, end_date);"
   ]
  },
  {
   "cell_type": "code",
   "execution_count": null,
   "metadata": {},
   "outputs": [],
   "source": []
  },
  {
   "cell_type": "code",
   "execution_count": 27,
   "metadata": {},
   "outputs": [],
   "source": [
    "e = ExpressionAlpha('rank(log(close/delay(opens, 5)))').parse().transform().generate_pipeline_code()"
   ]
  },
  {
   "cell_type": "code",
   "execution_count": 28,
   "metadata": {},
   "outputs": [
    {
     "name": "stdout",
     "output_type": "stream",
     "text": [
      "class ExprAlpha_1(CustomFactor):\n",
      "    inputs = [Returns(window_length=2), USEP.open, USEP.high,\n",
      "              USEP.low, USEP.close, USEP.volume]\n",
      "    window_length = 7\n",
      "\n",
      "    def compute(self, today, assets, out, returns, opens, high, low, close, volume):\n",
      "        v22 = np.roll(opens, 5, axis=0)\n",
      "        v23 = close / v22\n",
      "        v24 = np.log(v23)\n",
      "        v25 = np.apply_along_axis(rankdata, 1, v24)\n",
      "        out[:] = v25[-1]\n",
      "\n"
     ]
    }
   ],
   "source": [
    "print(e.pipeline_code)"
   ]
  },
  {
   "cell_type": "code",
   "execution_count": 29,
   "metadata": {},
   "outputs": [
    {
     "ename": "NameError",
     "evalue": "name 'a' is not defined",
     "output_type": "error",
     "traceback": [
      "\u001b[0;31m---------------------------------------------------------------------------\u001b[0m",
      "\u001b[0;31mNameError\u001b[0m                                 Traceback (most recent call last)",
      "\u001b[0;32m<ipython-input-29-3f786850e387>\u001b[0m in \u001b[0;36m<module>\u001b[0;34m()\u001b[0m\n\u001b[0;32m----> 1\u001b[0;31m \u001b[0ma\u001b[0m\u001b[0;34m\u001b[0m\u001b[0m\n\u001b[0m",
      "\u001b[0;31mNameError\u001b[0m: name 'a' is not defined"
     ]
    }
   ],
   "source": [
    "#M,T,W,Th,F\n",
    "# delay(5) --> prior friday\n",
    "# returns(window=6)"
   ]
  },
  {
   "cell_type": "code",
   "execution_count": 18,
   "metadata": {},
   "outputs": [
    {
     "data": {
      "text/plain": [
       "array([[ 0.54254437,  0.14217005],\n",
       "       [ 0.37334076,  0.67413362],\n",
       "       [ 0.44183317,  0.43401399],\n",
       "       [ 0.61776698,  0.51313824],\n",
       "       [ 0.65039718,  0.60103895],\n",
       "       [ 0.8052232 ,  0.52164715],\n",
       "       [ 0.90864888,  0.31923609],\n",
       "       [ 0.09045935,  0.30070006],\n",
       "       [ 0.11398436,  0.82868133],\n",
       "       [ 0.04689632,  0.62628715]])"
      ]
     },
     "execution_count": 18,
     "metadata": {},
     "output_type": "execute_result"
    }
   ],
   "source": [
    "b"
   ]
  },
  {
   "cell_type": "code",
   "execution_count": 86,
   "metadata": {},
   "outputs": [],
   "source": [
    "def column_corr((a, b), window=-1):\n",
    "    if window==-1:\n",
    "        window = a.shape[0]\n",
    "    out = np.zeros(shape = (1, a.shape[1]))\n",
    "    for i in xrange(a.shape[1]-1):\n",
    "        out[i] = pearsonr(a[-window:, i], b[-window:, i])[0]\n",
    "    return out\n",
    "        "
   ]
  },
  {
   "cell_type": "code",
   "execution_count": 20,
   "metadata": {},
   "outputs": [],
   "source": [
    "import numpy as np\n",
    "import pandas as pd\n",
    "from scipy.stats import pearsonr\n",
    "np.random.seed(10)\n",
    "a = np.random.random(30).reshape(10,3)\n",
    "b = np.random.random(30).reshape(10,3)"
   ]
  },
  {
   "cell_type": "code",
   "execution_count": 21,
   "metadata": {},
   "outputs": [
    {
     "data": {
      "text/plain": [
       "0.49850701230259042"
      ]
     },
     "execution_count": 21,
     "metadata": {},
     "output_type": "execute_result"
    }
   ],
   "source": [
    "a[1,1]"
   ]
  },
  {
   "cell_type": "code",
   "execution_count": 22,
   "metadata": {},
   "outputs": [],
   "source": [
    "a_1 = pd.DataFrame(a)\n",
    "b_1 = pd.DataFrame(b)\n",
    "\n"
   ]
  },
  {
   "cell_type": "code",
   "execution_count": 15,
   "metadata": {},
   "outputs": [],
   "source": [
    "def roll_corr((a, b), window):\n",
    "    out = np.ones_like(a)*np.nan\n",
    "    for i in xrange(window-1, a.shape[0]):   # 2- 10\n",
    "        #print \"%d --> %d\" % ((i-(window-1)), i)\n",
    "        for j in xrange(a.shape[1]):\n",
    "            out[i, j] = pearsonr(\n",
    "                a[(i-(window-1)):(i), j], b[(i-(window-1)):(i), j]\n",
    "            )[0]\n",
    "    return out"
   ]
  },
  {
   "cell_type": "code",
   "execution_count": 36,
   "metadata": {},
   "outputs": [
    {
     "data": {
      "text/plain": [
       "array([[ 0.77132064,  0.02075195,  0.63364823],\n",
       "       [ 0.74880388,  0.49850701,  0.22479665],\n",
       "       [ 0.19806286,  0.76053071,  0.16911084],\n",
       "       [ 0.08833981,  0.68535982,  0.95339335],\n",
       "       [ 0.00394827,  0.51219226,  0.81262096],\n",
       "       [ 0.61252607,  0.72175532,  0.29187607],\n",
       "       [ 0.91777412,  0.71457578,  0.54254437],\n",
       "       [ 0.14217005,  0.37334076,  0.67413362],\n",
       "       [ 0.44183317,  0.43401399,  0.61776698],\n",
       "       [ 0.51313824,  0.65039718,  0.60103895]])"
      ]
     },
     "execution_count": 36,
     "metadata": {},
     "output_type": "execute_result"
    }
   ],
   "source": [
    "a"
   ]
  },
  {
   "cell_type": "code",
   "execution_count": 37,
   "metadata": {},
   "outputs": [
    {
     "data": {
      "text/plain": [
       "array([[ 0.44183317,  0.43401399,  0.61776698],\n",
       "       [ 0.51313824,  0.65039718,  0.60103895],\n",
       "       [ 0.77132064,  0.02075195,  0.63364823],\n",
       "       [ 0.74880388,  0.49850701,  0.22479665],\n",
       "       [ 0.19806286,  0.76053071,  0.16911084],\n",
       "       [ 0.08833981,  0.68535982,  0.95339335],\n",
       "       [ 0.00394827,  0.51219226,  0.81262096],\n",
       "       [ 0.61252607,  0.72175532,  0.29187607],\n",
       "       [ 0.91777412,  0.71457578,  0.54254437],\n",
       "       [ 0.14217005,  0.37334076,  0.67413362]])"
      ]
     },
     "execution_count": 37,
     "metadata": {},
     "output_type": "execute_result"
    }
   ],
   "source": [
    "np.roll(a, 2, axis=0)"
   ]
  },
  {
   "cell_type": "code",
   "execution_count": 16,
   "metadata": {},
   "outputs": [
    {
     "name": "stdout",
     "output_type": "stream",
     "text": [
      "1000 loops, best of 3: 645 µs per loop\n"
     ]
    }
   ],
   "source": [
    "%%timeit\n",
    "out = roll_corr((a,b), window=5)"
   ]
  },
  {
   "cell_type": "code",
   "execution_count": 23,
   "metadata": {},
   "outputs": [
    {
     "name": "stderr",
     "output_type": "stream",
     "text": [
      "/anaconda3/envs/py27_clean/lib/python2.7/site-packages/ipykernel_launcher.py:257: FutureWarning: pd.rolling_corr is deprecated for DataFrame and will be removed in a future version, replace with \n",
      "\tDataFrame.rolling(window=5).corr(other=<DataFrame>)\n"
     ]
    },
    {
     "name": "stdout",
     "output_type": "stream",
     "text": [
      "100 loops, best of 3: 10.1 ms per loop\n"
     ]
    }
   ],
   "source": [
    "%%timeit\n",
    "out = pd.rolling_corr(arg1=a_1, arg2=b_1, window=5)"
   ]
  },
  {
   "cell_type": "code",
   "execution_count": 12,
   "metadata": {},
   "outputs": [
    {
     "ename": "NameError",
     "evalue": "name 'out' is not defined",
     "output_type": "error",
     "traceback": [
      "\u001b[0;31m---------------------------------------------------------------------------\u001b[0m",
      "\u001b[0;31mNameError\u001b[0m                                 Traceback (most recent call last)",
      "\u001b[0;32m<ipython-input-12-0398e00d749b>\u001b[0m in \u001b[0;36m<module>\u001b[0;34m()\u001b[0m\n\u001b[0;32m----> 1\u001b[0;31m \u001b[0mout\u001b[0m\u001b[0;34m[\u001b[0m\u001b[0;34m-\u001b[0m\u001b[0;36m1\u001b[0m\u001b[0;34m]\u001b[0m\u001b[0;34m\u001b[0m\u001b[0m\n\u001b[0m",
      "\u001b[0;31mNameError\u001b[0m: name 'out' is not defined"
     ]
    }
   ],
   "source": [
    "out[-1]"
   ]
  },
  {
   "cell_type": "code",
   "execution_count": 5,
   "metadata": {},
   "outputs": [],
   "source": [
    "#from __future__ import division\n",
    "v0 = (np.arange(5)+1.)/np.sum(np.arange(5)+1.)\n",
    "\n",
    "out = a_1.rolling(5).apply(lambda x: (x*v0).sum()).values"
   ]
  },
  {
   "cell_type": "code",
   "execution_count": 6,
   "metadata": {},
   "outputs": [
    {
     "data": {
      "text/plain": [
       "array([ 0.06666667,  0.13333333,  0.2       ,  0.26666667,  0.33333333])"
      ]
     },
     "execution_count": 6,
     "metadata": {},
     "output_type": "execute_result"
    }
   ],
   "source": [
    "v0"
   ]
  },
  {
   "cell_type": "code",
   "execution_count": 27,
   "metadata": {},
   "outputs": [
    {
     "data": {
      "text/plain": [
       "array([ 0.48050722,  0.55059807,  0.59170856])"
      ]
     },
     "execution_count": 27,
     "metadata": {},
     "output_type": "execute_result"
    }
   ],
   "source": [
    "out[-1, :]"
   ]
  },
  {
   "cell_type": "code",
   "execution_count": 18,
   "metadata": {},
   "outputs": [],
   "source": [
    "from numba import jit"
   ]
  },
  {
   "cell_type": "code",
   "execution_count": 19,
   "metadata": {},
   "outputs": [
    {
     "ename": "ValueError",
     "evalue": "'.0' is not a valid parameter name",
     "output_type": "error",
     "traceback": [
      "\u001b[0;31m---------------------------------------------------------------------------\u001b[0m",
      "\u001b[0;31mValueError\u001b[0m                                Traceback (most recent call last)",
      "\u001b[0;32m<ipython-input-19-e4eaa6e11167>\u001b[0m in \u001b[0;36m<module>\u001b[0;34m()\u001b[0m\n\u001b[0;32m----> 1\u001b[0;31m \u001b[0;34m@\u001b[0m\u001b[0mjit\u001b[0m\u001b[0;34m\u001b[0m\u001b[0m\n\u001b[0m\u001b[1;32m      2\u001b[0m \u001b[0;32mdef\u001b[0m \u001b[0mroll_corr2\u001b[0m\u001b[0;34m(\u001b[0m\u001b[0;34m(\u001b[0m\u001b[0ma\u001b[0m\u001b[0;34m,\u001b[0m \u001b[0mb\u001b[0m\u001b[0;34m)\u001b[0m\u001b[0;34m,\u001b[0m \u001b[0mwindow\u001b[0m\u001b[0;34m)\u001b[0m\u001b[0;34m:\u001b[0m\u001b[0;34m\u001b[0m\u001b[0m\n\u001b[1;32m      3\u001b[0m     \u001b[0mout\u001b[0m \u001b[0;34m=\u001b[0m \u001b[0mnp\u001b[0m\u001b[0;34m.\u001b[0m\u001b[0mones_like\u001b[0m\u001b[0;34m(\u001b[0m\u001b[0ma\u001b[0m\u001b[0;34m)\u001b[0m\u001b[0;34m*\u001b[0m\u001b[0mnp\u001b[0m\u001b[0;34m.\u001b[0m\u001b[0mnan\u001b[0m\u001b[0;34m\u001b[0m\u001b[0m\n\u001b[1;32m      4\u001b[0m     \u001b[0;32mfor\u001b[0m \u001b[0mi\u001b[0m \u001b[0;32min\u001b[0m \u001b[0mxrange\u001b[0m\u001b[0;34m(\u001b[0m\u001b[0mwindow\u001b[0m\u001b[0;34m-\u001b[0m\u001b[0;36m1\u001b[0m\u001b[0;34m,\u001b[0m \u001b[0ma\u001b[0m\u001b[0;34m.\u001b[0m\u001b[0mshape\u001b[0m\u001b[0;34m[\u001b[0m\u001b[0;36m0\u001b[0m\u001b[0;34m]\u001b[0m\u001b[0;34m)\u001b[0m\u001b[0;34m:\u001b[0m   \u001b[0;31m# 2- 10\u001b[0m\u001b[0;34m\u001b[0m\u001b[0m\n\u001b[1;32m      5\u001b[0m         \u001b[0;31m#print \"%d --> %d\" % ((i-(window-1)), i)\u001b[0m\u001b[0;34m\u001b[0m\u001b[0;34m\u001b[0m\u001b[0m\n",
      "\u001b[0;32m/anaconda3/envs/py27_clean/lib/python2.7/site-packages/numba/decorators.pyc\u001b[0m in \u001b[0;36mjit\u001b[0;34m(signature_or_function, locals, target, cache, pipeline_class, **options)\u001b[0m\n\u001b[1;32m    171\u001b[0m                    targetoptions=options, **dispatcher_args)\n\u001b[1;32m    172\u001b[0m     \u001b[0;32mif\u001b[0m \u001b[0mpyfunc\u001b[0m \u001b[0;32mis\u001b[0m \u001b[0;32mnot\u001b[0m \u001b[0mNone\u001b[0m\u001b[0;34m:\u001b[0m\u001b[0;34m\u001b[0m\u001b[0m\n\u001b[0;32m--> 173\u001b[0;31m         \u001b[0;32mreturn\u001b[0m \u001b[0mwrapper\u001b[0m\u001b[0;34m(\u001b[0m\u001b[0mpyfunc\u001b[0m\u001b[0;34m)\u001b[0m\u001b[0;34m\u001b[0m\u001b[0m\n\u001b[0m\u001b[1;32m    174\u001b[0m     \u001b[0;32melse\u001b[0m\u001b[0;34m:\u001b[0m\u001b[0;34m\u001b[0m\u001b[0m\n\u001b[1;32m    175\u001b[0m         \u001b[0;32mreturn\u001b[0m \u001b[0mwrapper\u001b[0m\u001b[0;34m\u001b[0m\u001b[0m\n",
      "\u001b[0;32m/anaconda3/envs/py27_clean/lib/python2.7/site-packages/numba/decorators.pyc\u001b[0m in \u001b[0;36mwrapper\u001b[0;34m(func)\u001b[0m\n\u001b[1;32m    187\u001b[0m         disp = dispatcher(py_func=func, locals=locals,\n\u001b[1;32m    188\u001b[0m                           \u001b[0mtargetoptions\u001b[0m\u001b[0;34m=\u001b[0m\u001b[0mtargetoptions\u001b[0m\u001b[0;34m,\u001b[0m\u001b[0;34m\u001b[0m\u001b[0m\n\u001b[0;32m--> 189\u001b[0;31m                           **dispatcher_args)\n\u001b[0m\u001b[1;32m    190\u001b[0m         \u001b[0;32mif\u001b[0m \u001b[0mcache\u001b[0m\u001b[0;34m:\u001b[0m\u001b[0;34m\u001b[0m\u001b[0m\n\u001b[1;32m    191\u001b[0m             \u001b[0mdisp\u001b[0m\u001b[0;34m.\u001b[0m\u001b[0menable_caching\u001b[0m\u001b[0;34m(\u001b[0m\u001b[0;34m)\u001b[0m\u001b[0;34m\u001b[0m\u001b[0m\n",
      "\u001b[0;32m/anaconda3/envs/py27_clean/lib/python2.7/site-packages/numba/dispatcher.pyc\u001b[0m in \u001b[0;36m__init__\u001b[0;34m(self, py_func, locals, targetoptions, impl_kind, pipeline_class)\u001b[0m\n\u001b[1;32m    502\u001b[0m         \u001b[0mself\u001b[0m\u001b[0;34m.\u001b[0m\u001b[0mtargetctx\u001b[0m \u001b[0;34m=\u001b[0m \u001b[0mself\u001b[0m\u001b[0;34m.\u001b[0m\u001b[0mtargetdescr\u001b[0m\u001b[0;34m.\u001b[0m\u001b[0mtarget_context\u001b[0m\u001b[0;34m\u001b[0m\u001b[0m\n\u001b[1;32m    503\u001b[0m \u001b[0;34m\u001b[0m\u001b[0m\n\u001b[0;32m--> 504\u001b[0;31m         \u001b[0mpysig\u001b[0m \u001b[0;34m=\u001b[0m \u001b[0mutils\u001b[0m\u001b[0;34m.\u001b[0m\u001b[0mpysignature\u001b[0m\u001b[0;34m(\u001b[0m\u001b[0mpy_func\u001b[0m\u001b[0;34m)\u001b[0m\u001b[0;34m\u001b[0m\u001b[0m\n\u001b[0m\u001b[1;32m    505\u001b[0m         \u001b[0marg_count\u001b[0m \u001b[0;34m=\u001b[0m \u001b[0mlen\u001b[0m\u001b[0;34m(\u001b[0m\u001b[0mpysig\u001b[0m\u001b[0;34m.\u001b[0m\u001b[0mparameters\u001b[0m\u001b[0;34m)\u001b[0m\u001b[0;34m\u001b[0m\u001b[0m\n\u001b[1;32m    506\u001b[0m         \u001b[0mcan_fallback\u001b[0m \u001b[0;34m=\u001b[0m \u001b[0;32mnot\u001b[0m \u001b[0mtargetoptions\u001b[0m\u001b[0;34m.\u001b[0m\u001b[0mget\u001b[0m\u001b[0;34m(\u001b[0m\u001b[0;34m'nopython'\u001b[0m\u001b[0;34m,\u001b[0m \u001b[0mFalse\u001b[0m\u001b[0;34m)\u001b[0m\u001b[0;34m\u001b[0m\u001b[0m\n",
      "\u001b[0;32m/anaconda3/envs/py27_clean/lib/python2.7/site-packages/funcsigs/__init__.pyc\u001b[0m in \u001b[0;36msignature\u001b[0;34m(obj)\u001b[0m\n\u001b[1;32m    103\u001b[0m \u001b[0;34m\u001b[0m\u001b[0m\n\u001b[1;32m    104\u001b[0m     \u001b[0;32mif\u001b[0m \u001b[0misinstance\u001b[0m\u001b[0;34m(\u001b[0m\u001b[0mobj\u001b[0m\u001b[0;34m,\u001b[0m \u001b[0mtypes\u001b[0m\u001b[0;34m.\u001b[0m\u001b[0mFunctionType\u001b[0m\u001b[0;34m)\u001b[0m\u001b[0;34m:\u001b[0m\u001b[0;34m\u001b[0m\u001b[0m\n\u001b[0;32m--> 105\u001b[0;31m         \u001b[0;32mreturn\u001b[0m \u001b[0mSignature\u001b[0m\u001b[0;34m.\u001b[0m\u001b[0mfrom_function\u001b[0m\u001b[0;34m(\u001b[0m\u001b[0mobj\u001b[0m\u001b[0;34m)\u001b[0m\u001b[0;34m\u001b[0m\u001b[0m\n\u001b[0m\u001b[1;32m    106\u001b[0m \u001b[0;34m\u001b[0m\u001b[0m\n\u001b[1;32m    107\u001b[0m     \u001b[0;32mif\u001b[0m \u001b[0misinstance\u001b[0m\u001b[0;34m(\u001b[0m\u001b[0mobj\u001b[0m\u001b[0;34m,\u001b[0m \u001b[0mfunctools\u001b[0m\u001b[0;34m.\u001b[0m\u001b[0mpartial\u001b[0m\u001b[0;34m)\u001b[0m\u001b[0;34m:\u001b[0m\u001b[0;34m\u001b[0m\u001b[0m\n",
      "\u001b[0;32m/anaconda3/envs/py27_clean/lib/python2.7/site-packages/funcsigs/__init__.pyc\u001b[0m in \u001b[0;36mfrom_function\u001b[0;34m(cls, func)\u001b[0m\n\u001b[1;32m    553\u001b[0m             \u001b[0mannotation\u001b[0m \u001b[0;34m=\u001b[0m \u001b[0mannotations\u001b[0m\u001b[0;34m.\u001b[0m\u001b[0mget\u001b[0m\u001b[0;34m(\u001b[0m\u001b[0mname\u001b[0m\u001b[0;34m,\u001b[0m \u001b[0m_empty\u001b[0m\u001b[0;34m)\u001b[0m\u001b[0;34m\u001b[0m\u001b[0m\n\u001b[1;32m    554\u001b[0m             parameters.append(Parameter(name, annotation=annotation,\n\u001b[0;32m--> 555\u001b[0;31m                                         kind=_POSITIONAL_OR_KEYWORD))\n\u001b[0m\u001b[1;32m    556\u001b[0m \u001b[0;34m\u001b[0m\u001b[0m\n\u001b[1;32m    557\u001b[0m         \u001b[0;31m# ... w/ defaults.\u001b[0m\u001b[0;34m\u001b[0m\u001b[0;34m\u001b[0m\u001b[0m\n",
      "\u001b[0;32m/anaconda3/envs/py27_clean/lib/python2.7/site-packages/funcsigs/__init__.pyc\u001b[0m in \u001b[0;36m__init__\u001b[0;34m(self, name, kind, default, annotation, _partial_kwarg)\u001b[0m\n\u001b[1;32m    270\u001b[0m             \u001b[0;32mif\u001b[0m \u001b[0mkind\u001b[0m \u001b[0;34m!=\u001b[0m \u001b[0m_POSITIONAL_ONLY\u001b[0m \u001b[0;32mand\u001b[0m \u001b[0;32mnot\u001b[0m \u001b[0mre\u001b[0m\u001b[0;34m.\u001b[0m\u001b[0mmatch\u001b[0m\u001b[0;34m(\u001b[0m\u001b[0;34mr'[a-z_]\\w*$'\u001b[0m\u001b[0;34m,\u001b[0m \u001b[0mname\u001b[0m\u001b[0;34m,\u001b[0m \u001b[0mre\u001b[0m\u001b[0;34m.\u001b[0m\u001b[0mI\u001b[0m\u001b[0;34m)\u001b[0m\u001b[0;34m:\u001b[0m\u001b[0;34m\u001b[0m\u001b[0m\n\u001b[1;32m    271\u001b[0m                 \u001b[0mmsg\u001b[0m \u001b[0;34m=\u001b[0m \u001b[0;34m'{0!r} is not a valid parameter name'\u001b[0m\u001b[0;34m.\u001b[0m\u001b[0mformat\u001b[0m\u001b[0;34m(\u001b[0m\u001b[0mname\u001b[0m\u001b[0;34m)\u001b[0m\u001b[0;34m\u001b[0m\u001b[0m\n\u001b[0;32m--> 272\u001b[0;31m                 \u001b[0;32mraise\u001b[0m \u001b[0mValueError\u001b[0m\u001b[0;34m(\u001b[0m\u001b[0mmsg\u001b[0m\u001b[0;34m)\u001b[0m\u001b[0;34m\u001b[0m\u001b[0m\n\u001b[0m\u001b[1;32m    273\u001b[0m             \u001b[0mself\u001b[0m\u001b[0;34m.\u001b[0m\u001b[0m_name\u001b[0m \u001b[0;34m=\u001b[0m \u001b[0mname\u001b[0m\u001b[0;34m\u001b[0m\u001b[0m\n\u001b[1;32m    274\u001b[0m \u001b[0;34m\u001b[0m\u001b[0m\n",
      "\u001b[0;31mValueError\u001b[0m: '.0' is not a valid parameter name"
     ]
    }
   ],
   "source": [
    "@jit\n",
    "def roll_corr2((a, b), window):\n",
    "    out = np.ones_like(a)*np.nan\n",
    "    for i in xrange(window-1, a.shape[0]):   # 2- 10\n",
    "        #print \"%d --> %d\" % ((i-(window-1)), i)\n",
    "        for j in xrange(a.shape[1]):\n",
    "            out[i, j] = pearsonr(\n",
    "                a[(i-(window-1)):(i), j], b[(i-(window-1)):(i), j]\n",
    "            )[0]\n",
    "    return out"
   ]
  },
  {
   "cell_type": "code",
   "execution_count": 207,
   "metadata": {},
   "outputs": [],
   "source": [
    "def scale(x):\n",
    "    return (x - np.nanmean(x))/np.nansum(np.abs(x - np.nanmean(x)))"
   ]
  },
  {
   "cell_type": "code",
   "execution_count": 211,
   "metadata": {},
   "outputs": [
    {
     "data": {
      "text/plain": [
       "array([[ 0.32572934, -0.5       ,  0.17427066],\n",
       "       [ 0.4853247 ,  0.0146753 , -0.5       ],\n",
       "       [-0.23118186,  0.5       , -0.26881814],\n",
       "       [-0.5       ,  0.11250682,  0.38749318],\n",
       "       [-0.5       ,  0.07890222,  0.42109778],\n",
       "       [ 0.14084777,  0.35915223, -0.5       ],\n",
       "       [ 0.5       , -0.02694105, -0.47305895],\n",
       "       [-0.45819778, -0.04180222,  0.5       ],\n",
       "       [-0.23369585, -0.26630415,  0.5       ],\n",
       "       [-0.5       ,  0.41441077,  0.08558923]])"
      ]
     },
     "execution_count": 211,
     "metadata": {},
     "output_type": "execute_result"
    }
   ],
   "source": [
    "np.apply_along_axis(lambda x: (x - np.nanmean(x))/np.nansum(np.abs(x - np.nanmean(x))), 1, a)"
   ]
  },
  {
   "cell_type": "code",
   "execution_count": 201,
   "metadata": {},
   "outputs": [
    {
     "data": {
      "text/plain": [
       "array([[ 0.77132064,  0.02075195,  0.63364823],\n",
       "       [ 0.74880388,  0.49850701,  0.22479665],\n",
       "       [ 0.19806286,  0.76053071,  0.16911084],\n",
       "       [ 0.08833981,  0.68535982,  0.95339335],\n",
       "       [ 0.00394827,  0.51219226,  0.81262096],\n",
       "       [ 0.61252607,  0.72175532,  0.29187607],\n",
       "       [ 0.91777412,  0.71457578,  0.54254437],\n",
       "       [ 0.14217005,  0.37334076,  0.67413362],\n",
       "       [ 0.44183317,  0.43401399,  0.61776698],\n",
       "       [ 0.51313824,  0.65039718,  0.60103895]])"
      ]
     },
     "execution_count": 201,
     "metadata": {},
     "output_type": "execute_result"
    }
   ],
   "source": []
  },
  {
   "cell_type": "code",
   "execution_count": 33,
   "metadata": {},
   "outputs": [
    {
     "data": {
      "text/plain": [
       "1.0"
      ]
     },
     "execution_count": 33,
     "metadata": {},
     "output_type": "execute_result"
    }
   ],
   "source": [
    "from __future__ import division\n",
    "\n",
    "np.sum()"
   ]
  },
  {
   "cell_type": "code",
   "execution_count": 29,
   "metadata": {},
   "outputs": [
    {
     "data": {
      "text/plain": [
       "55"
      ]
     },
     "execution_count": 29,
     "metadata": {},
     "output_type": "execute_result"
    }
   ],
   "source": []
  },
  {
   "cell_type": "code",
   "execution_count": 65,
   "metadata": {},
   "outputs": [],
   "source": [
    "import bottleneck as bn\n",
    "import numpy as np\n",
    "import pandas as pd\n",
    "from scipy.stats import pearsonr, rankdata\n",
    "np.random.seed(2)\n",
    "a = np.random.random(60).reshape(20,3)    # days x stocks\n",
    "b = np.random.randint(2, 5, size=(1,3))   # Industry cat vars as integers"
   ]
  },
  {
   "cell_type": "code",
   "execution_count": 22,
   "metadata": {},
   "outputs": [
    {
     "data": {
      "text/plain": [
       "array([[ 0.4359949 ,  0.02592623,  0.54966248],\n",
       "       [ 0.43532239,  0.4203678 ,  0.33033482],\n",
       "       [ 0.20464863,  0.61927097,  0.29965467],\n",
       "       [ 0.26682728,  0.62113383,  0.52914209],\n",
       "       [ 0.13457995,  0.51357812,  0.18443987],\n",
       "       [ 0.78533515,  0.85397529,  0.49423684],\n",
       "       [ 0.84656149,  0.07964548,  0.50524609],\n",
       "       [ 0.0652865 ,  0.42812233,  0.09653092],\n",
       "       [ 0.12715997,  0.59674531,  0.226012  ],\n",
       "       [ 0.10694568,  0.22030621,  0.34982629]])"
      ]
     },
     "execution_count": 22,
     "metadata": {},
     "output_type": "execute_result"
    }
   ],
   "source": [
    "a"
   ]
  },
  {
   "cell_type": "code",
   "execution_count": 25,
   "metadata": {},
   "outputs": [
    {
     "data": {
      "text/plain": [
       "6"
      ]
     },
     "execution_count": 25,
     "metadata": {},
     "output_type": "execute_result"
    }
   ],
   "source": [
    "b.max()+2"
   ]
  },
  {
   "cell_type": "code",
   "execution_count": 26,
   "metadata": {},
   "outputs": [],
   "source": [
    "ohe = np.zeros((b.size, b.max()+2))\n",
    "ohe[np.arange(b.size),b+1] = 1"
   ]
  },
  {
   "cell_type": "code",
   "execution_count": 27,
   "metadata": {},
   "outputs": [
    {
     "data": {
      "text/plain": [
       "array([[ 0.,  0.,  0.],\n",
       "       [ 0.,  0.,  0.],\n",
       "       [ 0.,  0.,  0.],\n",
       "       [ 0.,  1.,  0.],\n",
       "       [ 0.,  0.,  0.],\n",
       "       [ 1.,  0.,  1.]])"
      ]
     },
     "execution_count": 27,
     "metadata": {},
     "output_type": "execute_result"
    }
   ],
   "source": [
    "ohe.T"
   ]
  },
  {
   "cell_type": "code",
   "execution_count": 38,
   "metadata": {},
   "outputs": [],
   "source": [
    "ind_mean = np.nan_to_num(a.dot(ohe)/ohe.sum(axis=0))"
   ]
  },
  {
   "cell_type": "code",
   "execution_count": 39,
   "metadata": {},
   "outputs": [
    {
     "data": {
      "text/plain": [
       "array([[ 0.        ,  0.        ,  0.        ,  0.02592623,  0.        ,\n",
       "         0.49282869],\n",
       "       [ 0.        ,  0.        ,  0.        ,  0.4203678 ,  0.        ,\n",
       "         0.38282861],\n",
       "       [ 0.        ,  0.        ,  0.        ,  0.61927097,  0.        ,\n",
       "         0.25215165],\n",
       "       [ 0.        ,  0.        ,  0.        ,  0.62113383,  0.        ,\n",
       "         0.39798468],\n",
       "       [ 0.        ,  0.        ,  0.        ,  0.51357812,  0.        ,\n",
       "         0.15950991],\n",
       "       [ 0.        ,  0.        ,  0.        ,  0.85397529,  0.        ,\n",
       "         0.63978599],\n",
       "       [ 0.        ,  0.        ,  0.        ,  0.07964548,  0.        ,\n",
       "         0.67590379],\n",
       "       [ 0.        ,  0.        ,  0.        ,  0.42812233,  0.        ,\n",
       "         0.08090871],\n",
       "       [ 0.        ,  0.        ,  0.        ,  0.59674531,  0.        ,\n",
       "         0.17658599],\n",
       "       [ 0.        ,  0.        ,  0.        ,  0.22030621,  0.        ,\n",
       "         0.22838598]])"
      ]
     },
     "execution_count": 39,
     "metadata": {},
     "output_type": "execute_result"
    }
   ],
   "source": [
    "ind_mean"
   ]
  },
  {
   "cell_type": "code",
   "execution_count": 40,
   "metadata": {},
   "outputs": [],
   "source": [
    "per_stock_ind_mean = ind_mean.dot(ohe.T)"
   ]
  },
  {
   "cell_type": "code",
   "execution_count": 41,
   "metadata": {},
   "outputs": [
    {
     "data": {
      "text/plain": [
       "array([[ 0.49282869,  0.02592623,  0.49282869],\n",
       "       [ 0.38282861,  0.4203678 ,  0.38282861],\n",
       "       [ 0.25215165,  0.61927097,  0.25215165],\n",
       "       [ 0.39798468,  0.62113383,  0.39798468],\n",
       "       [ 0.15950991,  0.51357812,  0.15950991],\n",
       "       [ 0.63978599,  0.85397529,  0.63978599],\n",
       "       [ 0.67590379,  0.07964548,  0.67590379],\n",
       "       [ 0.08090871,  0.42812233,  0.08090871],\n",
       "       [ 0.17658599,  0.59674531,  0.17658599],\n",
       "       [ 0.22838598,  0.22030621,  0.22838598]])"
      ]
     },
     "execution_count": 41,
     "metadata": {},
     "output_type": "execute_result"
    }
   ],
   "source": [
    "per_stock_ind_mean # per stock ind_mean by day!"
   ]
  },
  {
   "cell_type": "code",
   "execution_count": 42,
   "metadata": {},
   "outputs": [
    {
     "data": {
      "text/plain": [
       "array([[ 0.4359949 ,  0.02592623,  0.54966248],\n",
       "       [ 0.43532239,  0.4203678 ,  0.33033482],\n",
       "       [ 0.20464863,  0.61927097,  0.29965467],\n",
       "       [ 0.26682728,  0.62113383,  0.52914209],\n",
       "       [ 0.13457995,  0.51357812,  0.18443987],\n",
       "       [ 0.78533515,  0.85397529,  0.49423684],\n",
       "       [ 0.84656149,  0.07964548,  0.50524609],\n",
       "       [ 0.0652865 ,  0.42812233,  0.09653092],\n",
       "       [ 0.12715997,  0.59674531,  0.226012  ],\n",
       "       [ 0.10694568,  0.22030621,  0.34982629]])"
      ]
     },
     "execution_count": 42,
     "metadata": {},
     "output_type": "execute_result"
    }
   ],
   "source": [
    "a"
   ]
  },
  {
   "cell_type": "code",
   "execution_count": 43,
   "metadata": {},
   "outputs": [
    {
     "data": {
      "text/plain": [
       "array([[-0.05683379,  0.        ,  0.05683379],\n",
       "       [ 0.05249379,  0.        , -0.05249379],\n",
       "       [-0.04750302,  0.        ,  0.04750302],\n",
       "       [-0.13115741,  0.        ,  0.13115741],\n",
       "       [-0.02492996,  0.        ,  0.02492996],\n",
       "       [ 0.14554916,  0.        , -0.14554916],\n",
       "       [ 0.1706577 ,  0.        , -0.1706577 ],\n",
       "       [-0.01562221,  0.        ,  0.01562221],\n",
       "       [-0.04942601,  0.        ,  0.04942601],\n",
       "       [-0.1214403 ,  0.        ,  0.1214403 ]])"
      ]
     },
     "execution_count": 43,
     "metadata": {},
     "output_type": "execute_result"
    }
   ],
   "source": [
    "a - per_stock_ind_mean"
   ]
  },
  {
   "cell_type": "code",
   "execution_count": null,
   "metadata": {},
   "outputs": [],
   "source": []
  },
  {
   "cell_type": "code",
   "execution_count": 33,
   "metadata": {},
   "outputs": [
    {
     "data": {
      "text/plain": [
       "array([[ 0.4359949 ,  0.02592623,  0.54966248],\n",
       "       [ 0.43532239,  0.4203678 ,  0.33033482],\n",
       "       [ 0.20464863,  0.61927097,  0.29965467],\n",
       "       [ 0.26682728,  0.62113383,  0.52914209],\n",
       "       [ 0.13457995,  0.51357812,  0.18443987],\n",
       "       [ 0.78533515,  0.85397529,  0.49423684],\n",
       "       [ 0.84656149,  0.07964548,  0.50524609],\n",
       "       [ 0.0652865 ,  0.42812233,  0.09653092],\n",
       "       [ 0.12715997,  0.59674531,  0.226012  ],\n",
       "       [ 0.10694568,  0.22030621,  0.34982629]])"
      ]
     },
     "execution_count": 33,
     "metadata": {},
     "output_type": "execute_result"
    }
   ],
   "source": [
    "a"
   ]
  },
  {
   "cell_type": "code",
   "execution_count": 34,
   "metadata": {},
   "outputs": [
    {
     "data": {
      "text/plain": [
       "(10, 3)"
      ]
     },
     "execution_count": 34,
     "metadata": {},
     "output_type": "execute_result"
    }
   ],
   "source": [
    "a.shape"
   ]
  },
  {
   "cell_type": "code",
   "execution_count": 35,
   "metadata": {},
   "outputs": [
    {
     "data": {
      "text/plain": [
       "array([7, 0, 7])"
      ]
     },
     "execution_count": 35,
     "metadata": {},
     "output_type": "execute_result"
    }
   ],
   "source": [
    "bn.nanargmin(a, axis=0)"
   ]
  },
  {
   "cell_type": "code",
   "execution_count": 36,
   "metadata": {},
   "outputs": [
    {
     "data": {
      "text/plain": [
       "array([6, 5, 0])"
      ]
     },
     "execution_count": 36,
     "metadata": {},
     "output_type": "execute_result"
    }
   ],
   "source": [
    "np.argmax(a, axis=0)"
   ]
  },
  {
   "cell_type": "code",
   "execution_count": 28,
   "metadata": {},
   "outputs": [
    {
     "data": {
      "text/plain": [
       "array([ 0.84656149,  0.85397529,  0.54966248])"
      ]
     },
     "execution_count": 28,
     "metadata": {},
     "output_type": "execute_result"
    }
   ],
   "source": [
    "np.max(a, axis=0)"
   ]
  },
  {
   "cell_type": "code",
   "execution_count": 25,
   "metadata": {},
   "outputs": [
    {
     "data": {
      "text/plain": [
       "array([[ 0.4359949 ,  0.02592623,  0.54966248],\n",
       "       [ 0.43532239,  0.4203678 ,  0.33033482],\n",
       "       [ 0.20464863,  0.61927097,  0.29965467],\n",
       "       [ 0.26682728,  0.62113383,  0.52914209],\n",
       "       [ 0.13457995,  0.51357812,  0.18443987],\n",
       "       [ 0.78533515,  0.85397529,  0.49423684],\n",
       "       [ 0.84656149,  0.07964548,  0.50524609],\n",
       "       [ 0.0652865 ,  0.42812233,  0.09653092],\n",
       "       [ 0.12715997,  0.59674531,  0.226012  ],\n",
       "       [ 0.10694568,  0.22030621,  0.34982629]])"
      ]
     },
     "execution_count": 25,
     "metadata": {},
     "output_type": "execute_result"
    }
   ],
   "source": [
    "a"
   ]
  },
  {
   "cell_type": "code",
   "execution_count": 43,
   "metadata": {},
   "outputs": [],
   "source": [
    "eps = 7./3 - 4./3 -1"
   ]
  },
  {
   "cell_type": "code",
   "execution_count": 69,
   "metadata": {},
   "outputs": [
    {
     "data": {
      "text/plain": [
       "array([[ 0.48129143,  0.1       ,  0.5869822 ],\n",
       "       [ 0.48066611,  0.46676099,  0.38304622],\n",
       "       [ 0.26618026,  0.65170579,  0.3545191 ],\n",
       "       [ 0.32399542,  0.65343793,  0.56790186],\n",
       "       [ 0.20102876,  0.55343012,  0.24738968],\n",
       "       [ 0.80611615,  0.86993936,  0.53544614],\n",
       "       [ 0.86304583,  0.14994941,  0.5456828 ],\n",
       "       [ 0.1365981 ,  0.47397132,  0.16564988],\n",
       "       [ 0.1941295 ,  0.63076091,  0.28604442],\n",
       "       [ 0.17533378,  0.28073904,  0.40116984],\n",
       "       [ 0.51085291,  0.26347875,  0.67135832],\n",
       "       [ 0.5250628 ,  0.54567409,  0.43563501],\n",
       "       [ 0.81383583,  0.61519462,  0.22680221],\n",
       "       [ 0.72746909,  0.97275531,  0.54081264],\n",
       "       [ 0.90298972,  0.39353354,  0.60323704],\n",
       "       [ 0.47343541,  0.48199099,  0.79795605],\n",
       "       [ 0.57391046,  0.96270499,  0.58191064],\n",
       "       [ 0.15222696,  0.41652691,  0.86703386],\n",
       "       [ 0.45365721,  0.10118658,  0.30572435],\n",
       "       [ 0.13832559,  1.        ,  0.97836143]])"
      ]
     },
     "execution_count": 69,
     "metadata": {},
     "output_type": "execute_result"
    }
   ],
   "source": []
  },
  {
   "cell_type": "code",
   "execution_count": 70,
   "metadata": {},
   "outputs": [
    {
     "data": {
      "text/plain": [
       "array([[ nan,  nan,  nan],\n",
       "       [ nan,  nan,  nan],\n",
       "       [ nan,  nan,  nan],\n",
       "       [ nan,  nan,  nan],\n",
       "       [ nan,  nan,  nan],\n",
       "       [ nan,  nan,  nan],\n",
       "       [ nan,  nan,  nan],\n",
       "       [ nan,  nan,  nan],\n",
       "       [ nan,  nan,  nan],\n",
       "       [ nan,  nan,  nan],\n",
       "       [ nan,  nan,  nan],\n",
       "       [ nan,  nan,  nan],\n",
       "       [ nan,  nan,  nan],\n",
       "       [ nan,  nan,  nan],\n",
       "       [ nan,  nan,  nan],\n",
       "       [ nan,  nan,  nan],\n",
       "       [ nan,  nan,  nan],\n",
       "       [ nan,  nan,  nan],\n",
       "       [ nan,  nan,  nan],\n",
       "       [ nan,  nan,  nan]])"
      ]
     },
     "execution_count": 70,
     "metadata": {},
     "output_type": "execute_result"
    }
   ],
   "source": [
    "z = (bn.move_rank(a, window=10, axis=0))\n",
    "np.interp(z, (z.min(), z.max()), (0.1, +1))"
   ]
  },
  {
   "cell_type": "code",
   "execution_count": 8,
   "metadata": {},
   "outputs": [
    {
     "data": {
      "text/plain": [
       "array([[ 2.,  1.,  3.],\n",
       "       [ 3.,  2.,  1.],\n",
       "       [ 1.,  3.,  2.],\n",
       "       [ 1.,  3.,  2.],\n",
       "       [ 1.,  3.,  2.],\n",
       "       [ 2.,  3.,  1.],\n",
       "       [ 3.,  1.,  2.],\n",
       "       [ 1.,  3.,  2.],\n",
       "       [ 1.,  3.,  2.],\n",
       "       [ 1.,  2.,  3.]])"
      ]
     },
     "execution_count": 8,
     "metadata": {},
     "output_type": "execute_result"
    }
   ],
   "source": [
    "np.apply_along_axis(rankdata, axis=1, arr=a)"
   ]
  },
  {
   "cell_type": "code",
   "execution_count": 11,
   "metadata": {},
   "outputs": [],
   "source": [
    "ranks = np.apply_along_axis(rankdata, axis=1, arr=a)"
   ]
  },
  {
   "cell_type": "code",
   "execution_count": 24,
   "metadata": {},
   "outputs": [],
   "source": [
    "counts = np.sum(~np.isnan(ranks), axis=1).reshape(10,1)"
   ]
  },
  {
   "cell_type": "code",
   "execution_count": 25,
   "metadata": {},
   "outputs": [
    {
     "data": {
      "text/plain": [
       "array([[ 2.,  1.,  3.],\n",
       "       [ 3.,  2.,  1.],\n",
       "       [ 1.,  3.,  2.],\n",
       "       [ 1.,  3.,  2.],\n",
       "       [ 1.,  3.,  2.],\n",
       "       [ 2.,  3.,  1.],\n",
       "       [ 3.,  1.,  2.],\n",
       "       [ 1.,  3.,  2.],\n",
       "       [ 1.,  3.,  2.],\n",
       "       [ 1.,  2.,  3.]])"
      ]
     },
     "execution_count": 25,
     "metadata": {},
     "output_type": "execute_result"
    }
   ],
   "source": [
    "ranks"
   ]
  },
  {
   "cell_type": "code",
   "execution_count": 26,
   "metadata": {},
   "outputs": [
    {
     "data": {
      "text/plain": [
       "array([[ 0.66666667,  0.33333333,  1.        ],\n",
       "       [ 1.        ,  0.66666667,  0.33333333],\n",
       "       [ 0.33333333,  1.        ,  0.66666667],\n",
       "       [ 0.33333333,  1.        ,  0.66666667],\n",
       "       [ 0.33333333,  1.        ,  0.66666667],\n",
       "       [ 0.66666667,  1.        ,  0.33333333],\n",
       "       [ 1.        ,  0.33333333,  0.66666667],\n",
       "       [ 0.33333333,  1.        ,  0.66666667],\n",
       "       [ 0.33333333,  1.        ,  0.66666667],\n",
       "       [ 0.33333333,  0.66666667,  1.        ]])"
      ]
     },
     "execution_count": 26,
     "metadata": {},
     "output_type": "execute_result"
    }
   ],
   "source": [
    "np.divide(ranks, counts)"
   ]
  },
  {
   "cell_type": "code",
   "execution_count": null,
   "metadata": {},
   "outputs": [],
   "source": []
  }
 ],
 "metadata": {
  "kernelspec": {
   "display_name": "Python 2.7 (py27_clean)",
   "language": "python",
   "name": "py27_clean"
  },
  "language_info": {
   "codemirror_mode": {
    "name": "ipython",
    "version": 2
   },
   "file_extension": ".py",
   "mimetype": "text/x-python",
   "name": "python",
   "nbconvert_exporter": "python",
   "pygments_lexer": "ipython2",
   "version": "2.7.15"
  }
 },
 "nbformat": 4,
 "nbformat_minor": 2
}
