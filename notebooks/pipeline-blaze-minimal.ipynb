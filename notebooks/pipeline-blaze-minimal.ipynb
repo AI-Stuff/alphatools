{
 "cells": [
  {
   "cell_type": "code",
   "execution_count": 1,
   "metadata": {},
   "outputs": [
    {
     "name": "stderr",
     "output_type": "stream",
     "text": [
      "/anaconda3/envs/py27/lib/python2.7/site-packages/odo/backends/pandas.py:94: FutureWarning: pandas.tslib is deprecated and will be removed in a future version.\n",
      "You can access NaTType as type(pandas.NaT)\n",
      "  @convert.register((pd.Timestamp, pd.Timedelta), (pd.tslib.NaTType, type(None)))\n"
     ]
    }
   ],
   "source": [
    "import blaze as bz\n",
    "import numpy as np\n",
    "import pandas as pd\n",
    "import sqlite3\n",
    "import itertools\n",
    "\n",
    "from zipline.data import bundles\n",
    "from zipline.utils.calendars import get_calendar\n",
    "\n",
    "from zipline.pipeline import Pipeline\n",
    "from zipline.pipeline.data import USEquityPricing\n",
    "from zipline.pipeline.data import DataSet\n",
    "from zipline.pipeline.engine import SimplePipelineEngine\n",
    "from zipline.pipeline.filters import StaticAssets\n",
    "from zipline.pipeline.loaders import USEquityPricingLoader\n",
    "from zipline.pipeline.loaders.blaze import BlazeLoader, from_blaze\n",
    "\n",
    "\n",
    "trading_calendar = get_calendar('NYSE')\n",
    "bundle_data = bundles.load('quandl')\n",
    "\n",
    "# spoof some data\n",
    "\n",
    "np.random.seed(100)\n",
    "\n",
    "start = trading_calendar.closes.index.get_loc('2016-01-04 00:00:00+00:00')\n",
    "end = trading_calendar.closes.index.get_loc('2018-08-06 00:00:00+00:00')\n",
    "\n",
    "#dates = list(trading_calendar.closes.index)[start:end]\n",
    "dates = trading_calendar.closes.index[start:end]\n",
    "sids = bundle_data.asset_finder.sids\n",
    "\n",
    "df = pd.DataFrame(\n",
    "    data={'value': np.random.random(size=len(dates)*len(sids))},\n",
    "    index = pd.MultiIndex.from_tuples(list(itertools.product(dates,sids)), names=('asof_date', 'sid'))\n",
    ")"
   ]
  },
  {
   "cell_type": "code",
   "execution_count": 2,
   "metadata": {},
   "outputs": [],
   "source": [
    "df = df.reset_index()"
   ]
  },
  {
   "cell_type": "code",
   "execution_count": 3,
   "metadata": {},
   "outputs": [],
   "source": [
    "# this is necessary because sqlite3 doesn't like it if we have the time\n",
    "df.asof_date = df.asof_date.dt.date"
   ]
  },
  {
   "cell_type": "code",
   "execution_count": 4,
   "metadata": {},
   "outputs": [
    {
     "data": {
      "text/html": [
       "<div>\n",
       "<style scoped>\n",
       "    .dataframe tbody tr th:only-of-type {\n",
       "        vertical-align: middle;\n",
       "    }\n",
       "\n",
       "    .dataframe tbody tr th {\n",
       "        vertical-align: top;\n",
       "    }\n",
       "\n",
       "    .dataframe thead th {\n",
       "        text-align: right;\n",
       "    }\n",
       "</style>\n",
       "<table border=\"1\" class=\"dataframe\">\n",
       "  <thead>\n",
       "    <tr style=\"text-align: right;\">\n",
       "      <th></th>\n",
       "      <th>asof_date</th>\n",
       "      <th>sid</th>\n",
       "      <th>value</th>\n",
       "    </tr>\n",
       "  </thead>\n",
       "  <tbody>\n",
       "    <tr>\n",
       "      <th>0</th>\n",
       "      <td>2016-01-04</td>\n",
       "      <td>0</td>\n",
       "      <td>0.543405</td>\n",
       "    </tr>\n",
       "    <tr>\n",
       "      <th>1</th>\n",
       "      <td>2016-01-04</td>\n",
       "      <td>1</td>\n",
       "      <td>0.278369</td>\n",
       "    </tr>\n",
       "    <tr>\n",
       "      <th>2</th>\n",
       "      <td>2016-01-04</td>\n",
       "      <td>2</td>\n",
       "      <td>0.424518</td>\n",
       "    </tr>\n",
       "    <tr>\n",
       "      <th>3</th>\n",
       "      <td>2016-01-04</td>\n",
       "      <td>3</td>\n",
       "      <td>0.844776</td>\n",
       "    </tr>\n",
       "    <tr>\n",
       "      <th>4</th>\n",
       "      <td>2016-01-04</td>\n",
       "      <td>4</td>\n",
       "      <td>0.004719</td>\n",
       "    </tr>\n",
       "  </tbody>\n",
       "</table>\n",
       "</div>"
      ],
      "text/plain": [
       "    asof_date  sid     value\n",
       "0  2016-01-04    0  0.543405\n",
       "1  2016-01-04    1  0.278369\n",
       "2  2016-01-04    2  0.424518\n",
       "3  2016-01-04    3  0.844776\n",
       "4  2016-01-04    4  0.004719"
      ]
     },
     "execution_count": 4,
     "metadata": {},
     "output_type": "execute_result"
    }
   ],
   "source": [
    "df.head()"
   ]
  },
  {
   "cell_type": "code",
   "execution_count": 5,
   "metadata": {},
   "outputs": [],
   "source": [
    "# put into sqlite db\n",
    "df.to_sql('ds_table', con=sqlite3.connect('temp.db'), if_exists='replace', index=False)"
   ]
  },
  {
   "cell_type": "code",
   "execution_count": 6,
   "metadata": {},
   "outputs": [
    {
     "name": "stdout",
     "output_type": "stream",
     "text": [
      "[(u'2016-01-04', 0, 0.5434049417909654), (u'2016-01-04', 1, 0.27836938509379616), (u'2016-01-04', 2, 0.4245175907491331), (u'2016-01-04', 3, 0.8447761323199037), (u'2016-01-04', 4, 0.004718856190972565), (u'2016-01-04', 5, 0.12156912078311422), (u'2016-01-04', 6, 0.6707490847267786), (u'2016-01-04', 7, 0.8258527551050476), (u'2016-01-04', 8, 0.13670658968495297), (u'2016-01-04', 9, 0.57509332942725)]\n"
     ]
    }
   ],
   "source": [
    "con = sqlite3.connect('temp.db')\n",
    "cursor = con.cursor()\n",
    "cursor.execute(\"SELECT * FROM ds_table LIMIT 10\")\n",
    "print(cursor.fetchall())"
   ]
  },
  {
   "cell_type": "code",
   "execution_count": 7,
   "metadata": {},
   "outputs": [],
   "source": [
    "from datashape import dshape"
   ]
  },
  {
   "cell_type": "code",
   "execution_count": 19,
   "metadata": {},
   "outputs": [],
   "source": [
    "ds_dshape = dshape(\"var*{asof_date: datetime, sid: int64, value: float64}\")"
   ]
  },
  {
   "cell_type": "code",
   "execution_count": 20,
   "metadata": {},
   "outputs": [
    {
     "data": {
      "text/plain": [
       "dshape(\"var * {asof_date: datetime, sid: int64, value: float64}\")"
      ]
     },
     "execution_count": 20,
     "metadata": {},
     "output_type": "execute_result"
    }
   ],
   "source": [
    "ds_dshape"
   ]
  },
  {
   "cell_type": "code",
   "execution_count": 21,
   "metadata": {},
   "outputs": [],
   "source": [
    "# create the blaze expr\n",
    "\n",
    "expr = bz.Data(\n",
    "    'sqlite:///temp.db::ds_table',\n",
    "    dshape=ds_dshape\n",
    ")"
   ]
  },
  {
   "cell_type": "code",
   "execution_count": 22,
   "metadata": {},
   "outputs": [
    {
     "data": {
      "text/plain": [
       "dshape(\"var * {asof_date: ?date, sid: ?int32, value: ?float32}\")"
      ]
     },
     "execution_count": 22,
     "metadata": {},
     "output_type": "execute_result"
    }
   ],
   "source": [
    "expr.dshape"
   ]
  },
  {
   "cell_type": "code",
   "execution_count": 15,
   "metadata": {},
   "outputs": [
    {
     "data": {
      "text/html": [
       "<div>\n",
       "<style scoped>\n",
       "    .dataframe tbody tr th:only-of-type {\n",
       "        vertical-align: middle;\n",
       "    }\n",
       "\n",
       "    .dataframe tbody tr th {\n",
       "        vertical-align: top;\n",
       "    }\n",
       "\n",
       "    .dataframe thead th {\n",
       "        text-align: right;\n",
       "    }\n",
       "</style>\n",
       "<table border=\"1\" class=\"dataframe\">\n",
       "  <thead>\n",
       "    <tr style=\"text-align: right;\">\n",
       "      <th></th>\n",
       "      <th>asof_date</th>\n",
       "      <th>sid</th>\n",
       "      <th>value</th>\n",
       "    </tr>\n",
       "  </thead>\n",
       "  <tbody>\n",
       "    <tr>\n",
       "      <th>0</th>\n",
       "      <td>2016-01-04</td>\n",
       "      <td>0</td>\n",
       "      <td>0.543405</td>\n",
       "    </tr>\n",
       "    <tr>\n",
       "      <th>1</th>\n",
       "      <td>2016-01-04</td>\n",
       "      <td>1</td>\n",
       "      <td>0.278369</td>\n",
       "    </tr>\n",
       "    <tr>\n",
       "      <th>2</th>\n",
       "      <td>2016-01-04</td>\n",
       "      <td>2</td>\n",
       "      <td>0.424518</td>\n",
       "    </tr>\n",
       "    <tr>\n",
       "      <th>3</th>\n",
       "      <td>2016-01-04</td>\n",
       "      <td>3</td>\n",
       "      <td>0.844776</td>\n",
       "    </tr>\n",
       "    <tr>\n",
       "      <th>4</th>\n",
       "      <td>2016-01-04</td>\n",
       "      <td>4</td>\n",
       "      <td>0.004719</td>\n",
       "    </tr>\n",
       "    <tr>\n",
       "      <th>5</th>\n",
       "      <td>2016-01-04</td>\n",
       "      <td>5</td>\n",
       "      <td>0.121569</td>\n",
       "    </tr>\n",
       "    <tr>\n",
       "      <th>6</th>\n",
       "      <td>2016-01-04</td>\n",
       "      <td>6</td>\n",
       "      <td>0.670749</td>\n",
       "    </tr>\n",
       "    <tr>\n",
       "      <th>7</th>\n",
       "      <td>2016-01-04</td>\n",
       "      <td>7</td>\n",
       "      <td>0.825853</td>\n",
       "    </tr>\n",
       "    <tr>\n",
       "      <th>8</th>\n",
       "      <td>2016-01-04</td>\n",
       "      <td>8</td>\n",
       "      <td>0.136707</td>\n",
       "    </tr>\n",
       "    <tr>\n",
       "      <th>9</th>\n",
       "      <td>2016-01-04</td>\n",
       "      <td>9</td>\n",
       "      <td>0.575093</td>\n",
       "    </tr>\n",
       "    <tr>\n",
       "      <th>10</th>\n",
       "      <td>2016-01-04</td>\n",
       "      <td>10</td>\n",
       "      <td>0.891322</td>\n",
       "    </tr>\n",
       "  </tbody>\n",
       "</table>\n",
       "</div>"
      ],
      "text/plain": [
       "     asof_date  sid     value\n",
       "0   2016-01-04    0  0.543405\n",
       "1   2016-01-04    1  0.278369\n",
       "2   2016-01-04    2  0.424518\n",
       "3   2016-01-04    3  0.844776\n",
       "4   2016-01-04    4  0.004719\n",
       "5   2016-01-04    5  0.121569\n",
       "6   2016-01-04    6  0.670749\n",
       "7   2016-01-04    7  0.825853\n",
       "8   2016-01-04    8  0.136707\n",
       "9   2016-01-04    9  0.575093\n",
       "10  2016-01-04   10  0.891322"
      ]
     },
     "execution_count": 15,
     "metadata": {},
     "output_type": "execute_result"
    }
   ],
   "source": [
    "expr.peek()"
   ]
  },
  {
   "cell_type": "code",
   "execution_count": 16,
   "metadata": {},
   "outputs": [
    {
     "data": {
      "text/plain": [
       "dshape(\"{asof_date: ?date, sid: ?int32, value: ?float32}\")"
      ]
     },
     "execution_count": 16,
     "metadata": {},
     "output_type": "execute_result"
    }
   ],
   "source": [
    "expr.schema"
   ]
  },
  {
   "cell_type": "code",
   "execution_count": 17,
   "metadata": {},
   "outputs": [
    {
     "ename": "TypeError",
     "evalue": "'asof_date' field must be a 'datetime', not: '?date'",
     "output_type": "error",
     "traceback": [
      "\u001b[0;31m---------------------------------------------------------------------------\u001b[0m",
      "\u001b[0;31mTypeError\u001b[0m                                 Traceback (most recent call last)",
      "\u001b[0;32m<ipython-input-17-498da82c3253>\u001b[0m in \u001b[0;36m<module>\u001b[0;34m()\u001b[0m\n\u001b[1;32m      8\u001b[0m     \u001b[0mno_checkpoints_rule\u001b[0m\u001b[0;34m=\u001b[0m\u001b[0;34m'ignore'\u001b[0m\u001b[0;34m,\u001b[0m\u001b[0;34m\u001b[0m\u001b[0m\n\u001b[1;32m      9\u001b[0m     \u001b[0mloader\u001b[0m\u001b[0;34m=\u001b[0m\u001b[0mmy_blaze_loader\u001b[0m\u001b[0;34m,\u001b[0m\u001b[0;34m\u001b[0m\u001b[0m\n\u001b[0;32m---> 10\u001b[0;31m     \u001b[0mmissing_values\u001b[0m\u001b[0;34m=\u001b[0m\u001b[0;34m{\u001b[0m\u001b[0;34m'index'\u001b[0m\u001b[0;34m:\u001b[0m\u001b[0;34m-\u001b[0m\u001b[0;36m1\u001b[0m\u001b[0;34m}\u001b[0m\u001b[0;34m\u001b[0m\u001b[0m\n\u001b[0m\u001b[1;32m     11\u001b[0m )\n",
      "\u001b[0;32m/anaconda3/envs/py27/lib/python2.7/site-packages/zipline/pipeline/loaders/blaze/core.py\u001b[0m in \u001b[0;36mfrom_blaze\u001b[0;34m(expr, deltas, checkpoints, loader, resources, odo_kwargs, missing_values, no_deltas_rule, no_checkpoints_rule)\u001b[0m\n\u001b[1;32m    511\u001b[0m     \u001b[0mno_checkpoints_rule\u001b[0m\u001b[0;34m=\u001b[0m\u001b[0mno_metadata_rules\u001b[0m\u001b[0;34m,\u001b[0m\u001b[0;34m\u001b[0m\u001b[0m\n\u001b[1;32m    512\u001b[0m )\n\u001b[0;32m--> 513\u001b[0;31m def from_blaze(expr,\n\u001b[0m\u001b[1;32m    514\u001b[0m                \u001b[0mdeltas\u001b[0m\u001b[0;34m=\u001b[0m\u001b[0;34m'auto'\u001b[0m\u001b[0;34m,\u001b[0m\u001b[0;34m\u001b[0m\u001b[0m\n\u001b[1;32m    515\u001b[0m                \u001b[0mcheckpoints\u001b[0m\u001b[0;34m=\u001b[0m\u001b[0;34m'auto'\u001b[0m\u001b[0;34m,\u001b[0m\u001b[0;34m\u001b[0m\u001b[0m\n",
      "\u001b[0;32m/anaconda3/envs/py27/lib/python2.7/site-packages/zipline/pipeline/loaders/blaze/core.pyc\u001b[0m in \u001b[0;36mfrom_blaze\u001b[0;34m(expr, deltas, checkpoints, loader, resources, odo_kwargs, missing_values, no_deltas_rule, no_checkpoints_rule)\u001b[0m\n\u001b[1;32m    641\u001b[0m             ),\n\u001b[1;32m    642\u001b[0m         )\n\u001b[0;32m--> 643\u001b[0;31m     \u001b[0m_check_datetime_field\u001b[0m\u001b[0;34m(\u001b[0m\u001b[0mAD_FIELD_NAME\u001b[0m\u001b[0;34m,\u001b[0m \u001b[0mmeasure\u001b[0m\u001b[0;34m)\u001b[0m\u001b[0;34m\u001b[0m\u001b[0m\n\u001b[0m\u001b[1;32m    644\u001b[0m     dataset_expr, deltas, checkpoints = _ensure_timestamp_field(\n\u001b[1;32m    645\u001b[0m         \u001b[0mdataset_expr\u001b[0m\u001b[0;34m,\u001b[0m\u001b[0;34m\u001b[0m\u001b[0m\n",
      "\u001b[0;32m/anaconda3/envs/py27/lib/python2.7/site-packages/zipline/pipeline/loaders/blaze/core.pyc\u001b[0m in \u001b[0;36m_check_datetime_field\u001b[0;34m(name, measure)\u001b[0m\n\u001b[1;32m    384\u001b[0m                 \u001b[0mname\u001b[0m\u001b[0;34m=\u001b[0m\u001b[0mname\u001b[0m\u001b[0;34m,\u001b[0m\u001b[0;34m\u001b[0m\u001b[0m\n\u001b[1;32m    385\u001b[0m                 \u001b[0mdt\u001b[0m\u001b[0;34m=\u001b[0m\u001b[0mDateTime\u001b[0m\u001b[0;34m(\u001b[0m\u001b[0;34m)\u001b[0m\u001b[0;34m,\u001b[0m\u001b[0;34m\u001b[0m\u001b[0m\n\u001b[0;32m--> 386\u001b[0;31m                 \u001b[0mdshape\u001b[0m\u001b[0;34m=\u001b[0m\u001b[0mmeasure\u001b[0m\u001b[0;34m[\u001b[0m\u001b[0mname\u001b[0m\u001b[0;34m]\u001b[0m\u001b[0;34m,\u001b[0m\u001b[0;34m\u001b[0m\u001b[0m\n\u001b[0m\u001b[1;32m    387\u001b[0m             ),\n\u001b[1;32m    388\u001b[0m         )\n",
      "\u001b[0;31mTypeError\u001b[0m: 'asof_date' field must be a 'datetime', not: '?date'"
     ]
    }
   ],
   "source": [
    "# create and empty BlazeLoader\n",
    "my_blaze_loader = BlazeLoader()\n",
    "\n",
    "# create the DataSet\n",
    "ds = from_blaze(\n",
    "    expr,\n",
    "    no_deltas_rule='ignore',\n",
    "    no_checkpoints_rule='ignore',\n",
    "    loader=my_blaze_loader,\n",
    "    missing_values={'index':-1}\n",
    ")"
   ]
  },
  {
   "cell_type": "code",
   "execution_count": 10,
   "metadata": {},
   "outputs": [
    {
     "ename": "NameError",
     "evalue": "name 'ds' is not defined",
     "output_type": "error",
     "traceback": [
      "\u001b[0;31m---------------------------------------------------------------------------\u001b[0m",
      "\u001b[0;31mNameError\u001b[0m                                 Traceback (most recent call last)",
      "\u001b[0;32m<ipython-input-10-6456950f5e35>\u001b[0m in \u001b[0;36m<module>\u001b[0;34m()\u001b[0m\n\u001b[0;32m----> 1\u001b[0;31m \u001b[0missubclass\u001b[0m\u001b[0;34m(\u001b[0m\u001b[0mds\u001b[0m\u001b[0;34m,\u001b[0m \u001b[0mDataSet\u001b[0m\u001b[0;34m)\u001b[0m\u001b[0;34m\u001b[0m\u001b[0m\n\u001b[0m",
      "\u001b[0;31mNameError\u001b[0m: name 'ds' is not defined"
     ]
    }
   ],
   "source": [
    "issubclass(ds, DataSet)"
   ]
  },
  {
   "cell_type": "code",
   "execution_count": 11,
   "metadata": {},
   "outputs": [
    {
     "data": {
      "text/plain": [
       "<BlazeLoader: {<DataSet: 'BlazeDataSet_0'>: ExprData(expr=\"Merge(_child=_1, children=(_1, label(_1.asof_date, 'timestamp')))\", deltas='None', checkpoints='None', odo_kwargs={}, apply_deltas_adjustments=True)}>"
      ]
     },
     "execution_count": 11,
     "metadata": {},
     "output_type": "execute_result"
    }
   ],
   "source": [
    "my_blaze_loader"
   ]
  },
  {
   "cell_type": "code",
   "execution_count": 12,
   "metadata": {},
   "outputs": [],
   "source": [
    "pipeline_loader = USEquityPricingLoader(\n",
    "    bundle_data.equity_daily_bar_reader,\n",
    "    bundle_data.adjustment_reader,\n",
    ")"
   ]
  },
  {
   "cell_type": "code",
   "execution_count": 13,
   "metadata": {},
   "outputs": [],
   "source": [
    "def choose_loader(column):\n",
    "    if column in USEquityPricing.columns:\n",
    "        return pipeline_loader\n",
    "    else:\n",
    "        return my_blaze_loader"
   ]
  },
  {
   "cell_type": "code",
   "execution_count": 14,
   "metadata": {},
   "outputs": [],
   "source": [
    "engine = SimplePipelineEngine(\n",
    "    get_loader=choose_loader,\n",
    "    calendar=trading_calendar.all_sessions,\n",
    "    asset_finder=bundle_data.asset_finder,\n",
    ")"
   ]
  },
  {
   "cell_type": "code",
   "execution_count": 15,
   "metadata": {},
   "outputs": [],
   "source": [
    "assets = bundle_data.asset_finder.lookup_symbols(['A', 'AAL'], as_of_date=None)"
   ]
  },
  {
   "cell_type": "code",
   "execution_count": 16,
   "metadata": {},
   "outputs": [],
   "source": [
    "p = Pipeline(\n",
    "    columns={\n",
    "        'price': USEquityPricing.close.latest,\n",
    "        'col_A': ds.value.latest,\n",
    "    },\n",
    "    screen=StaticAssets(assets)\n",
    ")"
   ]
  },
  {
   "cell_type": "code",
   "execution_count": 17,
   "metadata": {},
   "outputs": [
    {
     "data": {
      "image/svg+xml": [
       "<svg height=\"194pt\" viewBox=\"0.00 0.00 344.00 194.00\" width=\"344pt\" xmlns=\"http://www.w3.org/2000/svg\" xmlns:xlink=\"http://www.w3.org/1999/xlink\">\n",
       "<g class=\"graph\" id=\"graph0\" transform=\"scale(1 1) rotate(0) translate(4 190)\">\n",
       "<title>G</title>\n",
       "<polygon fill=\"#ffffff\" points=\"-4,4 -4,-190 340,-190 340,4 -4,4\" stroke=\"transparent\"/>\n",
       "<g class=\"cluster\" id=\"clust1\">\n",
       "<title>cluster_Output</title>\n",
       "<polygon fill=\"#ffec8b\" points=\"50,-8 50,-83 322,-83 322,-8 50,-8\" stroke=\"#ffec8b\"/>\n",
       "<text fill=\"#000000\" font-family=\"Times,serif\" font-size=\"14.00\" text-anchor=\"middle\" x=\"186\" y=\"-15.8\">Output</text>\n",
       "</g>\n",
       "<g class=\"cluster\" id=\"clust2\">\n",
       "<title>cluster_Input</title>\n",
       "<polygon fill=\"#ffec8b\" points=\"8,-103 8,-178 328,-178 328,-103 8,-103\" stroke=\"#ffec8b\"/>\n",
       "<text fill=\"#000000\" font-family=\"Times,serif\" font-size=\"14.00\" text-anchor=\"middle\" x=\"168\" y=\"-162.8\">Input</text>\n",
       "</g>\n",
       "<!-- 112120421776 -->\n",
       "<g class=\"node\" id=\"node1\">\n",
       "<title>112120421776</title>\n",
       "<polygon fill=\"#ccebc5\" points=\"313.5,-75 228.5,-75 228.5,-39 313.5,-39 313.5,-75\" stroke=\"#000000\"/>\n",
       "<text fill=\"#000000\" font-family=\"Times,serif\" font-size=\"14.00\" text-anchor=\"middle\" x=\"271\" y=\"-53.3\">StaticAssets</text>\n",
       "</g>\n",
       "<!-- 112120421456 -->\n",
       "<g class=\"node\" id=\"node2\">\n",
       "<title>112120421456</title>\n",
       "<polygon fill=\"#b3cde3\" points=\"210.5,-75 143.5,-75 143.5,-39 210.5,-39 210.5,-75\" stroke=\"#000000\"/>\n",
       "<text fill=\"#000000\" font-family=\"Times,serif\" font-size=\"14.00\" text-anchor=\"middle\" x=\"177\" y=\"-53.3\">Latest(1)</text>\n",
       "</g>\n",
       "<!-- 112120421648 -->\n",
       "<g class=\"node\" id=\"node3\">\n",
       "<title>112120421648</title>\n",
       "<polygon fill=\"#b3cde3\" points=\"125.5,-75 58.5,-75 58.5,-39 125.5,-39 125.5,-75\" stroke=\"#000000\"/>\n",
       "<text fill=\"#000000\" font-family=\"Times,serif\" font-size=\"14.00\" text-anchor=\"middle\" x=\"92\" y=\"-53.3\">Latest(1)</text>\n",
       "</g>\n",
       "<!-- 111890654416 -->\n",
       "<g class=\"node\" id=\"node4\">\n",
       "<title>111890654416</title>\n",
       "<polygon fill=\"#fbb4ae\" points=\"157.5,-147 16.5,-147 16.5,-111 157.5,-111 157.5,-147\" stroke=\"#000000\"/>\n",
       "<text fill=\"#000000\" font-family=\"Times,serif\" font-size=\"14.00\" text-anchor=\"middle\" x=\"87\" y=\"-125.3\">BlazeDataSet_0.value</text>\n",
       "</g>\n",
       "<!-- 111890654416&#45;&gt;112120421648 -->\n",
       "<g class=\"edge\" id=\"edge1\">\n",
       "<title>111890654416-&gt;112120421648</title>\n",
       "<path d=\"M92,-110.8314C92,-110.8314 92,-85.4133 92,-85.4133\" fill=\"none\" stroke=\"#000000\"/>\n",
       "<polygon fill=\"#000000\" points=\"95.5001,-85.4132 92,-75.4133 88.5001,-85.4133 95.5001,-85.4132\" stroke=\"#000000\"/>\n",
       "</g>\n",
       "<!-- 111886271696 -->\n",
       "<g class=\"node\" id=\"node5\">\n",
       "<title>111886271696</title>\n",
       "<polygon fill=\"#fbb4ae\" points=\"320,-147 176,-147 176,-111 320,-111 320,-147\" stroke=\"#000000\"/>\n",
       "<text fill=\"#000000\" font-family=\"Times,serif\" font-size=\"14.00\" text-anchor=\"middle\" x=\"248\" y=\"-125.3\">USEquityPricing.close</text>\n",
       "</g>\n",
       "<!-- 111886271696&#45;&gt;112120421456 -->\n",
       "<g class=\"edge\" id=\"edge2\">\n",
       "<title>111886271696-&gt;112120421456</title>\n",
       "<path d=\"M193.25,-110.8314C193.25,-110.8314 193.25,-85.4133 193.25,-85.4133\" fill=\"none\" stroke=\"#000000\"/>\n",
       "<polygon fill=\"#000000\" points=\"196.7501,-85.4132 193.25,-75.4133 189.7501,-85.4133 196.7501,-85.4132\" stroke=\"#000000\"/>\n",
       "</g>\n",
       "</g>\n",
       "</svg>"
      ],
      "text/plain": [
       "<IPython.core.display.SVG object>"
      ]
     },
     "execution_count": 17,
     "metadata": {},
     "output_type": "execute_result"
    }
   ],
   "source": [
    "p.show_graph()"
   ]
  },
  {
   "cell_type": "code",
   "execution_count": 18,
   "metadata": {},
   "outputs": [],
   "source": [
    "df = engine.run_pipeline(\n",
    "    p,\n",
    "    pd.Timestamp('2016-01-05', tz='utc'),\n",
    "    pd.Timestamp('2018-01-04', tz='utc')\n",
    ")"
   ]
  },
  {
   "cell_type": "code",
   "execution_count": 20,
   "metadata": {},
   "outputs": [
    {
     "data": {
      "text/html": [
       "<div>\n",
       "<table border=\"1\" class=\"dataframe\">\n",
       "  <thead>\n",
       "    <tr style=\"text-align: right;\">\n",
       "      <th></th>\n",
       "      <th></th>\n",
       "      <th>col_A</th>\n",
       "      <th>price</th>\n",
       "    </tr>\n",
       "  </thead>\n",
       "  <tbody>\n",
       "    <tr>\n",
       "      <th rowspan=\"2\" valign=\"top\">2016-01-05 00:00:00+00:00</th>\n",
       "      <th>Equity(0 [A])</th>\n",
       "      <td>0.909776</td>\n",
       "      <td>40.69</td>\n",
       "    </tr>\n",
       "    <tr>\n",
       "      <th>Equity(2 [AAL])</th>\n",
       "      <td>0.913870</td>\n",
       "      <td>40.91</td>\n",
       "    </tr>\n",
       "    <tr>\n",
       "      <th rowspan=\"2\" valign=\"top\">2016-01-06 00:00:00+00:00</th>\n",
       "      <th>Equity(0 [A])</th>\n",
       "      <td>0.326422</td>\n",
       "      <td>40.55</td>\n",
       "    </tr>\n",
       "    <tr>\n",
       "      <th>Equity(2 [AAL])</th>\n",
       "      <td>0.039638</td>\n",
       "      <td>40.52</td>\n",
       "    </tr>\n",
       "    <tr>\n",
       "      <th>2016-01-07 00:00:00+00:00</th>\n",
       "      <th>Equity(0 [A])</th>\n",
       "      <td>0.486700</td>\n",
       "      <td>40.73</td>\n",
       "    </tr>\n",
       "  </tbody>\n",
       "</table>\n",
       "</div>"
      ],
      "text/plain": [
       "                                              col_A  price\n",
       "2016-01-05 00:00:00+00:00 Equity(0 [A])    0.909776  40.69\n",
       "                          Equity(2 [AAL])  0.913870  40.91\n",
       "2016-01-06 00:00:00+00:00 Equity(0 [A])    0.326422  40.55\n",
       "                          Equity(2 [AAL])  0.039638  40.52\n",
       "2016-01-07 00:00:00+00:00 Equity(0 [A])    0.486700  40.73"
      ]
     },
     "execution_count": 20,
     "metadata": {},
     "output_type": "execute_result"
    }
   ],
   "source": [
    "df.head()"
   ]
  },
  {
   "cell_type": "code",
   "execution_count": null,
   "metadata": {},
   "outputs": [],
   "source": []
  },
  {
   "cell_type": "code",
   "execution_count": null,
   "metadata": {},
   "outputs": [],
   "source": []
  },
  {
   "cell_type": "code",
   "execution_count": 30,
   "metadata": {},
   "outputs": [],
   "source": [
    "import blaze as bz\n",
    "from datashape import dshape\n",
    "import numpy as np\n",
    "import pandas as pd\n",
    "import sqlite3"
   ]
  },
  {
   "cell_type": "code",
   "execution_count": 25,
   "metadata": {},
   "outputs": [],
   "source": [
    "np.random.seed(100)\n",
    "\n",
    "start = pd.Timestamp('2015-01-01')\n",
    "end = pd.Timestamp('2015-12-31')\n",
    "dates = pd.date_range(start, end)\n",
    "sids = np.arange(0, 100)\n",
    "\n",
    "df = pd.DataFrame(\n",
    "    data={'value': np.random.random(size=len(dates)*len(sids))},\n",
    "    index = pd.MultiIndex.from_tuples(list(itertools.product(dates,sids)), names=('asof_date', 'sid'))\n",
    ")"
   ]
  },
  {
   "cell_type": "code",
   "execution_count": 27,
   "metadata": {},
   "outputs": [],
   "source": [
    "df = df.reset_index()"
   ]
  },
  {
   "cell_type": "code",
   "execution_count": 28,
   "metadata": {},
   "outputs": [
    {
     "data": {
      "text/html": [
       "<div>\n",
       "<style scoped>\n",
       "    .dataframe tbody tr th:only-of-type {\n",
       "        vertical-align: middle;\n",
       "    }\n",
       "\n",
       "    .dataframe tbody tr th {\n",
       "        vertical-align: top;\n",
       "    }\n",
       "\n",
       "    .dataframe thead th {\n",
       "        text-align: right;\n",
       "    }\n",
       "</style>\n",
       "<table border=\"1\" class=\"dataframe\">\n",
       "  <thead>\n",
       "    <tr style=\"text-align: right;\">\n",
       "      <th></th>\n",
       "      <th>asof_date</th>\n",
       "      <th>sid</th>\n",
       "      <th>value</th>\n",
       "    </tr>\n",
       "  </thead>\n",
       "  <tbody>\n",
       "    <tr>\n",
       "      <th>0</th>\n",
       "      <td>2015-01-01</td>\n",
       "      <td>0</td>\n",
       "      <td>0.543405</td>\n",
       "    </tr>\n",
       "    <tr>\n",
       "      <th>1</th>\n",
       "      <td>2015-01-01</td>\n",
       "      <td>1</td>\n",
       "      <td>0.278369</td>\n",
       "    </tr>\n",
       "    <tr>\n",
       "      <th>2</th>\n",
       "      <td>2015-01-01</td>\n",
       "      <td>2</td>\n",
       "      <td>0.424518</td>\n",
       "    </tr>\n",
       "    <tr>\n",
       "      <th>3</th>\n",
       "      <td>2015-01-01</td>\n",
       "      <td>3</td>\n",
       "      <td>0.844776</td>\n",
       "    </tr>\n",
       "    <tr>\n",
       "      <th>4</th>\n",
       "      <td>2015-01-01</td>\n",
       "      <td>4</td>\n",
       "      <td>0.004719</td>\n",
       "    </tr>\n",
       "  </tbody>\n",
       "</table>\n",
       "</div>"
      ],
      "text/plain": [
       "   asof_date  sid     value\n",
       "0 2015-01-01    0  0.543405\n",
       "1 2015-01-01    1  0.278369\n",
       "2 2015-01-01    2  0.424518\n",
       "3 2015-01-01    3  0.844776\n",
       "4 2015-01-01    4  0.004719"
      ]
     },
     "execution_count": 28,
     "metadata": {},
     "output_type": "execute_result"
    }
   ],
   "source": [
    "df.head()"
   ]
  },
  {
   "cell_type": "code",
   "execution_count": 29,
   "metadata": {},
   "outputs": [],
   "source": [
    "df.to_sql('my_table', con=sqlite3.connect('temp.db'), if_exists='replace', index=False)"
   ]
  },
  {
   "cell_type": "code",
   "execution_count": 37,
   "metadata": {},
   "outputs": [],
   "source": [
    "my_dshape = dshape(\"var*{asof_date: datetime, sid: int64, value: float64}\")"
   ]
  },
  {
   "cell_type": "code",
   "execution_count": 38,
   "metadata": {},
   "outputs": [],
   "source": [
    "expr = bz.Data(\n",
    "    'sqlite:///temp.db::my_table',\n",
    "    dshape=my_dshape\n",
    ")"
   ]
  },
  {
   "cell_type": "code",
   "execution_count": 39,
   "metadata": {},
   "outputs": [
    {
     "data": {
      "text/plain": [
       "dshape(\"var * {asof_date: ?datetime, sid: ?int32, value: ?float32}\")"
      ]
     },
     "execution_count": 39,
     "metadata": {},
     "output_type": "execute_result"
    }
   ],
   "source": [
    "expr.dshape"
   ]
  },
  {
   "cell_type": "code",
   "execution_count": 40,
   "metadata": {},
   "outputs": [
    {
     "name": "stdout",
     "output_type": "stream",
     "text": [
      "alembic==0.7.7\n",
      "alphalens==0.3.2\n",
      "-e git+https://marketneutral@github.com/marketneutral/alphatools.git@458bc866f5a31978986e2cdf49b4f2cf8f54aa87#egg=alphatools\n",
      "appnope==0.1.0\n",
      "asn1crypto==0.24.0\n",
      "backports-abc==0.5\n",
      "backports.functools-lru-cache==1.5\n",
      "backports.shutil-get-terminal-size==1.0.0\n",
      "bcolz==0.12.1\n",
      "blaze==0.10.1\n",
      "Bottleneck==1.2.1\n",
      "certifi==2018.8.13\n",
      "cffi==1.11.5\n",
      "chardet==3.0.4\n",
      "click==6.7\n",
      "contextlib2==0.5.5\n",
      "cryptography==2.3.1\n",
      "cryptography-vectors==2.3.1\n",
      "-e git+https://marketneutral@github.com/marketneutral/cvxportfolio.git@152188adac72c1bce85f1aa526e85b4f611cf497#egg=cvxportfolio\n",
      "cvxpy==1.0.8\n",
      "cycler==0.10.0\n",
      "cyordereddict==0.2.2\n",
      "Cython==0.28.5\n",
      "datashape==0.5.2\n",
      "decorator==4.3.0\n",
      "dill==0.2.8.2\n",
      "ecos==2.0.5\n",
      "empyrical==0.5.0\n",
      "enum34==1.1.6\n",
      "fastcache==1.0.2\n",
      "Flask==1.0.2\n",
      "Flask-Cors==3.0.6\n",
      "future==0.16.0\n",
      "futures==3.2.0\n",
      "idna==2.7\n",
      "intervaltree==2.1.0\n",
      "ipaddress==1.0.22\n",
      "ipykernel==4.8.2\n",
      "ipython==5.8.0\n",
      "ipython-genutils==0.2.0\n",
      "itsdangerous==0.24\n",
      "Jinja2==2.10\n",
      "jupyter-client==5.2.3\n",
      "jupyter-core==4.4.0\n",
      "kiwisolver==1.0.1\n",
      "Logbook==0.12.5\n",
      "lru-dict==1.1.4\n",
      "lxml==4.2.4\n",
      "Mako==1.0.7\n",
      "MarkupSafe==1.0\n",
      "matplotlib==2.2.3\n",
      "multipledispatch==0.5.0\n",
      "multiprocess==0.70.6.1\n",
      "networkx==1.11\n",
      "numexpr==2.6.6\n",
      "numpy==1.14.3\n",
      "odo==0.5.0\n",
      "osqp==0.4.0\n",
      "pandas==0.22.0\n",
      "pandas-datareader==0.6.0\n",
      "pathlib2==2.3.2\n",
      "patsy==0.5.0\n",
      "pexpect==4.6.0\n",
      "pickleshare==0.7.4\n",
      "pkginfo==1.4.2\n",
      "prompt-toolkit==1.0.15\n",
      "psutil==5.4.7\n",
      "ptyprocess==0.6.0\n",
      "pycparser==2.18\n",
      "Pygments==2.2.0\n",
      "pyOpenSSL==18.0.0\n",
      "pyparsing==2.2.0\n",
      "PySocks==1.6.8\n",
      "python-dateutil==2.7.3\n",
      "pytz==2018.5\n",
      "pyzmq==17.1.2\n",
      "requests==2.19.1\n",
      "requests-file==1.4.3\n",
      "requests-ftp==0.3.1\n",
      "requests-toolbelt==0.8.0\n",
      "scandir==1.9.0\n",
      "scikit-learn==0.19.2\n",
      "scipy==1.1.0\n",
      "scs==2.0.2\n",
      "seaborn==0.9.0\n",
      "simplegeneric==0.8.1\n",
      "singledispatch==3.4.0.3\n",
      "six==1.11.0\n",
      "sortedcontainers==1.4.4\n",
      "SQLAlchemy==1.2.10\n",
      "statsmodels==0.9.0\n",
      "subprocess32==3.5.2\n",
      "tables==3.4.4\n",
      "toolz==0.9.0\n",
      "tornado==5.1\n",
      "tqdm==4.25.0\n",
      "trading-calendars==1.0.1\n",
      "traitlets==4.3.2\n",
      "twine==1.11.0\n",
      "urllib3==1.23\n",
      "wcwidth==0.1.7\n",
      "Werkzeug==0.14.1\n",
      "wrapt==1.10.11\n",
      "zipline==1.3.0\n"
     ]
    }
   ],
   "source": [
    "!pip freeze"
   ]
  },
  {
   "cell_type": "code",
   "execution_count": 44,
   "metadata": {},
   "outputs": [
    {
     "data": {
      "text/plain": [
       "[(u'2015-01-01 00:00:00', 0, 0.5434049417909654),\n",
       " (u'2015-01-01 00:00:00', 1, 0.27836938509379616),\n",
       " (u'2015-01-01 00:00:00', 2, 0.4245175907491331)]"
      ]
     },
     "execution_count": 44,
     "metadata": {},
     "output_type": "execute_result"
    }
   ],
   "source": [
    "con = sqlite3.connect('temp.db')\n",
    "cursor = con.cursor()\n",
    "cursor.execute(\"SELECT * FROM my_table LIMIT 3\")\n",
    "cursor.fetchall()"
   ]
  },
  {
   "cell_type": "code",
   "execution_count": 42,
   "metadata": {},
   "outputs": [
    {
     "data": {
      "text/plain": [
       "[(0, u'asof_date', u'TIMESTAMP', 0, None, 0),\n",
       " (1, u'sid', u'INTEGER', 0, None, 0),\n",
       " (2, u'value', u'REAL', 0, None, 0)]"
      ]
     },
     "execution_count": 42,
     "metadata": {},
     "output_type": "execute_result"
    }
   ],
   "source": [
    "cursor.execute(\"PRAGMA table_info('my_table')\").fetchall()"
   ]
  },
  {
   "cell_type": "code",
   "execution_count": null,
   "metadata": {},
   "outputs": [],
   "source": []
  }
 ],
 "metadata": {
  "kernelspec": {
   "display_name": "Python (py27)",
   "language": "python",
   "name": "py27"
  },
  "language_info": {
   "codemirror_mode": {
    "name": "ipython",
    "version": 2
   },
   "file_extension": ".py",
   "mimetype": "text/x-python",
   "name": "python",
   "nbconvert_exporter": "python",
   "pygments_lexer": "ipython2",
   "version": "2.7.15"
  }
 },
 "nbformat": 4,
 "nbformat_minor": 2
}
