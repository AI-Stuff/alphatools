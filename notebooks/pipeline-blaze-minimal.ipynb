{
 "cells": [
  {
   "cell_type": "code",
   "execution_count": 1,
   "metadata": {},
   "outputs": [],
   "source": [
    "import blaze as bz\n",
    "import numpy as np\n",
    "import pandas as pd\n",
    "import sqlite3\n",
    "import itertools\n",
    "\n",
    "from zipline.data import bundles\n",
    "from zipline.utils.calendars import get_calendar\n",
    "\n",
    "from zipline.pipeline import Pipeline\n",
    "from zipline.pipeline.data import USEquityPricing\n",
    "from zipline.pipeline.data import DataSet\n",
    "from zipline.pipeline.engine import SimplePipelineEngine\n",
    "from zipline.pipeline.filters import StaticAssets\n",
    "from zipline.pipeline.loaders import USEquityPricingLoader\n",
    "from zipline.pipeline.loaders.blaze import BlazeLoader, from_blaze\n",
    "\n",
    "\n",
    "trading_calendar = get_calendar('NYSE')\n",
    "bundle_data = bundles.load('quandl')\n",
    "\n",
    "# spoof some data\n",
    "\n",
    "np.random.seed(100)\n",
    "\n",
    "start = trading_calendar.closes.index.get_loc('2016-01-04 00:00:00+00:00')\n",
    "end = trading_calendar.closes.index.get_loc('2018-08-06 00:00:00+00:00')\n",
    "\n",
    "#dates = list(trading_calendar.closes.index)[start:end]\n",
    "dates = trading_calendar.closes.index[start:end]\n",
    "sids = bundle_data.asset_finder.sids\n",
    "\n",
    "df = pd.DataFrame(\n",
    "    data={'value': np.random.random(size=len(dates)*len(sids))},\n",
    "    index = pd.MultiIndex.from_tuples(list(itertools.product(dates,sids)), names=('asof_date', 'sid'))\n",
    ")"
   ]
  },
  {
   "cell_type": "code",
   "execution_count": 2,
   "metadata": {},
   "outputs": [],
   "source": [
    "df = df.reset_index()"
   ]
  },
  {
   "cell_type": "code",
   "execution_count": 3,
   "metadata": {},
   "outputs": [],
   "source": [
    "# this is necessary because sqlite3 doesn't like it if we have the time\n",
    "df.asof_date = df.asof_date.dt.date"
   ]
  },
  {
   "cell_type": "code",
   "execution_count": null,
   "metadata": {},
   "outputs": [],
   "source": []
  },
  {
   "cell_type": "code",
   "execution_count": 4,
   "metadata": {},
   "outputs": [],
   "source": [
    "# put into sqlite db\n",
    "df.to_sql('ds_table', con=sqlite3.connect('temp.db'), if_exists='replace', index=False)"
   ]
  },
  {
   "cell_type": "code",
   "execution_count": 5,
   "metadata": {},
   "outputs": [
    {
     "name": "stdout",
     "output_type": "stream",
     "text": [
      "[(u'2016-01-04', 0, 0.5434049417909654), (u'2016-01-04', 1, 0.27836938509379616), (u'2016-01-04', 2, 0.4245175907491331), (u'2016-01-04', 3, 0.8447761323199037), (u'2016-01-04', 4, 0.004718856190972565), (u'2016-01-04', 5, 0.12156912078311422), (u'2016-01-04', 6, 0.6707490847267786), (u'2016-01-04', 7, 0.8258527551050476), (u'2016-01-04', 8, 0.13670658968495297), (u'2016-01-04', 9, 0.57509332942725)]\n"
     ]
    }
   ],
   "source": [
    "con = sqlite3.connect('temp.db')\n",
    "cursor = con.cursor()\n",
    "cursor.execute(\"SELECT * FROM ds_table LIMIT 10\")\n",
    "print(cursor.fetchall())"
   ]
  },
  {
   "cell_type": "code",
   "execution_count": 6,
   "metadata": {},
   "outputs": [],
   "source": [
    "# create the blaze expr\n",
    "\n",
    "expr = bz.data(\n",
    "    'sqlite:///temp.db::ds_table',\n",
    "    dshape=\"var*{asof_date: datetime, sid: int64, value: float64}\"\n",
    ")"
   ]
  },
  {
   "cell_type": "code",
   "execution_count": 7,
   "metadata": {},
   "outputs": [
    {
     "data": {
      "text/html": [
       "<div>\n",
       "<table border=\"1\" class=\"dataframe\">\n",
       "  <thead>\n",
       "    <tr style=\"text-align: right;\">\n",
       "      <th></th>\n",
       "      <th>asof_date</th>\n",
       "      <th>sid</th>\n",
       "      <th>value</th>\n",
       "    </tr>\n",
       "  </thead>\n",
       "  <tbody>\n",
       "    <tr>\n",
       "      <th>0</th>\n",
       "      <td>2016-01-04</td>\n",
       "      <td>0</td>\n",
       "      <td>0.543405</td>\n",
       "    </tr>\n",
       "    <tr>\n",
       "      <th>1</th>\n",
       "      <td>2016-01-04</td>\n",
       "      <td>1</td>\n",
       "      <td>0.278369</td>\n",
       "    </tr>\n",
       "    <tr>\n",
       "      <th>2</th>\n",
       "      <td>2016-01-04</td>\n",
       "      <td>2</td>\n",
       "      <td>0.424518</td>\n",
       "    </tr>\n",
       "    <tr>\n",
       "      <th>3</th>\n",
       "      <td>2016-01-04</td>\n",
       "      <td>3</td>\n",
       "      <td>0.844776</td>\n",
       "    </tr>\n",
       "    <tr>\n",
       "      <th>4</th>\n",
       "      <td>2016-01-04</td>\n",
       "      <td>4</td>\n",
       "      <td>0.004719</td>\n",
       "    </tr>\n",
       "    <tr>\n",
       "      <th>5</th>\n",
       "      <td>2016-01-04</td>\n",
       "      <td>5</td>\n",
       "      <td>0.121569</td>\n",
       "    </tr>\n",
       "    <tr>\n",
       "      <th>6</th>\n",
       "      <td>2016-01-04</td>\n",
       "      <td>6</td>\n",
       "      <td>0.670749</td>\n",
       "    </tr>\n",
       "    <tr>\n",
       "      <th>7</th>\n",
       "      <td>2016-01-04</td>\n",
       "      <td>7</td>\n",
       "      <td>0.825853</td>\n",
       "    </tr>\n",
       "    <tr>\n",
       "      <th>8</th>\n",
       "      <td>2016-01-04</td>\n",
       "      <td>8</td>\n",
       "      <td>0.136707</td>\n",
       "    </tr>\n",
       "    <tr>\n",
       "      <th>9</th>\n",
       "      <td>2016-01-04</td>\n",
       "      <td>9</td>\n",
       "      <td>0.575093</td>\n",
       "    </tr>\n",
       "    <tr>\n",
       "      <th>10</th>\n",
       "      <td>2016-01-04</td>\n",
       "      <td>10</td>\n",
       "      <td>0.891322</td>\n",
       "    </tr>\n",
       "  </tbody>\n",
       "</table>\n",
       "</div>"
      ],
      "text/plain": [
       "    asof_date  sid     value\n",
       "0  2016-01-04    0  0.543405\n",
       "1  2016-01-04    1  0.278369\n",
       "2  2016-01-04    2  0.424518\n",
       "3  2016-01-04    3  0.844776\n",
       "4  2016-01-04    4  0.004719\n",
       "5  2016-01-04    5  0.121569\n",
       "6  2016-01-04    6  0.670749\n",
       "7  2016-01-04    7  0.825853\n",
       "8  2016-01-04    8  0.136707\n",
       "9  2016-01-04    9  0.575093\n",
       "10 2016-01-04   10  0.891322"
      ]
     },
     "execution_count": 7,
     "metadata": {},
     "output_type": "execute_result"
    }
   ],
   "source": [
    "expr.peek()"
   ]
  },
  {
   "cell_type": "code",
   "execution_count": 8,
   "metadata": {},
   "outputs": [
    {
     "data": {
      "text/plain": [
       "dshape(\"{asof_date: datetime, sid: int64, value: float64}\")"
      ]
     },
     "execution_count": 8,
     "metadata": {},
     "output_type": "execute_result"
    }
   ],
   "source": [
    "expr.schema"
   ]
  },
  {
   "cell_type": "code",
   "execution_count": 9,
   "metadata": {},
   "outputs": [],
   "source": [
    "# create and empty BlazeLoader\n",
    "my_blaze_loader = BlazeLoader()\n",
    "\n",
    "# create the DataSet\n",
    "ds = from_blaze(\n",
    "    expr,\n",
    "    no_deltas_rule='ignore',\n",
    "    no_checkpoints_rule='ignore',\n",
    "    loader=my_blaze_loader,\n",
    "    missing_values={'index':-1}\n",
    ")"
   ]
  },
  {
   "cell_type": "code",
   "execution_count": 10,
   "metadata": {},
   "outputs": [
    {
     "data": {
      "text/plain": [
       "True"
      ]
     },
     "execution_count": 10,
     "metadata": {},
     "output_type": "execute_result"
    }
   ],
   "source": [
    "issubclass(ds, DataSet)"
   ]
  },
  {
   "cell_type": "code",
   "execution_count": 11,
   "metadata": {},
   "outputs": [
    {
     "data": {
      "text/plain": [
       "<BlazeLoader: {<DataSet: 'BlazeDataSet_0'>: ExprData(expr=\"Merge(_child=_1, children=(_1, label(_1.asof_date, 'timestamp')))\", deltas='None', checkpoints='None', odo_kwargs={}, apply_deltas_adjustments=True)}>"
      ]
     },
     "execution_count": 11,
     "metadata": {},
     "output_type": "execute_result"
    }
   ],
   "source": [
    "my_blaze_loader"
   ]
  },
  {
   "cell_type": "code",
   "execution_count": 12,
   "metadata": {},
   "outputs": [],
   "source": [
    "pipeline_loader = USEquityPricingLoader(\n",
    "    bundle_data.equity_daily_bar_reader,\n",
    "    bundle_data.adjustment_reader,\n",
    ")"
   ]
  },
  {
   "cell_type": "code",
   "execution_count": 13,
   "metadata": {},
   "outputs": [],
   "source": [
    "def choose_loader(column):\n",
    "    if column in USEquityPricing.columns:\n",
    "        return pipeline_loader\n",
    "    else:\n",
    "        return my_blaze_loader"
   ]
  },
  {
   "cell_type": "code",
   "execution_count": 14,
   "metadata": {},
   "outputs": [],
   "source": [
    "engine = SimplePipelineEngine(\n",
    "    get_loader=choose_loader,\n",
    "    calendar=trading_calendar.all_sessions,\n",
    "    asset_finder=bundle_data.asset_finder,\n",
    ")"
   ]
  },
  {
   "cell_type": "code",
   "execution_count": 15,
   "metadata": {},
   "outputs": [],
   "source": [
    "assets = bundle_data.asset_finder.lookup_symbols(['A', 'AAL'], as_of_date=None)"
   ]
  },
  {
   "cell_type": "code",
   "execution_count": 16,
   "metadata": {},
   "outputs": [],
   "source": [
    "p = Pipeline(\n",
    "    columns={\n",
    "        'price': USEquityPricing.close.latest,\n",
    "        'col_A': ds.value.latest,\n",
    "    },\n",
    "    screen=StaticAssets(assets)\n",
    ")"
   ]
  },
  {
   "cell_type": "code",
   "execution_count": 17,
   "metadata": {},
   "outputs": [
    {
     "data": {
      "image/svg+xml": [
       "<svg height=\"194pt\" viewBox=\"0.00 0.00 344.00 194.00\" width=\"344pt\" xmlns=\"http://www.w3.org/2000/svg\" xmlns:xlink=\"http://www.w3.org/1999/xlink\">\n",
       "<g class=\"graph\" id=\"graph0\" transform=\"scale(1 1) rotate(0) translate(4 190)\">\n",
       "<title>G</title>\n",
       "<polygon fill=\"#ffffff\" points=\"-4,4 -4,-190 340,-190 340,4 -4,4\" stroke=\"transparent\"/>\n",
       "<g class=\"cluster\" id=\"clust1\">\n",
       "<title>cluster_Output</title>\n",
       "<polygon fill=\"#ffec8b\" points=\"50,-8 50,-83 322,-83 322,-8 50,-8\" stroke=\"#ffec8b\"/>\n",
       "<text fill=\"#000000\" font-family=\"Times,serif\" font-size=\"14.00\" text-anchor=\"middle\" x=\"186\" y=\"-15.8\">Output</text>\n",
       "</g>\n",
       "<g class=\"cluster\" id=\"clust2\">\n",
       "<title>cluster_Input</title>\n",
       "<polygon fill=\"#ffec8b\" points=\"8,-103 8,-178 328,-178 328,-103 8,-103\" stroke=\"#ffec8b\"/>\n",
       "<text fill=\"#000000\" font-family=\"Times,serif\" font-size=\"14.00\" text-anchor=\"middle\" x=\"168\" y=\"-162.8\">Input</text>\n",
       "</g>\n",
       "<!-- 112120421776 -->\n",
       "<g class=\"node\" id=\"node1\">\n",
       "<title>112120421776</title>\n",
       "<polygon fill=\"#ccebc5\" points=\"313.5,-75 228.5,-75 228.5,-39 313.5,-39 313.5,-75\" stroke=\"#000000\"/>\n",
       "<text fill=\"#000000\" font-family=\"Times,serif\" font-size=\"14.00\" text-anchor=\"middle\" x=\"271\" y=\"-53.3\">StaticAssets</text>\n",
       "</g>\n",
       "<!-- 112120421456 -->\n",
       "<g class=\"node\" id=\"node2\">\n",
       "<title>112120421456</title>\n",
       "<polygon fill=\"#b3cde3\" points=\"210.5,-75 143.5,-75 143.5,-39 210.5,-39 210.5,-75\" stroke=\"#000000\"/>\n",
       "<text fill=\"#000000\" font-family=\"Times,serif\" font-size=\"14.00\" text-anchor=\"middle\" x=\"177\" y=\"-53.3\">Latest(1)</text>\n",
       "</g>\n",
       "<!-- 112120421648 -->\n",
       "<g class=\"node\" id=\"node3\">\n",
       "<title>112120421648</title>\n",
       "<polygon fill=\"#b3cde3\" points=\"125.5,-75 58.5,-75 58.5,-39 125.5,-39 125.5,-75\" stroke=\"#000000\"/>\n",
       "<text fill=\"#000000\" font-family=\"Times,serif\" font-size=\"14.00\" text-anchor=\"middle\" x=\"92\" y=\"-53.3\">Latest(1)</text>\n",
       "</g>\n",
       "<!-- 111890654416 -->\n",
       "<g class=\"node\" id=\"node4\">\n",
       "<title>111890654416</title>\n",
       "<polygon fill=\"#fbb4ae\" points=\"157.5,-147 16.5,-147 16.5,-111 157.5,-111 157.5,-147\" stroke=\"#000000\"/>\n",
       "<text fill=\"#000000\" font-family=\"Times,serif\" font-size=\"14.00\" text-anchor=\"middle\" x=\"87\" y=\"-125.3\">BlazeDataSet_0.value</text>\n",
       "</g>\n",
       "<!-- 111890654416&#45;&gt;112120421648 -->\n",
       "<g class=\"edge\" id=\"edge1\">\n",
       "<title>111890654416-&gt;112120421648</title>\n",
       "<path d=\"M92,-110.8314C92,-110.8314 92,-85.4133 92,-85.4133\" fill=\"none\" stroke=\"#000000\"/>\n",
       "<polygon fill=\"#000000\" points=\"95.5001,-85.4132 92,-75.4133 88.5001,-85.4133 95.5001,-85.4132\" stroke=\"#000000\"/>\n",
       "</g>\n",
       "<!-- 111886271696 -->\n",
       "<g class=\"node\" id=\"node5\">\n",
       "<title>111886271696</title>\n",
       "<polygon fill=\"#fbb4ae\" points=\"320,-147 176,-147 176,-111 320,-111 320,-147\" stroke=\"#000000\"/>\n",
       "<text fill=\"#000000\" font-family=\"Times,serif\" font-size=\"14.00\" text-anchor=\"middle\" x=\"248\" y=\"-125.3\">USEquityPricing.close</text>\n",
       "</g>\n",
       "<!-- 111886271696&#45;&gt;112120421456 -->\n",
       "<g class=\"edge\" id=\"edge2\">\n",
       "<title>111886271696-&gt;112120421456</title>\n",
       "<path d=\"M193.25,-110.8314C193.25,-110.8314 193.25,-85.4133 193.25,-85.4133\" fill=\"none\" stroke=\"#000000\"/>\n",
       "<polygon fill=\"#000000\" points=\"196.7501,-85.4132 193.25,-75.4133 189.7501,-85.4133 196.7501,-85.4132\" stroke=\"#000000\"/>\n",
       "</g>\n",
       "</g>\n",
       "</svg>"
      ],
      "text/plain": [
       "<IPython.core.display.SVG object>"
      ]
     },
     "execution_count": 17,
     "metadata": {},
     "output_type": "execute_result"
    }
   ],
   "source": [
    "p.show_graph()"
   ]
  },
  {
   "cell_type": "code",
   "execution_count": 18,
   "metadata": {},
   "outputs": [],
   "source": [
    "df = engine.run_pipeline(\n",
    "    p,\n",
    "    pd.Timestamp('2016-01-05', tz='utc'),\n",
    "    pd.Timestamp('2018-01-04', tz='utc')\n",
    ")"
   ]
  },
  {
   "cell_type": "code",
   "execution_count": 20,
   "metadata": {},
   "outputs": [
    {
     "data": {
      "text/html": [
       "<div>\n",
       "<table border=\"1\" class=\"dataframe\">\n",
       "  <thead>\n",
       "    <tr style=\"text-align: right;\">\n",
       "      <th></th>\n",
       "      <th></th>\n",
       "      <th>col_A</th>\n",
       "      <th>price</th>\n",
       "    </tr>\n",
       "  </thead>\n",
       "  <tbody>\n",
       "    <tr>\n",
       "      <th rowspan=\"2\" valign=\"top\">2016-01-05 00:00:00+00:00</th>\n",
       "      <th>Equity(0 [A])</th>\n",
       "      <td>0.909776</td>\n",
       "      <td>40.69</td>\n",
       "    </tr>\n",
       "    <tr>\n",
       "      <th>Equity(2 [AAL])</th>\n",
       "      <td>0.913870</td>\n",
       "      <td>40.91</td>\n",
       "    </tr>\n",
       "    <tr>\n",
       "      <th rowspan=\"2\" valign=\"top\">2016-01-06 00:00:00+00:00</th>\n",
       "      <th>Equity(0 [A])</th>\n",
       "      <td>0.326422</td>\n",
       "      <td>40.55</td>\n",
       "    </tr>\n",
       "    <tr>\n",
       "      <th>Equity(2 [AAL])</th>\n",
       "      <td>0.039638</td>\n",
       "      <td>40.52</td>\n",
       "    </tr>\n",
       "    <tr>\n",
       "      <th>2016-01-07 00:00:00+00:00</th>\n",
       "      <th>Equity(0 [A])</th>\n",
       "      <td>0.486700</td>\n",
       "      <td>40.73</td>\n",
       "    </tr>\n",
       "  </tbody>\n",
       "</table>\n",
       "</div>"
      ],
      "text/plain": [
       "                                              col_A  price\n",
       "2016-01-05 00:00:00+00:00 Equity(0 [A])    0.909776  40.69\n",
       "                          Equity(2 [AAL])  0.913870  40.91\n",
       "2016-01-06 00:00:00+00:00 Equity(0 [A])    0.326422  40.55\n",
       "                          Equity(2 [AAL])  0.039638  40.52\n",
       "2016-01-07 00:00:00+00:00 Equity(0 [A])    0.486700  40.73"
      ]
     },
     "execution_count": 20,
     "metadata": {},
     "output_type": "execute_result"
    }
   ],
   "source": [
    "df.head()"
   ]
  },
  {
   "cell_type": "code",
   "execution_count": null,
   "metadata": {},
   "outputs": [],
   "source": []
  }
 ],
 "metadata": {
  "kernelspec": {
   "display_name": "Python (py27)",
   "language": "python",
   "name": "py27"
  },
  "language_info": {
   "codemirror_mode": {
    "name": "ipython",
    "version": 2
   },
   "file_extension": ".py",
   "mimetype": "text/x-python",
   "name": "python",
   "nbconvert_exporter": "python",
   "pygments_lexer": "ipython2",
   "version": "2.7.15"
  }
 },
 "nbformat": 4,
 "nbformat_minor": 2
}
